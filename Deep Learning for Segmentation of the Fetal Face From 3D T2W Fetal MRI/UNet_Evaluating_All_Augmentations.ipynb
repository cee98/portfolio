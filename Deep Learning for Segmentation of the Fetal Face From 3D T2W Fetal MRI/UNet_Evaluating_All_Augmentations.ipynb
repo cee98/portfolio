{
  "nbformat": 4,
  "nbformat_minor": 0,
  "metadata": {
    "colab": {
      "provenance": []
    },
    "kernelspec": {
      "name": "python3",
      "display_name": "Python 3"
    },
    "language_info": {
      "name": "python"
    }
  },
  "cells": [
    {
      "cell_type": "code",
      "execution_count": null,
      "metadata": {
        "colab": {
          "base_uri": "https://localhost:8080/"
        },
        "id": "StuhdeDXq32U",
        "outputId": "e34f8ee5-8222-42cc-eca4-c7508a1f60fe"
      },
      "outputs": [
        {
          "output_type": "stream",
          "name": "stdout",
          "text": [
            "Collecting SimpleITK\n",
            "  Downloading SimpleITK-2.2.1-cp310-cp310-manylinux_2_17_x86_64.manylinux2014_x86_64.whl (52.7 MB)\n",
            "\u001b[2K     \u001b[90m━━━━━━━━━━━━━━━━━━━━━━━━━━━━━━━━━━━━━━━━\u001b[0m \u001b[32m52.7/52.7 MB\u001b[0m \u001b[31m15.0 MB/s\u001b[0m eta \u001b[36m0:00:00\u001b[0m\n",
            "\u001b[?25hInstalling collected packages: SimpleITK\n",
            "Successfully installed SimpleITK-2.2.1\n"
          ]
        }
      ],
      "source": [
        "# Install SimpleITK\n",
        "!pip install SimpleITK\n",
        "\n",
        "#Import modules\n",
        "import numpy as np\n",
        "import nibabel as nib\n",
        "from sklearn.mixture import GaussianMixture\n",
        "\n",
        "import os\n",
        "import sys\n",
        "\n",
        "%matplotlib inline\n",
        "import matplotlib.pyplot as plt\n",
        "\n",
        "import SimpleITK as sitk\n",
        "import nibabel as nib\n",
        "import pandas as pd\n",
        "import seaborn as sns\n",
        "\n",
        "import torch\n",
        "import torch.nn as nn\n",
        "import torch.optim as optim\n",
        "\n",
        "from sklearn.metrics import precision_score, recall_score"
      ]
    },
    {
      "cell_type": "code",
      "source": [
        "# mount drive with files\n",
        "\n",
        "from google.colab import drive\n",
        "drive.mount('/content/drive')\n",
        "\n",
        "\n",
        "!pip install -q \"monai-weekly[nibabel, tqdm, einops]\"\n",
        "!python -c \"import matplotlib\" || pip install -q matplotlib\n",
        "%matplotlib inline\n"
      ],
      "metadata": {
        "id": "T0trx-vWridx",
        "colab": {
          "base_uri": "https://localhost:8080/"
        },
        "outputId": "e1cf4684-b27d-49d2-aa77-e6d5cbf35697"
      },
      "execution_count": null,
      "outputs": [
        {
          "output_type": "stream",
          "name": "stdout",
          "text": [
            "Mounted at /content/drive\n",
            "\u001b[2K     \u001b[90m━━━━━━━━━━━━━━━━━━━━━━━━━━━━━━━━━━━━━━━━\u001b[0m \u001b[32m1.3/1.3 MB\u001b[0m \u001b[31m8.5 MB/s\u001b[0m eta \u001b[36m0:00:00\u001b[0m\n",
            "\u001b[2K     \u001b[90m━━━━━━━━━━━━━━━━━━━━━━━━━━━━━━━━━━━━━━━━\u001b[0m \u001b[32m42.2/42.2 kB\u001b[0m \u001b[31m4.6 MB/s\u001b[0m eta \u001b[36m0:00:00\u001b[0m\n",
            "\u001b[?25h"
          ]
        }
      ]
    },
    {
      "cell_type": "code",
      "source": [
        "#Importing all epoch losses and metric values from each augmentations + UNet\n",
        "\n",
        "unet_no_aug_epoch_loss = np.load('/content/drive/MyDrive/face-seg-project-2023/new-training-062023/face_epoch_loss_values_unetwithaug_ABSOLUTELY_NOAUG.npy')\n",
        "unet_no_aug_metric_values = np.load('/content/drive/MyDrive/face-seg-project-2023/new-training-062023/face_metric_values_unetwithaug_ABSOLUTELY_NOAUG.npy')\n",
        "\n",
        "unet_cropforegroundd_epoch_loss = np.load('/content/drive/MyDrive/face-seg-project-2023/new-training-062023/face_epoch_loss_values_unetwithaug_CropForegroundd.npy')\n",
        "unet_cropforegroundd_metric_values = np.load('/content/drive/MyDrive/face-seg-project-2023/new-training-062023/face_metric_values_unetwithaug_CropForegroundd.npy')\n",
        "\n",
        "unet_RandAdjustContrastd_epoch_loss = np.load('/content/drive/MyDrive/face-seg-project-2023/new-training-062023/face_epoch_loss_values_unetwithaug_RandAdjustContrastd.npy')\n",
        "unet_RandAdjustContrastd_metric_values = np.load('/content/drive/MyDrive/face-seg-project-2023/new-training-062023/face_metric_values_unetwithaug_RandAdjustContrastd.npy')\n",
        "\n",
        "unet_RandCoarseDropoutd_epoch_loss = np.load('/content/drive/MyDrive/face-seg-project-2023/new-training-062023/face_epoch_loss_values_unetwithaug_RandCoarseDropoutd.npy')\n",
        "unet_RandCoarseDropoutd_metric_values = np.load('/content/drive/MyDrive/face-seg-project-2023/new-training-062023/face_metric_values_unetwithaug_RandCoarseDropoutd.npy')\n",
        "\n",
        "unet_RandFlipd_epoch_loss = np.load('/content/drive/MyDrive/face-seg-project-2023/new-training-062023/face_epoch_loss_values_unetwithaug_RandFlipd.npy')\n",
        "unet_RandFlipd_metric_values = np.load('/content/drive/MyDrive/face-seg-project-2023/new-training-062023/face_metric_values_unetwithaug_RandFlipd.npy')\n",
        "\n",
        "unet_RandGaussianSharpend_epoch_loss = np.load('/content/drive/MyDrive/face-seg-project-2023/new-training-062023/face_epoch_loss_values_unetwithaug_RandGaussianSharpend.npy')\n",
        "unet_RandGaussianSharpend_metric_values = np.load('/content/drive/MyDrive/face-seg-project-2023/new-training-062023/face_metric_values_unetwithaug_RandGaussianSharpend.npy')\n",
        "\n",
        "unet_RandGaussianSmoothd_epoch_loss = np.load('/content/drive/MyDrive/face-seg-project-2023/new-training-062023/face_epoch_loss_values_unetwithaug_RandGaussianSmoothd.npy')\n",
        "unet_RandGaussianSmoothd_metric_values = np.load('/content/drive/MyDrive/face-seg-project-2023/new-training-062023/face_metric_values_unetwithaug_RandGaussianSmoothd.npy')\n",
        "\n",
        "unet_RandGibbsNoised_epoch_loss = np.load('/content/drive/MyDrive/face-seg-project-2023/new-training-062023/face_epoch_loss_values_unetwithaug_RandGibbsNoised.npy')\n",
        "unet_RandGibbsNoised_metric_values = np.load('/content/drive/MyDrive/face-seg-project-2023/new-training-062023/face_metric_values_unetwithaug_RandGibbsNoised.npy')\n",
        "\n",
        "unet_RandKSpaceSpikeNoised_epoch_loss = np.load('/content/drive/MyDrive/face-seg-project-2023/new-training-062023/face_epoch_loss_values_unetwithaug_RandKSpaceSpikeNoised.npy')\n",
        "unet_RandKSpaceSpikeNoised_metric_values = np.load('/content/drive/MyDrive/face-seg-project-2023/new-training-062023/face_metric_values_unetwithaug_RandKSpaceSpikeNoised.npy')\n",
        "\n",
        "unet_RandAffined_epoch_loss = np.load('/content/drive/MyDrive/face-seg-project-2023/new-training-062023/face_epoch_loss_values_unetwithaug_RandAffined.npy')\n",
        "unet_RandAffined_metric_values = np.load('/content/drive/MyDrive/face-seg-project-2023/new-training-062023/face_metric_values_unetwithaug_RandAffined.npy')\n",
        "\n",
        "unet_RandBiasFieldd_epoch_loss = np.load('/content/drive/MyDrive/face-seg-project-2023/new-training-062023/face_epoch_loss_values_unetwithaug_RandBiasFieldd.npy')\n",
        "unet_RandBiasFieldd_metric_values = np.load('/content/drive/MyDrive/face-seg-project-2023/new-training-062023/face_metric_values_unetwithaug_RandBiasFieldd.npy')"
      ],
      "metadata": {
        "id": "U7R4FjAmrj7x"
      },
      "execution_count": null,
      "outputs": []
    },
    {
      "cell_type": "code",
      "source": [
        "def Extract_x_y(loss_np_load):\n",
        "  x = [(i + 1) for i in range(len(loss_np_load))]\n",
        "  y = loss_np_load\n",
        "  return x,y"
      ],
      "metadata": {
        "id": "M0Ehac9VE934"
      },
      "execution_count": null,
      "outputs": []
    },
    {
      "cell_type": "code",
      "source": [
        "import plotly.graph_objects as go\n",
        "import numpy as np\n",
        "\n",
        "\n",
        "# Create traces\n",
        "fig = go.Figure()\n",
        "x, y = Extract_x_y(unet_no_aug_epoch_loss)\n",
        "fig.add_trace(go.Scatter(x=x, y=y,\n",
        "                    mode='lines+markers',\n",
        "                    name='No Augmentations'))\n",
        "x, y = Extract_x_y(unet_cropforegroundd_epoch_loss)\n",
        "fig.add_trace(go.Scatter(x=x, y=y,\n",
        "                    mode='lines',\n",
        "                    name='Crop Foreground'))\n",
        "x, y = Extract_x_y(unet_RandAdjustContrastd_epoch_loss)\n",
        "fig.add_trace(go.Scatter(x=x, y=y,\n",
        "                    mode='lines',\n",
        "                    name='Rand Adjust Contrast'))\n",
        "x, y = Extract_x_y(unet_RandCoarseDropoutd_epoch_loss)\n",
        "fig.add_trace(go.Scatter(x=x, y=y,\n",
        "                    mode='lines',\n",
        "                    name='Rand Coarse Dropout'))\n",
        "x, y = Extract_x_y(unet_RandFlipd_epoch_loss)\n",
        "fig.add_trace(go.Scatter(x=x, y=y,\n",
        "                    mode='lines',\n",
        "                    name='Rand Flipd'))\n",
        "x, y = Extract_x_y(unet_RandGaussianSharpend_epoch_loss)\n",
        "fig.add_trace(go.Scatter(x=x, y=y,\n",
        "                    mode='lines',\n",
        "                    name='Rand Gaussian Sharpen'))\n",
        "x, y = Extract_x_y(unet_RandGaussianSmoothd_epoch_loss)\n",
        "fig.add_trace(go.Scatter(x=x, y=y,\n",
        "                    mode='lines',\n",
        "                    name='Rand Gaussian Smooth'))\n",
        "x, y = Extract_x_y(unet_RandGibbsNoised_epoch_loss)\n",
        "fig.add_trace(go.Scatter(x=x, y=y,\n",
        "                    mode='lines',\n",
        "                    name='Rand Gibbs Noise'))\n",
        "x, y = Extract_x_y(unet_RandKSpaceSpikeNoised_epoch_loss)\n",
        "fig.add_trace(go.Scatter(x=x, y=y,\n",
        "                    mode='lines',\n",
        "                    name='Rand KSpace Spike Noise'))\n",
        "x, y = Extract_x_y(unet_RandAffined_epoch_loss)\n",
        "fig.add_trace(go.Scatter(x=x, y=y,\n",
        "                    mode='lines',\n",
        "                    name='Rand Affine'))\n",
        "x, y = Extract_x_y(unet_RandBiasFieldd_epoch_loss)\n",
        "fig.add_trace(go.Scatter(x=x, y=y,\n",
        "                    mode='lines',\n",
        "                    name='Rand Bias Field'))\n",
        "\n",
        "\n",
        "\n",
        "\n",
        "\n",
        "# Edit the layout\n",
        "fig.update_layout(title='Iteration Average DiceCE Loss for Each Augmentation',\n",
        "                   xaxis_title='Iteration',\n",
        "                   yaxis_title='Average DiceCE Loss')\n",
        "\n",
        "\n",
        "fig.show()"
      ],
      "metadata": {
        "colab": {
          "base_uri": "https://localhost:8080/",
          "height": 542
        },
        "id": "3DB5i1ll_kJu",
        "outputId": "a60697bd-2679-4eea-bed3-177fb95aea76"
      },
      "execution_count": null,
      "outputs": [
        {
          "output_type": "display_data",
          "data": {
            "text/html": [
              "<html>\n",
              "<head><meta charset=\"utf-8\" /></head>\n",
              "<body>\n",
              "    <div>            <script src=\"https://cdnjs.cloudflare.com/ajax/libs/mathjax/2.7.5/MathJax.js?config=TeX-AMS-MML_SVG\"></script><script type=\"text/javascript\">if (window.MathJax && window.MathJax.Hub && window.MathJax.Hub.Config) {window.MathJax.Hub.Config({SVG: {font: \"STIX-Web\"}});}</script>                <script type=\"text/javascript\">window.PlotlyConfig = {MathJaxConfig: 'local'};</script>\n",
              "        <script charset=\"utf-8\" src=\"https://cdn.plot.ly/plotly-2.24.1.min.js\"></script>                <div id=\"87b822e2-95d9-437d-a1ba-3089dff409bc\" class=\"plotly-graph-div\" style=\"height:525px; width:100%;\"></div>            <script type=\"text/javascript\">                                    window.PLOTLYENV=window.PLOTLYENV || {};                                    if (document.getElementById(\"87b822e2-95d9-437d-a1ba-3089dff409bc\")) {                    Plotly.newPlot(                        \"87b822e2-95d9-437d-a1ba-3089dff409bc\",                        [{\"mode\":\"lines+markers\",\"name\":\"No Augmentations\",\"x\":[1,2,3,4,5,6,7,8,9,10,11,12,13,14,15,16,17,18,19,20,21,22,23,24,25,26,27,28,29,30,31,32,33,34,35,36,37,38,39,40,41,42,43,44,45,46,47,48,49,50,51,52,53,54,55,56,57,58,59,60,61,62,63,64,65,66,67,68,69,70],\"y\":[0.9027017435512027,0.6833564826886948,0.5502925978766547,0.45267560084660846,0.3523549314807443,0.33142597326692547,0.21303493210247584,0.24198008346003155,0.20849067614048342,0.18278428460612442,0.1598195254370786,0.14101655716481415,0.12282307875358452,0.0884539525096233,0.09825633724733275,0.081784983476003,0.08000270200845523,0.07778481781482696,0.0676146854871306,0.06390193494466635,0.05643538228775326,0.05441153611649167,0.04844158887863159,0.04712693062093523,0.044942500851588484,0.043222719643797196,0.03982078407327054,0.03806266143918038,0.037171072860965965,0.033165825779239336,0.03536723517611915,0.0352455522865057,0.031231405576918184,0.030687758529728108,0.02903505757210716,0.026761837581645197,0.028225487541584743,0.028388145984264843,0.022799165750091725,0.026126141402315586,0.020359400659799576,0.024613442654545244,0.024596161630055676,0.02266075275838375,0.023371672198649437,0.021266138728927162,0.022337970974029234,0.02780110921178545,0.02121110438087652,0.02213890008816991,0.021227902309461075,0.02086102868011896,0.021986957639455795,0.020767408502051384,0.021535648892705258,0.019802638215526025,0.01875425378481547,0.019478011971864946,0.01919454712420702,0.01828317010197146,0.019329642002972273,0.018415841371997407,0.018054200827398083,0.016819501295685768,0.01847597493065728,0.018467144914155388,0.018719112553766796,0.018627080908963378,0.01771727204322815,0.017750543969698617],\"type\":\"scatter\"},{\"mode\":\"lines\",\"name\":\"Crop Foreground\",\"x\":[1,2,3,4,5,6,7,8,9,10,11,12,13,14,15,16,17,18,19,20,21,22,23,24,25,26,27,28,29,30,31,32,33,34,35,36,37,38,39,40,41,42,43,44,45,46,47,48,49],\"y\":[0.826422543139071,0.5839952528476715,0.4146860893125887,0.3162427166151622,0.2726690453641555,0.21463823487173836,0.13743551394769124,0.14949112420165261,0.12079868937217736,0.10415843287200639,0.0846043317106323,0.07744171081677727,0.06692393761822733,0.06430571526288986,0.058960316588684,0.041730452328920364,0.04839256233893908,0.04470830783247948,0.039523078963674345,0.03904426504786198,0.03514137119054794,0.03619258850812912,0.03103298031621509,0.03168986307250129,0.03180475940031034,0.03081234363572938,0.02914489333478498,0.02982302851974964,0.02719340128366087,0.029666787261764208,0.02578925366933439,0.024070446938276292,0.025314456169925083,0.02398214174749015,0.021993926515982996,0.023799004839427436,0.022918994139347757,0.02151836592115854,0.020871693776412445,0.021576728434004683,0.02599029429256916,0.021008377215145407,0.02097330710608257,0.019156840319434803,0.018895387309529478,0.018360577085438895,0.0191071517765522,0.021400748885103633,0.019471647499432396],\"type\":\"scatter\"},{\"mode\":\"lines\",\"name\":\"Rand Adjust Contrast\",\"x\":[1,2,3,4,5,6,7,8,9,10,11,12,13,14,15,16,17,18,19,20,21,22,23,24,25,26,27,28,29,30,31,32],\"y\":[0.7617326217728693,0.6258966216485794,0.46012376966299834,0.4147911525907971,0.33496763863984275,0.2990590201796226,0.26139589718409945,0.20955907917299935,0.19541486437562144,0.15529561020208127,0.1531539574481439,0.16051375380028848,0.12596814132342904,0.10129366585841545,0.11623625822213231,0.060359157621860504,0.09305285452268063,0.07944379409154256,0.05880341666011975,0.07266795325737734,0.07166217483187977,0.0638493302193555,0.05332679094539748,0.06075426874061426,0.05373667093154825,0.049808703629033904,0.05143401913449798,0.05892914205789566,0.04662886594773316,0.05026607563098272,0.041243745050593916,0.02542247250676155],\"type\":\"scatter\"},{\"mode\":\"lines\",\"name\":\"Rand Coarse Dropout\",\"x\":[1,2,3,4,5,6,7,8,9,10,11,12,13,14,15,16,17,18,19,20,21,22,23,24,25,26,27,28,29,30,31,32,33,34,35,36,37,38,39,40,41,42,43,44,45,46,47,48,49],\"y\":[0.720334903613941,0.5757250830735245,0.44259185150817587,0.3805644526368096,0.3045998005306019,0.24726992142650317,0.2543935477733612,0.19104005569635435,0.16575665809685672,0.13478699823220572,0.12411170938740605,0.10052199046248975,0.09849954333345769,0.07355898790634595,0.07896022787507699,0.07762451221545537,0.06847137766770828,0.06142437860369682,0.051130998622754525,0.04983964338898659,0.04618403060655845,0.04499714428728277,0.044107807179292045,0.04267839392026265,0.03857479398541244,0.037455942002790316,0.035644290496555854,0.03363797582685948,0.033225923288063924,0.03237783424556255,0.030480386068423588,0.027669385820627213,0.029090645791190427,0.028176827428789884,0.026096033292912667,0.027617185585089583,0.02815194126395952,0.025700312042445467,0.027425877072594383,0.026542670905907104,0.02406696230173111,0.024748744141008402,0.02275044218420166,0.023915533459296933,0.023433314754612862,0.02386734338805956,0.02151008537214882,0.023793221318296025,0.02238689401988373],\"type\":\"scatter\"},{\"mode\":\"lines\",\"name\":\"Rand Flipd\",\"x\":[1,2,3,4,5,6,7,8,9,10,11,12,13,14,15,16,17,18,19,20,21,22,23,24,25,26,27,28,29,30,31,32,33,34,35,36,37,38,39,40,41,42,43,44,45,46,47,48,49,50],\"y\":[0.978382763024923,0.7789902687072754,0.5978963695190571,0.540964698980725,0.4163603572284474,0.41223707120373565,0.3004680020468576,0.2890691486902015,0.27022829708419266,0.2448962457252271,0.21062379794708197,0.172337810954322,0.1796720933358548,0.16695404625855959,0.15499457960226098,0.13184100141127905,0.11722909105129731,0.11756691108147303,0.1041227275955266,0.10041906415269924,0.07821967688046004,0.09384751746600324,0.09579186100098822,0.07823460905088318,0.07559843182011887,0.061301343462296896,0.05948625657130295,0.08146819844841957,0.05801540869669836,0.04887605036298434,0.04847742164251851,0.03998117707669735,0.046048205482160175,0.04322601612899211,0.04074542969465256,0.04045967716000863,0.039250127438988,0.040192827582359314,0.045257150449536064,0.036567979591323976,0.033753909170627594,0.03440179036477128,0.03607078960599148,0.03598095469728664,0.03242327397068342,0.0326116681098938,0.031396399269688804,0.03618025141102927,0.0301290760899699,0.03046636292828789],\"type\":\"scatter\"},{\"mode\":\"lines\",\"name\":\"Rand Gaussian Sharpen\",\"x\":[1,2,3,4,5,6,7,8,9,10,11,12,13,14,15,16,17,18,19,20,21,22,23,24,25,26,27,28,29,30,31,32,33,34,35,36,37,38,39,40,41,42,43,44],\"y\":[0.9076844743780188,0.7240250306586696,0.6151217884487576,0.4736850077197665,0.3647764255018795,0.3411832021654777,0.2322488342012678,0.2399699542411538,0.21784230151885672,0.20574633325591232,0.162361995573493,0.14380413002294043,0.12848037392911266,0.11400139618378419,0.10471319072708792,0.05775648479660352,0.07916046631259796,0.0835418734451135,0.0940788604062179,0.07120847083055055,0.06914470462422621,0.06042704995382916,0.05204588547348976,0.058319930028584266,0.05153791289086695,0.05302451944776944,0.04661698849268363,0.0396528796851635,0.03964164037807066,0.039611889297763506,0.03712872981879057,0.03538290411233902,0.032405173269713795,0.0337885089412138,0.03794690389786997,0.03015162665118922,0.029571843289193652,0.034608610203130205,0.03022901696914976,0.02685516434622572,0.053405992686748505,0.0238932371642944,0.027287236210724264,0.02804459258913994],\"type\":\"scatter\"},{\"mode\":\"lines\",\"name\":\"Rand Gaussian Smooth\",\"x\":[1,2,3,4,5,6,7,8,9,10,11,12,13,14,15,16,17,18,19,20,21,22,23,24,25,26,27,28,29,30,31,32,33,34,35,36,37,38,39,40,41,42,43,44,45,46,47,48,49,50,51,52,53,54,55,56,57,58,59,60,61,62,63,64,65,66,67,68,69,70,71,72,73,74,75,76,77,78,79,80,81,82,83,84,85,86,87,88,89,90,91,92,93],\"y\":[0.8940865010828585,0.6318010679663044,0.4279526924645459,0.32791498256108115,0.26798031172331643,0.2168733702515656,0.16897417179175786,0.14575069311053254,0.12655866598781151,0.10330382892579744,0.100037873979064,0.06913669115823248,0.07416152524746071,0.058361646647636704,0.06429195647337,0.04514210422833761,0.04645670119386453,0.05036232421795527,0.049558886808568035,0.044096327744997464,0.043351973554021435,0.03842680809850042,0.03770692232582304,0.03926552422344685,0.03492035036101753,0.034143156292183056,0.031973746959382376,0.02943516433238983,0.031090490703211456,0.0301096277932326,0.02989054409166177,0.025096924975514412,0.027509589793115127,0.02643625372899817,0.02544700774934984,0.0263299919220049,0.027288873901679403,0.023867038781182806,0.023816618729721416,0.023756749848736092,0.020175045356154442,0.023008376007547248,0.021756913882922637,0.021747402846813202,0.02161685782410796,0.024391919648384348,0.020733285466876795,0.01812414824962616,0.019417596980929375,0.021130899085274227,0.021680937854178024,0.019288947981228863,0.018759335269746574,0.018109898619606334,0.018813668606946103,0.01802267521923902,0.014479785536726316,0.01851377949023094,0.018044078884025413,0.01716076441366097,0.017593386454077868,0.01618754672572801,0.017659413069486617,0.01672816204114093,0.01717751088241736,0.017138760031005482,0.016146612273795265,0.01678546272795385,0.015155311673879623,0.01657145432211825,0.01701965325822433,0.01614353906217159,0.013614289835095406,0.01570335873289079,0.015798435776264635,0.01617982193467117,0.01589572861957461,0.013492270860643614,0.014934472298543704,0.014591788873076439,0.014693456979349572,0.016575664281845093,0.01491368013257916,0.015241285735001303,0.01492077612352592,0.01433722750239429,0.015472536030061105,0.014928430582414259,0.012676227438662733,0.015144550436457922,0.014560064324472525,0.014817299010852972,0.014505391373582508],\"type\":\"scatter\"},{\"mode\":\"lines\",\"name\":\"Rand Gibbs Noise\",\"x\":[1,2,3,4,5,6,7,8,9,10,11,12,13,14,15,16,17,18,19,20,21,22,23,24,25,26,27,28,29,30,31,32,33,34,35,36,37,38,39,40,41,42,43,44,45,46,47,48,49,50,51,52,53,54,55,56,57,58,59,60,61,62,63,64,65,66,67,68,69,70,71,72,73,74,75,76,77,78],\"y\":[0.8348670150782611,0.6496860107330427,0.5174440355212601,0.42234641408163404,0.3133160121300641,0.2932265282801862,0.3084121367761067,0.1977662315895391,0.18377398303415202,0.1623071745941133,0.13669834447943646,0.12363225869510484,0.11074510355622082,0.09521092417148444,0.08523073876086547,0.0640712430079778,0.07033034939414416,0.06686988006035487,0.0606054247453295,0.05535491899802135,0.05490834971791819,0.05073197836225683,0.047920639316240944,0.05664678340156873,0.0462652779655692,0.03827486485242844,0.03748364276974134,0.03513905756175518,0.033500102333358074,0.03326470082004865,0.031604877983530365,0.03017573393881321,0.03066163823553702,0.029620639955649126,0.027592072744042642,0.027413122606144022,0.026313989999748412,0.0263476655736827,0.030545809390870007,0.024646012072867537,0.032839335501194,0.023847107095895586,0.024628526569433408,0.021875803255372576,0.023406355272209835,0.02296856648343451,0.023494638397165063,0.018510870901601657,0.021809419053931568,0.021125940299486813,0.021286303798357647,0.020151957235150578,0.02142928289654462,0.020575384198987887,0.019615984736726835,0.020544585372720445,0.019522399952014286,0.019912361883773252,0.019685090444982054,0.019040296368044,0.018798439390957357,0.01829312785871719,0.018474437499588187,0.016633829929762416,0.019107540138065815,0.018460842930240397,0.017719954172415394,0.018018159766117453,0.018616748265922068,0.018199742970163704,0.017111252062022686,0.017442344213087185,0.017611114121973515,0.01793259354989703,0.01750421937700216,0.01772913276668518,0.017444671312374854,0.01642100184801079],\"type\":\"scatter\"},{\"mode\":\"lines\",\"name\":\"Rand KSpace Spike Noise\",\"x\":[1,2,3,4,5,6,7,8,9,10,11,12,13,14,15,16,17,18,19,20,21,22,23,24,25,26,27,28,29,30,31,32,33,34,35,36,37,38,39,40,41,42,43,44,45,46,47,48,49,50,51,52,53,54,55,56,57,58,59,60,61,62,63,64,65,66,67,68,69,70,71,72,73,74],\"y\":[0.7052608374002818,0.4743525540992005,0.32958932717641193,0.2526738338527225,0.19622755664236405,0.16518441109724766,0.12259635329246521,0.10759509008291156,0.09989933405495897,0.08208060896757877,0.07341852832747542,0.07094728881898134,0.0617724723356255,0.06548039271281315,0.053929888396238794,0.05651241913437843,0.04658306724367998,0.043449756155411405,0.04510385395380957,0.039208638954621094,0.03607966280297229,0.03506768450818278,0.029360926606588893,0.032505599367949695,0.031568530211110175,0.030867740671549525,0.028866013512015343,0.026672324538230895,0.02605115161201016,0.0261885321388642,0.025593587325191965,0.023120104148983956,0.02374634355670068,0.023617453534494747,0.0239558954753222,0.023159425538867268,0.022517196124508268,0.021917885463488728,0.019428041340275246,0.02095723169994481,0.023859208449721336,0.020275259893890972,0.019872536270381654,0.019210902077180368,0.019575301262121352,0.016498096068115795,0.018019220299737633,0.019368945887046202,0.01829739971909412,0.017865534600672087,0.018711322608093422,0.018329024962756946,0.017627467117879703,0.017420960558673083,0.01623352710157633,0.01701102234727266,0.018155850159625214,0.016819458717528064,0.016620170349876087,0.015950201143478525,0.016123411947718033,0.014043041308851619,0.01620056580074809,0.016878367194698915,0.015694332412547536,0.0154937689801977,0.01563111964081015,0.015117971108518017,0.014772095531225205,0.015271836678024198,0.01619236618280411,0.015804681926965714,0.012566912919282913,0.014368550579358891],\"type\":\"scatter\"},{\"mode\":\"lines\",\"name\":\"Rand Affine\",\"x\":[1,2,3,4,5,6,7,8,9,10,11,12,13,14,15,16,17,18,19,20,21,22,23,24,25,26,27,28,29,30,31,32,33,34,35,36,37,38,39,40,41,42,43,44,45,46,47,48,49,50,51,52,53,54,55,56,57,58,59,60,61,62,63,64],\"y\":[0.8074054250846038,0.647945375475165,0.5134993151382163,0.44620231314310954,0.33233456927187305,0.3334557768308891,0.287612293447767,0.2566922923853231,0.229917723355414,0.19864179419748712,0.18150103966826978,0.18349490509085034,0.14783591764458157,0.18640988835921654,0.13358394284637606,0.16742724676926932,0.11388018058660702,0.11734226981798808,0.1020211348759717,0.11033234716607974,0.10414005110138341,0.09546184512701901,0.10088896999756496,0.08285764331618944,0.10164068961217079,0.08919716967003687,0.07781770778164057,0.06884064927697181,0.07726161566669823,0.12364134714007377,0.0744920199116071,0.04685819819569588,0.06563014264513807,0.06338531315907256,0.05856952251445863,0.06437662777616017,0.05922164643804232,0.07907510735094547,0.06195863979783925,0.05476372126252093,0.03853629529476166,0.05802952578744373,0.05329611693343071,0.05739665424658193,0.055210830702904674,0.05424529785180793,0.05144848934603187,0.05040443528975759,0.052818174495599994,0.049679082052051265,0.04407497314792691,0.04892491781409236,0.04846214486852936,0.04386058415017896,0.04295709170401096,0.04588353975999112,0.06297960380713145,0.048125541458527245,0.04396763560672601,0.04364716730498035,0.04511824255952468,0.05435290903245148,0.04299834015017206,0.039553115558293134],\"type\":\"scatter\"},{\"mode\":\"lines\",\"name\":\"Rand Bias Field\",\"x\":[1,2,3,4,5,6,7,8,9,10,11,12,13,14,15,16,17,18,19,20,21,22,23,24,25,26,27,28,29,30,31,32,33],\"y\":[0.8292637515712429,0.6518984028737839,0.4930999157605348,0.4325597830235012,0.3320696836008745,0.28458050821187364,0.23944087965147837,0.23154003744901613,0.20797695502450195,0.17816734742937665,0.1627819832900296,0.15308914787095526,0.1336071202057903,0.10324495572310227,0.11801451421817954,0.07471657544374466,0.08149765450985004,0.08661767433087031,0.06914940039659369,0.063687036301081,0.05354211773527296,0.05374747582457282,0.05431729762090577,0.04756183930569225,0.04525150349478663,0.04422901432429041,0.04050296534534911,0.04255688436329365,0.03652216078805142,0.035347042605280876,0.03355220683357295,0.037361860275268555,0.035884119025090845],\"type\":\"scatter\"}],                        {\"template\":{\"data\":{\"histogram2dcontour\":[{\"type\":\"histogram2dcontour\",\"colorbar\":{\"outlinewidth\":0,\"ticks\":\"\"},\"colorscale\":[[0.0,\"#0d0887\"],[0.1111111111111111,\"#46039f\"],[0.2222222222222222,\"#7201a8\"],[0.3333333333333333,\"#9c179e\"],[0.4444444444444444,\"#bd3786\"],[0.5555555555555556,\"#d8576b\"],[0.6666666666666666,\"#ed7953\"],[0.7777777777777778,\"#fb9f3a\"],[0.8888888888888888,\"#fdca26\"],[1.0,\"#f0f921\"]]}],\"choropleth\":[{\"type\":\"choropleth\",\"colorbar\":{\"outlinewidth\":0,\"ticks\":\"\"}}],\"histogram2d\":[{\"type\":\"histogram2d\",\"colorbar\":{\"outlinewidth\":0,\"ticks\":\"\"},\"colorscale\":[[0.0,\"#0d0887\"],[0.1111111111111111,\"#46039f\"],[0.2222222222222222,\"#7201a8\"],[0.3333333333333333,\"#9c179e\"],[0.4444444444444444,\"#bd3786\"],[0.5555555555555556,\"#d8576b\"],[0.6666666666666666,\"#ed7953\"],[0.7777777777777778,\"#fb9f3a\"],[0.8888888888888888,\"#fdca26\"],[1.0,\"#f0f921\"]]}],\"heatmap\":[{\"type\":\"heatmap\",\"colorbar\":{\"outlinewidth\":0,\"ticks\":\"\"},\"colorscale\":[[0.0,\"#0d0887\"],[0.1111111111111111,\"#46039f\"],[0.2222222222222222,\"#7201a8\"],[0.3333333333333333,\"#9c179e\"],[0.4444444444444444,\"#bd3786\"],[0.5555555555555556,\"#d8576b\"],[0.6666666666666666,\"#ed7953\"],[0.7777777777777778,\"#fb9f3a\"],[0.8888888888888888,\"#fdca26\"],[1.0,\"#f0f921\"]]}],\"heatmapgl\":[{\"type\":\"heatmapgl\",\"colorbar\":{\"outlinewidth\":0,\"ticks\":\"\"},\"colorscale\":[[0.0,\"#0d0887\"],[0.1111111111111111,\"#46039f\"],[0.2222222222222222,\"#7201a8\"],[0.3333333333333333,\"#9c179e\"],[0.4444444444444444,\"#bd3786\"],[0.5555555555555556,\"#d8576b\"],[0.6666666666666666,\"#ed7953\"],[0.7777777777777778,\"#fb9f3a\"],[0.8888888888888888,\"#fdca26\"],[1.0,\"#f0f921\"]]}],\"contourcarpet\":[{\"type\":\"contourcarpet\",\"colorbar\":{\"outlinewidth\":0,\"ticks\":\"\"}}],\"contour\":[{\"type\":\"contour\",\"colorbar\":{\"outlinewidth\":0,\"ticks\":\"\"},\"colorscale\":[[0.0,\"#0d0887\"],[0.1111111111111111,\"#46039f\"],[0.2222222222222222,\"#7201a8\"],[0.3333333333333333,\"#9c179e\"],[0.4444444444444444,\"#bd3786\"],[0.5555555555555556,\"#d8576b\"],[0.6666666666666666,\"#ed7953\"],[0.7777777777777778,\"#fb9f3a\"],[0.8888888888888888,\"#fdca26\"],[1.0,\"#f0f921\"]]}],\"surface\":[{\"type\":\"surface\",\"colorbar\":{\"outlinewidth\":0,\"ticks\":\"\"},\"colorscale\":[[0.0,\"#0d0887\"],[0.1111111111111111,\"#46039f\"],[0.2222222222222222,\"#7201a8\"],[0.3333333333333333,\"#9c179e\"],[0.4444444444444444,\"#bd3786\"],[0.5555555555555556,\"#d8576b\"],[0.6666666666666666,\"#ed7953\"],[0.7777777777777778,\"#fb9f3a\"],[0.8888888888888888,\"#fdca26\"],[1.0,\"#f0f921\"]]}],\"mesh3d\":[{\"type\":\"mesh3d\",\"colorbar\":{\"outlinewidth\":0,\"ticks\":\"\"}}],\"scatter\":[{\"fillpattern\":{\"fillmode\":\"overlay\",\"size\":10,\"solidity\":0.2},\"type\":\"scatter\"}],\"parcoords\":[{\"type\":\"parcoords\",\"line\":{\"colorbar\":{\"outlinewidth\":0,\"ticks\":\"\"}}}],\"scatterpolargl\":[{\"type\":\"scatterpolargl\",\"marker\":{\"colorbar\":{\"outlinewidth\":0,\"ticks\":\"\"}}}],\"bar\":[{\"error_x\":{\"color\":\"#2a3f5f\"},\"error_y\":{\"color\":\"#2a3f5f\"},\"marker\":{\"line\":{\"color\":\"#E5ECF6\",\"width\":0.5},\"pattern\":{\"fillmode\":\"overlay\",\"size\":10,\"solidity\":0.2}},\"type\":\"bar\"}],\"scattergeo\":[{\"type\":\"scattergeo\",\"marker\":{\"colorbar\":{\"outlinewidth\":0,\"ticks\":\"\"}}}],\"scatterpolar\":[{\"type\":\"scatterpolar\",\"marker\":{\"colorbar\":{\"outlinewidth\":0,\"ticks\":\"\"}}}],\"histogram\":[{\"marker\":{\"pattern\":{\"fillmode\":\"overlay\",\"size\":10,\"solidity\":0.2}},\"type\":\"histogram\"}],\"scattergl\":[{\"type\":\"scattergl\",\"marker\":{\"colorbar\":{\"outlinewidth\":0,\"ticks\":\"\"}}}],\"scatter3d\":[{\"type\":\"scatter3d\",\"line\":{\"colorbar\":{\"outlinewidth\":0,\"ticks\":\"\"}},\"marker\":{\"colorbar\":{\"outlinewidth\":0,\"ticks\":\"\"}}}],\"scattermapbox\":[{\"type\":\"scattermapbox\",\"marker\":{\"colorbar\":{\"outlinewidth\":0,\"ticks\":\"\"}}}],\"scatterternary\":[{\"type\":\"scatterternary\",\"marker\":{\"colorbar\":{\"outlinewidth\":0,\"ticks\":\"\"}}}],\"scattercarpet\":[{\"type\":\"scattercarpet\",\"marker\":{\"colorbar\":{\"outlinewidth\":0,\"ticks\":\"\"}}}],\"carpet\":[{\"aaxis\":{\"endlinecolor\":\"#2a3f5f\",\"gridcolor\":\"white\",\"linecolor\":\"white\",\"minorgridcolor\":\"white\",\"startlinecolor\":\"#2a3f5f\"},\"baxis\":{\"endlinecolor\":\"#2a3f5f\",\"gridcolor\":\"white\",\"linecolor\":\"white\",\"minorgridcolor\":\"white\",\"startlinecolor\":\"#2a3f5f\"},\"type\":\"carpet\"}],\"table\":[{\"cells\":{\"fill\":{\"color\":\"#EBF0F8\"},\"line\":{\"color\":\"white\"}},\"header\":{\"fill\":{\"color\":\"#C8D4E3\"},\"line\":{\"color\":\"white\"}},\"type\":\"table\"}],\"barpolar\":[{\"marker\":{\"line\":{\"color\":\"#E5ECF6\",\"width\":0.5},\"pattern\":{\"fillmode\":\"overlay\",\"size\":10,\"solidity\":0.2}},\"type\":\"barpolar\"}],\"pie\":[{\"automargin\":true,\"type\":\"pie\"}]},\"layout\":{\"autotypenumbers\":\"strict\",\"colorway\":[\"#636efa\",\"#EF553B\",\"#00cc96\",\"#ab63fa\",\"#FFA15A\",\"#19d3f3\",\"#FF6692\",\"#B6E880\",\"#FF97FF\",\"#FECB52\"],\"font\":{\"color\":\"#2a3f5f\"},\"hovermode\":\"closest\",\"hoverlabel\":{\"align\":\"left\"},\"paper_bgcolor\":\"white\",\"plot_bgcolor\":\"#E5ECF6\",\"polar\":{\"bgcolor\":\"#E5ECF6\",\"angularaxis\":{\"gridcolor\":\"white\",\"linecolor\":\"white\",\"ticks\":\"\"},\"radialaxis\":{\"gridcolor\":\"white\",\"linecolor\":\"white\",\"ticks\":\"\"}},\"ternary\":{\"bgcolor\":\"#E5ECF6\",\"aaxis\":{\"gridcolor\":\"white\",\"linecolor\":\"white\",\"ticks\":\"\"},\"baxis\":{\"gridcolor\":\"white\",\"linecolor\":\"white\",\"ticks\":\"\"},\"caxis\":{\"gridcolor\":\"white\",\"linecolor\":\"white\",\"ticks\":\"\"}},\"coloraxis\":{\"colorbar\":{\"outlinewidth\":0,\"ticks\":\"\"}},\"colorscale\":{\"sequential\":[[0.0,\"#0d0887\"],[0.1111111111111111,\"#46039f\"],[0.2222222222222222,\"#7201a8\"],[0.3333333333333333,\"#9c179e\"],[0.4444444444444444,\"#bd3786\"],[0.5555555555555556,\"#d8576b\"],[0.6666666666666666,\"#ed7953\"],[0.7777777777777778,\"#fb9f3a\"],[0.8888888888888888,\"#fdca26\"],[1.0,\"#f0f921\"]],\"sequentialminus\":[[0.0,\"#0d0887\"],[0.1111111111111111,\"#46039f\"],[0.2222222222222222,\"#7201a8\"],[0.3333333333333333,\"#9c179e\"],[0.4444444444444444,\"#bd3786\"],[0.5555555555555556,\"#d8576b\"],[0.6666666666666666,\"#ed7953\"],[0.7777777777777778,\"#fb9f3a\"],[0.8888888888888888,\"#fdca26\"],[1.0,\"#f0f921\"]],\"diverging\":[[0,\"#8e0152\"],[0.1,\"#c51b7d\"],[0.2,\"#de77ae\"],[0.3,\"#f1b6da\"],[0.4,\"#fde0ef\"],[0.5,\"#f7f7f7\"],[0.6,\"#e6f5d0\"],[0.7,\"#b8e186\"],[0.8,\"#7fbc41\"],[0.9,\"#4d9221\"],[1,\"#276419\"]]},\"xaxis\":{\"gridcolor\":\"white\",\"linecolor\":\"white\",\"ticks\":\"\",\"title\":{\"standoff\":15},\"zerolinecolor\":\"white\",\"automargin\":true,\"zerolinewidth\":2},\"yaxis\":{\"gridcolor\":\"white\",\"linecolor\":\"white\",\"ticks\":\"\",\"title\":{\"standoff\":15},\"zerolinecolor\":\"white\",\"automargin\":true,\"zerolinewidth\":2},\"scene\":{\"xaxis\":{\"backgroundcolor\":\"#E5ECF6\",\"gridcolor\":\"white\",\"linecolor\":\"white\",\"showbackground\":true,\"ticks\":\"\",\"zerolinecolor\":\"white\",\"gridwidth\":2},\"yaxis\":{\"backgroundcolor\":\"#E5ECF6\",\"gridcolor\":\"white\",\"linecolor\":\"white\",\"showbackground\":true,\"ticks\":\"\",\"zerolinecolor\":\"white\",\"gridwidth\":2},\"zaxis\":{\"backgroundcolor\":\"#E5ECF6\",\"gridcolor\":\"white\",\"linecolor\":\"white\",\"showbackground\":true,\"ticks\":\"\",\"zerolinecolor\":\"white\",\"gridwidth\":2}},\"shapedefaults\":{\"line\":{\"color\":\"#2a3f5f\"}},\"annotationdefaults\":{\"arrowcolor\":\"#2a3f5f\",\"arrowhead\":0,\"arrowwidth\":1},\"geo\":{\"bgcolor\":\"white\",\"landcolor\":\"#E5ECF6\",\"subunitcolor\":\"white\",\"showland\":true,\"showlakes\":true,\"lakecolor\":\"white\"},\"title\":{\"x\":0.05},\"mapbox\":{\"style\":\"light\"}}},\"title\":{\"text\":\"Iteration Average DiceCE Loss for Each Augmentation\"},\"xaxis\":{\"title\":{\"text\":\"Iteration\"}},\"yaxis\":{\"title\":{\"text\":\"Average DiceCE Loss\"}}},                        {\"responsive\": true}                    ).then(function(){\n",
              "                            \n",
              "var gd = document.getElementById('87b822e2-95d9-437d-a1ba-3089dff409bc');\n",
              "var x = new MutationObserver(function (mutations, observer) {{\n",
              "        var display = window.getComputedStyle(gd).display;\n",
              "        if (!display || display === 'none') {{\n",
              "            console.log([gd, 'removed!']);\n",
              "            Plotly.purge(gd);\n",
              "            observer.disconnect();\n",
              "        }}\n",
              "}});\n",
              "\n",
              "// Listen for the removal of the full notebook cells\n",
              "var notebookContainer = gd.closest('#notebook-container');\n",
              "if (notebookContainer) {{\n",
              "    x.observe(notebookContainer, {childList: true});\n",
              "}}\n",
              "\n",
              "// Listen for the clearing of the current output cell\n",
              "var outputEl = gd.closest('.output');\n",
              "if (outputEl) {{\n",
              "    x.observe(outputEl, {childList: true});\n",
              "}}\n",
              "\n",
              "                        })                };                            </script>        </div>\n",
              "</body>\n",
              "</html>"
            ]
          },
          "metadata": {}
        }
      ]
    },
    {
      "cell_type": "code",
      "source": [
        "import plotly.graph_objects as go\n",
        "import numpy as np\n",
        "\n",
        "\n",
        "# Create traces\n",
        "fig = go.Figure()\n",
        "x, y = Extract_x_y(unet_no_aug_metric_values)\n",
        "fig.add_trace(go.Scatter(x=x, y=y,\n",
        "                    mode='lines+markers',\n",
        "                    name='No Augmentations'))\n",
        "\n",
        "x, y = Extract_x_y(unet_cropforegroundd_metric_values)\n",
        "fig.add_trace(go.Scatter(x=x, y=y,\n",
        "                    mode='lines',\n",
        "                    name='Crop Foreground'))\n",
        "\n",
        "\n",
        "x, y = Extract_x_y(unet_RandAdjustContrastd_metric_values)\n",
        "fig.add_trace(go.Scatter(x=x, y=y,\n",
        "                    mode='lines',\n",
        "                    name='Rand Adjust Contrast'))\n",
        "\n",
        "x, y = Extract_x_y(unet_RandCoarseDropoutd_metric_values)\n",
        "fig.add_trace(go.Scatter(x=x, y=y,\n",
        "                    mode='lines',\n",
        "                    name='Rand Coarse Dropout'))\n",
        "\n",
        "x, y = Extract_x_y(unet_RandFlipd_metric_values)\n",
        "fig.add_trace(go.Scatter(x=x, y=y,\n",
        "                    mode='lines',\n",
        "                    name='Rand Flipd'))\n",
        "\n",
        "x, y = Extract_x_y(unet_RandGaussianSharpend_metric_values)\n",
        "fig.add_trace(go.Scatter(x=x, y=y,\n",
        "                    mode='lines',\n",
        "                    name='Rand Gaussian Sharpen'))\n",
        "\n",
        "x, y = Extract_x_y(unet_RandGaussianSmoothd_metric_values)\n",
        "fig.add_trace(go.Scatter(x=x, y=y,\n",
        "                    mode='lines',\n",
        "                    name='Rand Gaussian Smooth'))\n",
        "\n",
        "x, y = Extract_x_y(unet_RandGibbsNoised_metric_values)\n",
        "fig.add_trace(go.Scatter(x=x, y=y,\n",
        "                    mode='lines',\n",
        "                    name='Rand Gibbs Noise'))\n",
        "\n",
        "x, y = Extract_x_y(unet_RandKSpaceSpikeNoised_metric_values)\n",
        "fig.add_trace(go.Scatter(x=x, y=y,\n",
        "                    mode='lines',\n",
        "                    name='Rand KSpace Spike Noise'))\n",
        "\n",
        "x, y = Extract_x_y(unet_RandAffined_metric_values)\n",
        "fig.add_trace(go.Scatter(x=x, y=y,\n",
        "                    mode='lines',\n",
        "                    name='Rand Affine'))\n",
        "\n",
        "x, y = Extract_x_y(unet_RandBiasFieldd_metric_values)\n",
        "fig.add_trace(go.Scatter(x=x, y=y,\n",
        "                    mode='lines',\n",
        "                    name='Rand Bias Field'))\n",
        "\n",
        "\n",
        "\n",
        "\n",
        "# Edit the layout\n",
        "fig.update_layout(title='Iteration Average Dice Score for Each Augmentation',\n",
        "                   xaxis_title='Iteration',\n",
        "                   yaxis_title='Average Dice Score')\n",
        "\n",
        "\n",
        "fig.show()"
      ],
      "metadata": {
        "colab": {
          "base_uri": "https://localhost:8080/",
          "height": 542
        },
        "id": "wntNeUySKJ_o",
        "outputId": "645f2042-0a96-41ba-d793-37839ae8b042"
      },
      "execution_count": null,
      "outputs": [
        {
          "output_type": "display_data",
          "data": {
            "text/html": [
              "<html>\n",
              "<head><meta charset=\"utf-8\" /></head>\n",
              "<body>\n",
              "    <div>            <script src=\"https://cdnjs.cloudflare.com/ajax/libs/mathjax/2.7.5/MathJax.js?config=TeX-AMS-MML_SVG\"></script><script type=\"text/javascript\">if (window.MathJax && window.MathJax.Hub && window.MathJax.Hub.Config) {window.MathJax.Hub.Config({SVG: {font: \"STIX-Web\"}});}</script>                <script type=\"text/javascript\">window.PlotlyConfig = {MathJaxConfig: 'local'};</script>\n",
              "        <script charset=\"utf-8\" src=\"https://cdn.plot.ly/plotly-2.24.1.min.js\"></script>                <div id=\"324107ae-7587-4a12-bd7e-da8460fcbf68\" class=\"plotly-graph-div\" style=\"height:525px; width:100%;\"></div>            <script type=\"text/javascript\">                                    window.PLOTLYENV=window.PLOTLYENV || {};                                    if (document.getElementById(\"324107ae-7587-4a12-bd7e-da8460fcbf68\")) {                    Plotly.newPlot(                        \"324107ae-7587-4a12-bd7e-da8460fcbf68\",                        [{\"mode\":\"lines+markers\",\"name\":\"No Augmentations\",\"x\":[1,2,3,4,5,6,7,8,9,10,11,12,13,14,15,16,17,18,19,20,21,22,23,24,25,26,27,28,29,30,31,32,33,34,35,36,37,38,39,40,41,42,43,44,45,46,47,48,49,50,51,52,53,54,55,56,57,58,59,60,61,62,63,64,65,66,67,68,69,70],\"y\":[0.8509120444456736,0.8887891421715418,0.9095873137315115,0.9235531588395437,0.9314682831366857,0.9353951712449392,0.9366633941729864,0.9381110568841299,0.9426769514878591,0.9452393899361292,0.9403534680604935,0.9489065508047739,0.9457233051458994,0.9487548718849818,0.9494728495677313,0.951478992899259,0.9526084164778391,0.9530267616113027,0.9537234008312225,0.9528723259766897,0.953687439362208,0.9554752061764399,0.9595440228780111,0.9548651625712713,0.952727809548378,0.9582382986942927,0.9580169518788656,0.9568938265244166,0.9603815525770187,0.9600676596164703,0.9612585306167603,0.9628763149182001,0.9619022955497106,0.9619830499092737,0.9582995275656382,0.9600464701652527,0.9639368851979574,0.9583660562833151,0.9629298796256384,0.9621978352467219,0.9593276778856913,0.9596902976433436,0.9645809978246689,0.9632473637660345,0.9610680590073267,0.9624945422013601,0.9634126573801041,0.9647896240154902,0.963794524470965,0.9639434516429901,0.9632420788208643,0.9604975332816442,0.9638213664293289,0.9651446590820948,0.9629079947868983,0.9627176274855932,0.965059315164884,0.9622778544823328,0.963996355732282,0.9676879396041235,0.962547779083252,0.9652369022369385,0.9669357538223267,0.9651383260885874,0.9661468615134557,0.9643466820319494,0.9641712854305903,0.9654410382111868,0.9665942589441935,0.9653253902991613],\"type\":\"scatter\"},{\"mode\":\"lines\",\"name\":\"Crop Foreground\",\"x\":[1,2,3,4,5,6,7,8,9,10,11,12,13,14,15,16,17,18,19,20,21,22,23,24,25,26,27,28,29,30,31,32,33,34,35,36,37,38,39,40,41,42,43,44,45,46,47,48,49],\"y\":[0.7566983550786972,0.809231902162234,0.8518965194622675,0.8585700343052546,0.8596224983533224,0.8682467937469482,0.8765179316202799,0.8758997271458308,0.8720319072405497,0.8729521532853445,0.8878787259260813,0.8836859464645386,0.8795942713816961,0.8747992912928263,0.8826341430346171,0.8819243709246317,0.8851150820652643,0.8795156280199686,0.8893826454877853,0.885726178685824,0.8894528299570084,0.8817540854215622,0.888458917538325,0.8827246079842249,0.8843047867218653,0.8921807209650675,0.8893122573693594,0.8888590484857559,0.8848299334446589,0.884960283835729,0.8953338613112768,0.8828130314747492,0.883466824889183,0.8959552596012751,0.8929564903179804,0.8913758397102356,0.8931471308072408,0.8926859498023987,0.8974415957927704,0.8881632139285406,0.8892897268136343,0.8846241384744644,0.887033000588417,0.8895318160454432,0.8829689770936966,0.8887400478124619,0.8879270702600479,0.8915410290161768,0.8951044629017512],\"type\":\"scatter\"},{\"mode\":\"lines\",\"name\":\"Rand Adjust Contrast\",\"x\":[1,2,3,4,5,6,7,8,9,10,11,12,13,14,15,16,17,18,19,20,21,22,23,24,25,26,27,28,29,30,31,32],\"y\":[0.8411513368288676,0.8836383869250616,0.9091960042715073,0.9126321276028951,0.9260357618331909,0.9285515795151392,0.9328271845976511,0.9354844391345978,0.9341992934544882,0.9386941293875376,0.9476204266150793,0.9492662946383158,0.949620763460795,0.9496066172917684,0.9507433374722799,0.9480497638384501,0.9433948000272115,0.9509491821130117,0.9472020963827769,0.954161191980044,0.9543398320674896,0.9587229192256927,0.949964796503385,0.9496062994003296,0.9566108187039694,0.9552644193172455,0.9542647302150726,0.9538466781377792,0.9569122244914373,0.9577239553133646,0.9558766335248947,0.9582473089297613],\"type\":\"scatter\"},{\"mode\":\"lines\",\"name\":\"Rand Coarse Dropout\",\"x\":[1,2,3,4,5,6,7,8,9,10,11,12,13,14,15,16,17,18,19,20,21,22,23,24,25,26,27,28,29,30,31,32,33,34,35,36,37,38,39,40,41,42,43,44,45,46,47,48,49],\"y\":[0.84752589960893,0.8861814786990484,0.9045341561237971,0.9176210860411326,0.9158624907334646,0.9202130536238352,0.9331388821204504,0.9311601420243582,0.9361046701669693,0.9368387659390768,0.9423793156941732,0.9377469420433044,0.939029241601626,0.943204715847969,0.9438890467087427,0.9445860981941223,0.9520468364159266,0.9468230158090591,0.946797658999761,0.9498381465673447,0.9496932278076807,0.9452023009459177,0.9501833766698837,0.9504559437433878,0.9508719046910604,0.9541684985160828,0.9513850112756094,0.9530057609081268,0.9564895431200663,0.954645112156868,0.954515129327774,0.9561491757631302,0.9599943806727728,0.957626630862554,0.9588223546743393,0.9575302004814148,0.9588716079791387,0.9610288143157959,0.9610438744227091,0.9585831513007482,0.9593793749809265,0.9603410363197327,0.9599106311798096,0.9602523644765218,0.9566067506869634,0.9593657652537028,0.9610353112220764,0.9604362746079763,0.9601134359836578],\"type\":\"scatter\"},{\"mode\":\"lines\",\"name\":\"Rand Flipd\",\"x\":[1,2,3,4,5,6,7,8,9,10,11,12,13,14,15,16,17,18,19,20,21,22,23,24,25,26,27,28,29,30,31,32,33,34,35,36,37,38,39,40,41,42,43,44,45,46,47,48,49,50],\"y\":[0.8485618929068247,0.873834694425265,0.8956538339455923,0.8948936015367508,0.9006440291802088,0.8984434058268865,0.9183175911506017,0.925055980682373,0.9299710194269816,0.9274599899848303,0.9394946297009786,0.9389198571443558,0.9428857266902924,0.9426500151554743,0.9410378982623419,0.9503011802832285,0.948093518614769,0.9489740530649821,0.9503232687711716,0.9426246533791224,0.9509162058432897,0.9512348771095276,0.9539639552434286,0.9576075176397959,0.9549512614806493,0.9473451972007751,0.9544585992892584,0.9342577010393143,0.9529667695363363,0.9593083759148916,0.9596906751394272,0.9597175618012747,0.9564699878295263,0.957010418176651,0.9585461566845576,0.9588474979003271,0.9565342019001642,0.9543888568878174,0.9599837909142176,0.9616425037384033,0.9585209935903549,0.9607047736644745,0.9595802078644434,0.9565408627192179,0.960082987944285,0.9608330627282461,0.9593504468599955,0.9601292560497919,0.9583229223887125,0.9559270540873209],\"type\":\"scatter\"},{\"mode\":\"lines\",\"name\":\"Rand Gaussian Sharpen\",\"x\":[1,2,3,4,5,6,7,8,9,10,11,12,13,14,15,16,17,18,19,20,21,22,23,24,25,26,27,28,29,30,31,32,33,34,35,36,37,38,39,40,41,42,43,44],\"y\":[0.8576484421888987,0.873698686559995,0.9022684792677561,0.9008105049530665,0.9237110912799835,0.9306088586648306,0.9293668568134308,0.9367230733235677,0.9409866233666738,0.9459737737973531,0.9493876745303472,0.944285104672114,0.948804517587026,0.9470004985729853,0.9451568871736526,0.9538000126679739,0.9516997734705607,0.9555171479781469,0.949376235405604,0.9541381398836771,0.9588566869497299,0.9574993699789047,0.9564033697048823,0.9540019432703654,0.9600068479776382,0.9584374775489172,0.9569530089696249,0.9609255641698837,0.9573913117249807,0.9574568669001261,0.9600812395413717,0.9626291493574778,0.9599373737970988,0.9637067914009094,0.9592016537984213,0.9631825884183248,0.9566856076320013,0.9631801595290502,0.9630777935187022,0.9604447484016418,0.9616297284762064,0.9632768680651983,0.9626490076382955,0.9592290719350179],\"type\":\"scatter\"},{\"mode\":\"lines\",\"name\":\"Rand Gaussian Smooth\",\"x\":[1,2,3,4,5,6,7,8,9,10,11,12,13,14,15,16,17,18,19,20,21,22,23,24,25,26,27,28,29,30,31,32,33,34,35,36,37,38,39,40,41,42,43,44,45,46,47,48,49,50,51,52,53,54,55,56,57,58,59,60,61,62,63,64,65,66,67,68,69,70,71,72,73,74,75,76,77,78,79,80,81,82,83,84,85,86,87,88,89,90,91,92,93],\"y\":[0.7812096128861109,0.8769165823856989,0.8925500214099884,0.8984303524096807,0.9195913126071295,0.935034970442454,0.9415746430555979,0.9397440254688263,0.9366094370683035,0.9478518515825272,0.9440695395072302,0.9476672857999802,0.9412855009237925,0.9495002726713816,0.9488457143306732,0.9469068249066671,0.9522822399934133,0.9502969334522883,0.9506351749102274,0.9494613210360209,0.9503162900606791,0.9540379742781321,0.9515756418307623,0.9545638610919317,0.9555834531784058,0.952195351322492,0.9559763719638189,0.9557800988356272,0.9549660682678223,0.9563408046960831,0.9572368562221527,0.9584392209847769,0.9607838988304138,0.9554159889618555,0.9588712155818939,0.9561207542816798,0.9590090364217758,0.959531212846438,0.9591497033834457,0.9614023119211197,0.9608226915200552,0.9587970227003098,0.9617315828800201,0.962303563952446,0.9619100838899612,0.9633350123961767,0.9632699092229208,0.9632373203833898,0.9628667533397675,0.96344526608785,0.9619242052237192,0.9619613289833069,0.9619432588418325,0.9642153133948644,0.9637286216020584,0.9646367331345876,0.9659174382686615,0.966066762804985,0.9644569754600525,0.9663139432668686,0.9639811565478643,0.9642785787582397,0.9643281449874243,0.9656915714343389,0.9666448632876078,0.9646513313055038,0.9665600756804148,0.9650765160719553,0.9680212140083313,0.9668532212575277,0.966905802488327,0.9677601406971613,0.9684423506259918,0.9671380519866943,0.9658754964669546,0.9658515353997549,0.9677389065424601,0.9670405288537344,0.9660367965698242,0.9671268612146378,0.9675139486789703,0.9676205962896347,0.97209033370018,0.9666447341442108,0.9671012858549753,0.968680719534556,0.9673682053883871,0.9680420110623041,0.9700361688931783,0.9678946187098821,0.9693597008784612,0.9667363911867142,0.9668491035699844],\"type\":\"scatter\"},{\"mode\":\"lines\",\"name\":\"Rand Gibbs Noise\",\"x\":[1,2,3,4,5,6,7,8,9,10,11,12,13,14,15,16,17,18,19,20,21,22,23,24,25,26,27,28,29,30,31,32,33,34,35,36,37,38,39,40,41,42,43,44,45,46,47,48,49,50,51,52,53,54,55,56,57,58,59,60,61,62,63,64,65,66,67,68,69,70,71,72,73,74,75,76,77,78],\"y\":[0.8640596121549606,0.9001536418994268,0.8947572310765585,0.9148504535357157,0.9321876664956411,0.9338396737972895,0.9353439062833786,0.9421996772289276,0.9463251779476801,0.9459023574988047,0.9405748148759207,0.9453322887420654,0.9511153201262156,0.9532724668582281,0.9546814411878586,0.9561433792114258,0.958036849896113,0.956359937787056,0.955976203083992,0.9575234055519104,0.9568272829055786,0.9579654137293497,0.9598484287659327,0.9377566973368326,0.9610091547171274,0.9638393769661585,0.9640244493881861,0.9649522552887598,0.9631875505050024,0.9632924050092697,0.964432512720426,0.9642364134391149,0.9643965512514114,0.9644260456164678,0.964567095041275,0.9667836924393972,0.9638182520866394,0.9642137289047241,0.9626202334960302,0.9629983603954315,0.9629349013169607,0.9675247768561045,0.9670101751883825,0.9666718095541,0.9666431397199631,0.9670543074607849,0.9676913370688757,0.967870314915975,0.9683583726485571,0.9693025300900141,0.9683808386325836,0.968228151400884,0.9688015083471934,0.9674532612164816,0.9644828339417776,0.9674142996470133,0.9679655730724335,0.9657568583885828,0.967630128065745,0.9693993081649145,0.9674653063217798,0.9688486158847809,0.9700885166724523,0.969470794002215,0.9701447685559591,0.9697052389383316,0.9701323409875234,0.9710769802331924,0.9701371143261591,0.9709512343009313,0.9694633682568868,0.9668823828299841,0.9682656029860178,0.9685415178537369,0.9692003776629766,0.9675446152687073,0.9709828694661459,0.9706686238447825],\"type\":\"scatter\"},{\"mode\":\"lines\",\"name\":\"Rand KSpace Spike Noise\",\"x\":[1,2,3,4,5,6,7,8,9,10,11,12,13,14,15,16,17,18,19,20,21,22,23,24,25,26,27,28,29,30,31,32,33,34,35,36,37,38,39,40,41,42,43,44,45,46,47,48,49,50,51,52,53,54,55,56,57,58,59,60,61,62,63,64,65,66,67,68,69,70,71,72,73,74],\"y\":[0.8625874767700831,0.8944723208745321,0.9241603513558706,0.9356067130963007,0.9428189645210902,0.9357993602752686,0.9368649025758108,0.9408352027336756,0.9443331956863403,0.9490318248669306,0.9492213080326716,0.953463484843572,0.9517491310834885,0.9510948359966278,0.9482523600260416,0.955005352695783,0.940191313624382,0.9521392186482748,0.9501048425833384,0.9563875198364258,0.9533907026052475,0.9546100745598475,0.9563674777746201,0.9578882157802582,0.9575772881507874,0.9586017082134882,0.9590208878119787,0.9619370996952057,0.9608590006828308,0.9605646630128225,0.9601730753978094,0.9611016164223353,0.9606291155020396,0.9622470587491989,0.9596293767293295,0.9623918881018957,0.9627370486656824,0.9606098483006159,0.9615534792343775,0.963389535744985,0.9632108062505722,0.9647319664557775,0.962150643269221,0.9651660968859991,0.9632818947235743,0.9619961132605871,0.9639786134163538,0.9668491731087366,0.9651333192984263,0.9641245206197103,0.9653920431931814,0.9656850943962733,0.9624697615702947,0.9625056385993958,0.9686500827471415,0.9664554794629415,0.9651472369829813,0.9668353398640951,0.9639553527037302,0.9644475926955541,0.9677754193544388,0.9654568632443746,0.9682390441497167,0.9695437202850977,0.9689042270183563,0.9691760987043381,0.9688265969355901,0.9684398174285889,0.965936154127121,0.968626027305921,0.9679744044939677,0.9687469253937403,0.9683617601792017,0.9687195867300034],\"type\":\"scatter\"},{\"mode\":\"lines\",\"name\":\"Rand Affine\",\"x\":[1,2,3,4,5,6,7,8,9,10,11,12,13,14,15,16,17,18,19,20,21,22,23,24,25,26,27,28,29,30,31,32,33,34,35,36,37,38,39,40,41,42,43,44,45,46,47,48,49,50,51,52,53,54,55,56,57,58,59,60,61,62,63,64],\"y\":[0.8524313072363535,0.8875821630160013,0.9073486079772314,0.9128367404143015,0.9218809852997462,0.9244248320659002,0.9150713135798773,0.9272245566050211,0.9414368917544683,0.9450038323799769,0.9390801539023718,0.946734885374705,0.9494858036438624,0.9502349396546682,0.9530492077271143,0.9541569401820501,0.9590809990962347,0.9594017366568247,0.9615162561337153,0.961629589398702,0.9623923550049464,0.9621412009000778,0.9665533055861791,0.9649220705032349,0.9659280081590017,0.9607153882582983,0.9658605804045995,0.9733845641215643,0.9711549431085587,0.9611504673957825,0.9703145921230316,0.9744154264529546,0.9751930187145869,0.9728019535541534,0.9758299291133881,0.9750864058732986,0.9719844410816828,0.973305399219195,0.9742277314265569,0.9769217073917389,0.977798750003179,0.9755457689364752,0.9791073848803838,0.9750356922547022,0.9771165897448858,0.9785102556149164,0.9805655777454376,0.9777275919914246,0.9789751122395197,0.9800230413675308,0.9772399763266245,0.9798937340577444,0.9806607713301977,0.9815646211306254,0.9796833346287409,0.979574665427208,0.9744909157355627,0.9787039856115977,0.9788465698560079,0.9808130413293839,0.9797410567601522,0.9800092130899429,0.9805814524491628,0.9797715296347936],\"type\":\"scatter\"},{\"mode\":\"lines\",\"name\":\"Rand Bias Field\",\"x\":[1,2,3,4,5,6,7,8,9,10,11,12,13,14,15,16,17,18,19,20,21,22,23,24,25,26,27,28,29,30,31,32,33],\"y\":[0.8801786154508591,0.8873025923967361,0.8999808530012766,0.914377341667811,0.9218247582515081,0.9339091579119364,0.9361242155234019,0.9330828289190928,0.9429908146460851,0.9486493170261383,0.9490271210670471,0.9457077632347742,0.951021283864975,0.9498213827610016,0.9456476072470347,0.9491895337899526,0.951217770576477,0.9484344124794006,0.9504627734422684,0.9557208319505056,0.9568676004807154,0.9550564388434092,0.9599652787049612,0.956116979320844,0.956152414282163,0.959665651122729,0.9551656941572825,0.9551625450452169,0.9573839555184046,0.956033190091451,0.9583725730578104,0.9533212035894394,0.9527573585510254],\"type\":\"scatter\"}],                        {\"template\":{\"data\":{\"histogram2dcontour\":[{\"type\":\"histogram2dcontour\",\"colorbar\":{\"outlinewidth\":0,\"ticks\":\"\"},\"colorscale\":[[0.0,\"#0d0887\"],[0.1111111111111111,\"#46039f\"],[0.2222222222222222,\"#7201a8\"],[0.3333333333333333,\"#9c179e\"],[0.4444444444444444,\"#bd3786\"],[0.5555555555555556,\"#d8576b\"],[0.6666666666666666,\"#ed7953\"],[0.7777777777777778,\"#fb9f3a\"],[0.8888888888888888,\"#fdca26\"],[1.0,\"#f0f921\"]]}],\"choropleth\":[{\"type\":\"choropleth\",\"colorbar\":{\"outlinewidth\":0,\"ticks\":\"\"}}],\"histogram2d\":[{\"type\":\"histogram2d\",\"colorbar\":{\"outlinewidth\":0,\"ticks\":\"\"},\"colorscale\":[[0.0,\"#0d0887\"],[0.1111111111111111,\"#46039f\"],[0.2222222222222222,\"#7201a8\"],[0.3333333333333333,\"#9c179e\"],[0.4444444444444444,\"#bd3786\"],[0.5555555555555556,\"#d8576b\"],[0.6666666666666666,\"#ed7953\"],[0.7777777777777778,\"#fb9f3a\"],[0.8888888888888888,\"#fdca26\"],[1.0,\"#f0f921\"]]}],\"heatmap\":[{\"type\":\"heatmap\",\"colorbar\":{\"outlinewidth\":0,\"ticks\":\"\"},\"colorscale\":[[0.0,\"#0d0887\"],[0.1111111111111111,\"#46039f\"],[0.2222222222222222,\"#7201a8\"],[0.3333333333333333,\"#9c179e\"],[0.4444444444444444,\"#bd3786\"],[0.5555555555555556,\"#d8576b\"],[0.6666666666666666,\"#ed7953\"],[0.7777777777777778,\"#fb9f3a\"],[0.8888888888888888,\"#fdca26\"],[1.0,\"#f0f921\"]]}],\"heatmapgl\":[{\"type\":\"heatmapgl\",\"colorbar\":{\"outlinewidth\":0,\"ticks\":\"\"},\"colorscale\":[[0.0,\"#0d0887\"],[0.1111111111111111,\"#46039f\"],[0.2222222222222222,\"#7201a8\"],[0.3333333333333333,\"#9c179e\"],[0.4444444444444444,\"#bd3786\"],[0.5555555555555556,\"#d8576b\"],[0.6666666666666666,\"#ed7953\"],[0.7777777777777778,\"#fb9f3a\"],[0.8888888888888888,\"#fdca26\"],[1.0,\"#f0f921\"]]}],\"contourcarpet\":[{\"type\":\"contourcarpet\",\"colorbar\":{\"outlinewidth\":0,\"ticks\":\"\"}}],\"contour\":[{\"type\":\"contour\",\"colorbar\":{\"outlinewidth\":0,\"ticks\":\"\"},\"colorscale\":[[0.0,\"#0d0887\"],[0.1111111111111111,\"#46039f\"],[0.2222222222222222,\"#7201a8\"],[0.3333333333333333,\"#9c179e\"],[0.4444444444444444,\"#bd3786\"],[0.5555555555555556,\"#d8576b\"],[0.6666666666666666,\"#ed7953\"],[0.7777777777777778,\"#fb9f3a\"],[0.8888888888888888,\"#fdca26\"],[1.0,\"#f0f921\"]]}],\"surface\":[{\"type\":\"surface\",\"colorbar\":{\"outlinewidth\":0,\"ticks\":\"\"},\"colorscale\":[[0.0,\"#0d0887\"],[0.1111111111111111,\"#46039f\"],[0.2222222222222222,\"#7201a8\"],[0.3333333333333333,\"#9c179e\"],[0.4444444444444444,\"#bd3786\"],[0.5555555555555556,\"#d8576b\"],[0.6666666666666666,\"#ed7953\"],[0.7777777777777778,\"#fb9f3a\"],[0.8888888888888888,\"#fdca26\"],[1.0,\"#f0f921\"]]}],\"mesh3d\":[{\"type\":\"mesh3d\",\"colorbar\":{\"outlinewidth\":0,\"ticks\":\"\"}}],\"scatter\":[{\"fillpattern\":{\"fillmode\":\"overlay\",\"size\":10,\"solidity\":0.2},\"type\":\"scatter\"}],\"parcoords\":[{\"type\":\"parcoords\",\"line\":{\"colorbar\":{\"outlinewidth\":0,\"ticks\":\"\"}}}],\"scatterpolargl\":[{\"type\":\"scatterpolargl\",\"marker\":{\"colorbar\":{\"outlinewidth\":0,\"ticks\":\"\"}}}],\"bar\":[{\"error_x\":{\"color\":\"#2a3f5f\"},\"error_y\":{\"color\":\"#2a3f5f\"},\"marker\":{\"line\":{\"color\":\"#E5ECF6\",\"width\":0.5},\"pattern\":{\"fillmode\":\"overlay\",\"size\":10,\"solidity\":0.2}},\"type\":\"bar\"}],\"scattergeo\":[{\"type\":\"scattergeo\",\"marker\":{\"colorbar\":{\"outlinewidth\":0,\"ticks\":\"\"}}}],\"scatterpolar\":[{\"type\":\"scatterpolar\",\"marker\":{\"colorbar\":{\"outlinewidth\":0,\"ticks\":\"\"}}}],\"histogram\":[{\"marker\":{\"pattern\":{\"fillmode\":\"overlay\",\"size\":10,\"solidity\":0.2}},\"type\":\"histogram\"}],\"scattergl\":[{\"type\":\"scattergl\",\"marker\":{\"colorbar\":{\"outlinewidth\":0,\"ticks\":\"\"}}}],\"scatter3d\":[{\"type\":\"scatter3d\",\"line\":{\"colorbar\":{\"outlinewidth\":0,\"ticks\":\"\"}},\"marker\":{\"colorbar\":{\"outlinewidth\":0,\"ticks\":\"\"}}}],\"scattermapbox\":[{\"type\":\"scattermapbox\",\"marker\":{\"colorbar\":{\"outlinewidth\":0,\"ticks\":\"\"}}}],\"scatterternary\":[{\"type\":\"scatterternary\",\"marker\":{\"colorbar\":{\"outlinewidth\":0,\"ticks\":\"\"}}}],\"scattercarpet\":[{\"type\":\"scattercarpet\",\"marker\":{\"colorbar\":{\"outlinewidth\":0,\"ticks\":\"\"}}}],\"carpet\":[{\"aaxis\":{\"endlinecolor\":\"#2a3f5f\",\"gridcolor\":\"white\",\"linecolor\":\"white\",\"minorgridcolor\":\"white\",\"startlinecolor\":\"#2a3f5f\"},\"baxis\":{\"endlinecolor\":\"#2a3f5f\",\"gridcolor\":\"white\",\"linecolor\":\"white\",\"minorgridcolor\":\"white\",\"startlinecolor\":\"#2a3f5f\"},\"type\":\"carpet\"}],\"table\":[{\"cells\":{\"fill\":{\"color\":\"#EBF0F8\"},\"line\":{\"color\":\"white\"}},\"header\":{\"fill\":{\"color\":\"#C8D4E3\"},\"line\":{\"color\":\"white\"}},\"type\":\"table\"}],\"barpolar\":[{\"marker\":{\"line\":{\"color\":\"#E5ECF6\",\"width\":0.5},\"pattern\":{\"fillmode\":\"overlay\",\"size\":10,\"solidity\":0.2}},\"type\":\"barpolar\"}],\"pie\":[{\"automargin\":true,\"type\":\"pie\"}]},\"layout\":{\"autotypenumbers\":\"strict\",\"colorway\":[\"#636efa\",\"#EF553B\",\"#00cc96\",\"#ab63fa\",\"#FFA15A\",\"#19d3f3\",\"#FF6692\",\"#B6E880\",\"#FF97FF\",\"#FECB52\"],\"font\":{\"color\":\"#2a3f5f\"},\"hovermode\":\"closest\",\"hoverlabel\":{\"align\":\"left\"},\"paper_bgcolor\":\"white\",\"plot_bgcolor\":\"#E5ECF6\",\"polar\":{\"bgcolor\":\"#E5ECF6\",\"angularaxis\":{\"gridcolor\":\"white\",\"linecolor\":\"white\",\"ticks\":\"\"},\"radialaxis\":{\"gridcolor\":\"white\",\"linecolor\":\"white\",\"ticks\":\"\"}},\"ternary\":{\"bgcolor\":\"#E5ECF6\",\"aaxis\":{\"gridcolor\":\"white\",\"linecolor\":\"white\",\"ticks\":\"\"},\"baxis\":{\"gridcolor\":\"white\",\"linecolor\":\"white\",\"ticks\":\"\"},\"caxis\":{\"gridcolor\":\"white\",\"linecolor\":\"white\",\"ticks\":\"\"}},\"coloraxis\":{\"colorbar\":{\"outlinewidth\":0,\"ticks\":\"\"}},\"colorscale\":{\"sequential\":[[0.0,\"#0d0887\"],[0.1111111111111111,\"#46039f\"],[0.2222222222222222,\"#7201a8\"],[0.3333333333333333,\"#9c179e\"],[0.4444444444444444,\"#bd3786\"],[0.5555555555555556,\"#d8576b\"],[0.6666666666666666,\"#ed7953\"],[0.7777777777777778,\"#fb9f3a\"],[0.8888888888888888,\"#fdca26\"],[1.0,\"#f0f921\"]],\"sequentialminus\":[[0.0,\"#0d0887\"],[0.1111111111111111,\"#46039f\"],[0.2222222222222222,\"#7201a8\"],[0.3333333333333333,\"#9c179e\"],[0.4444444444444444,\"#bd3786\"],[0.5555555555555556,\"#d8576b\"],[0.6666666666666666,\"#ed7953\"],[0.7777777777777778,\"#fb9f3a\"],[0.8888888888888888,\"#fdca26\"],[1.0,\"#f0f921\"]],\"diverging\":[[0,\"#8e0152\"],[0.1,\"#c51b7d\"],[0.2,\"#de77ae\"],[0.3,\"#f1b6da\"],[0.4,\"#fde0ef\"],[0.5,\"#f7f7f7\"],[0.6,\"#e6f5d0\"],[0.7,\"#b8e186\"],[0.8,\"#7fbc41\"],[0.9,\"#4d9221\"],[1,\"#276419\"]]},\"xaxis\":{\"gridcolor\":\"white\",\"linecolor\":\"white\",\"ticks\":\"\",\"title\":{\"standoff\":15},\"zerolinecolor\":\"white\",\"automargin\":true,\"zerolinewidth\":2},\"yaxis\":{\"gridcolor\":\"white\",\"linecolor\":\"white\",\"ticks\":\"\",\"title\":{\"standoff\":15},\"zerolinecolor\":\"white\",\"automargin\":true,\"zerolinewidth\":2},\"scene\":{\"xaxis\":{\"backgroundcolor\":\"#E5ECF6\",\"gridcolor\":\"white\",\"linecolor\":\"white\",\"showbackground\":true,\"ticks\":\"\",\"zerolinecolor\":\"white\",\"gridwidth\":2},\"yaxis\":{\"backgroundcolor\":\"#E5ECF6\",\"gridcolor\":\"white\",\"linecolor\":\"white\",\"showbackground\":true,\"ticks\":\"\",\"zerolinecolor\":\"white\",\"gridwidth\":2},\"zaxis\":{\"backgroundcolor\":\"#E5ECF6\",\"gridcolor\":\"white\",\"linecolor\":\"white\",\"showbackground\":true,\"ticks\":\"\",\"zerolinecolor\":\"white\",\"gridwidth\":2}},\"shapedefaults\":{\"line\":{\"color\":\"#2a3f5f\"}},\"annotationdefaults\":{\"arrowcolor\":\"#2a3f5f\",\"arrowhead\":0,\"arrowwidth\":1},\"geo\":{\"bgcolor\":\"white\",\"landcolor\":\"#E5ECF6\",\"subunitcolor\":\"white\",\"showland\":true,\"showlakes\":true,\"lakecolor\":\"white\"},\"title\":{\"x\":0.05},\"mapbox\":{\"style\":\"light\"}}},\"title\":{\"text\":\"Iteration Average Dice Score for Each Augmentation\"},\"xaxis\":{\"title\":{\"text\":\"Iteration\"}},\"yaxis\":{\"title\":{\"text\":\"Average Dice Score\"}}},                        {\"responsive\": true}                    ).then(function(){\n",
              "                            \n",
              "var gd = document.getElementById('324107ae-7587-4a12-bd7e-da8460fcbf68');\n",
              "var x = new MutationObserver(function (mutations, observer) {{\n",
              "        var display = window.getComputedStyle(gd).display;\n",
              "        if (!display || display === 'none') {{\n",
              "            console.log([gd, 'removed!']);\n",
              "            Plotly.purge(gd);\n",
              "            observer.disconnect();\n",
              "        }}\n",
              "}});\n",
              "\n",
              "// Listen for the removal of the full notebook cells\n",
              "var notebookContainer = gd.closest('#notebook-container');\n",
              "if (notebookContainer) {{\n",
              "    x.observe(notebookContainer, {childList: true});\n",
              "}}\n",
              "\n",
              "// Listen for the clearing of the current output cell\n",
              "var outputEl = gd.closest('.output');\n",
              "if (outputEl) {{\n",
              "    x.observe(outputEl, {childList: true});\n",
              "}}\n",
              "\n",
              "                        })                };                            </script>        </div>\n",
              "</body>\n",
              "</html>"
            ]
          },
          "metadata": {}
        }
      ]
    },
    {
      "cell_type": "code",
      "source": [
        "#EVALUATING NO AUGMENTATIONS VS ALL AUGMENTATIONS VS ONLY GOOD AUGMENTATIONS\n",
        "\n",
        "unet_no_aug_epoch_loss = np.load('/content/drive/MyDrive/face-seg-project-2023/new-training-062023/face_epoch_loss_values_unetwithaug_ABSOLUTELY_NOAUG.npy')\n",
        "unet_no_aug_metric_values = np.load('/content/drive/MyDrive/face-seg-project-2023/new-training-062023/face_metric_values_unetwithaug_ABSOLUTELY_NOAUG.npy')\n",
        "\n",
        "unet_all_aug_epoch_loss = np.load('/content/drive/MyDrive/face-seg-project-2023/new-training-062023/face_epoch_loss_values_unetwithaug_ALL_AUG.npy')\n",
        "unet_all_aug_metric_values = np.load('/content/drive/MyDrive/face-seg-project-2023/new-training-062023/face_metric_values_unetwithaug_ALL_AUG.npy')\n",
        "\n",
        "unet_good_aug_epoch_loss = np.load('/content/drive/MyDrive/face-seg-project-2023/new-training-062023/face_epoch_loss_values_unetwithaug_ONLY_GOOD_AUG.npy')\n",
        "unet_good_aug_metric_values = np.load('/content/drive/MyDrive/face-seg-project-2023/new-training-062023/face_metric_values_unetwithaug_ONLY_GOOD_AUG.npy')\n",
        "\n",
        "\n",
        "\n"
      ],
      "metadata": {
        "id": "DXQHQxyWFzqH"
      },
      "execution_count": null,
      "outputs": []
    },
    {
      "cell_type": "code",
      "source": [
        "# Create traces\n",
        "fig = go.Figure()\n",
        "\n",
        "\n",
        "x, y = Extract_x_y(unet_no_aug_epoch_loss)\n",
        "fig.add_trace(go.Scatter(x=x, y=y,\n",
        "                    mode='lines',\n",
        "                    name='No Augmentations'))\n",
        "\n",
        "x, y = Extract_x_y(unet_all_aug_epoch_loss)\n",
        "fig.add_trace(go.Scatter(x=x, y=y,\n",
        "                    mode='lines',\n",
        "                    name='All Augmentations'))\n",
        "\n",
        "x, y = Extract_x_y(unet_good_aug_epoch_loss)\n",
        "fig.add_trace(go.Scatter(x=x, y=y,\n",
        "                    mode='lines',\n",
        "                    name='\"Good\" Augmentations*'))\n",
        "\n",
        "\n",
        "# Edit the layout\n",
        "fig.update_layout(title='Iteration Average DiceCE Loss for Each Augmentation Criteria',\n",
        "                   xaxis_title='Iteration',\n",
        "                   yaxis_title='Average DiceCE Loss')\n",
        "\n",
        "\n",
        "fig.show()"
      ],
      "metadata": {
        "colab": {
          "base_uri": "https://localhost:8080/",
          "height": 542
        },
        "id": "SbIhN5yBmA66",
        "outputId": "840ac918-2ec5-4e31-e9c7-ac171d133a28"
      },
      "execution_count": null,
      "outputs": [
        {
          "output_type": "display_data",
          "data": {
            "text/html": [
              "<html>\n",
              "<head><meta charset=\"utf-8\" /></head>\n",
              "<body>\n",
              "    <div>            <script src=\"https://cdnjs.cloudflare.com/ajax/libs/mathjax/2.7.5/MathJax.js?config=TeX-AMS-MML_SVG\"></script><script type=\"text/javascript\">if (window.MathJax && window.MathJax.Hub && window.MathJax.Hub.Config) {window.MathJax.Hub.Config({SVG: {font: \"STIX-Web\"}});}</script>                <script type=\"text/javascript\">window.PlotlyConfig = {MathJaxConfig: 'local'};</script>\n",
              "        <script charset=\"utf-8\" src=\"https://cdn.plot.ly/plotly-2.24.1.min.js\"></script>                <div id=\"c4a085a7-05bc-47f0-ba40-9a098f505f5e\" class=\"plotly-graph-div\" style=\"height:525px; width:100%;\"></div>            <script type=\"text/javascript\">                                    window.PLOTLYENV=window.PLOTLYENV || {};                                    if (document.getElementById(\"c4a085a7-05bc-47f0-ba40-9a098f505f5e\")) {                    Plotly.newPlot(                        \"c4a085a7-05bc-47f0-ba40-9a098f505f5e\",                        [{\"mode\":\"lines\",\"name\":\"No Augmentations\",\"x\":[1,2,3,4,5,6,7,8,9,10,11,12,13,14,15,16,17,18,19,20,21,22,23,24,25,26,27,28,29,30,31,32,33,34,35,36,37,38,39,40,41,42,43,44,45,46,47,48,49,50,51,52,53,54,55,56,57,58,59,60,61,62,63,64,65,66,67,68,69,70],\"y\":[0.9027017435512027,0.6833564826886948,0.5502925978766547,0.45267560084660846,0.3523549314807443,0.33142597326692547,0.21303493210247584,0.24198008346003155,0.20849067614048342,0.18278428460612442,0.1598195254370786,0.14101655716481415,0.12282307875358452,0.0884539525096233,0.09825633724733275,0.081784983476003,0.08000270200845523,0.07778481781482696,0.0676146854871306,0.06390193494466635,0.05643538228775326,0.05441153611649167,0.04844158887863159,0.04712693062093523,0.044942500851588484,0.043222719643797196,0.03982078407327054,0.03806266143918038,0.037171072860965965,0.033165825779239336,0.03536723517611915,0.0352455522865057,0.031231405576918184,0.030687758529728108,0.02903505757210716,0.026761837581645197,0.028225487541584743,0.028388145984264843,0.022799165750091725,0.026126141402315586,0.020359400659799576,0.024613442654545244,0.024596161630055676,0.02266075275838375,0.023371672198649437,0.021266138728927162,0.022337970974029234,0.02780110921178545,0.02121110438087652,0.02213890008816991,0.021227902309461075,0.02086102868011896,0.021986957639455795,0.020767408502051384,0.021535648892705258,0.019802638215526025,0.01875425378481547,0.019478011971864946,0.01919454712420702,0.01828317010197146,0.019329642002972273,0.018415841371997407,0.018054200827398083,0.016819501295685768,0.01847597493065728,0.018467144914155388,0.018719112553766796,0.018627080908963378,0.01771727204322815,0.017750543969698617],\"type\":\"scatter\"},{\"mode\":\"lines\",\"name\":\"All Augmentations\",\"x\":[1,2,3,4,5,6,7,8,9,10,11,12,13,14,15,16,17,18,19,20,21,22,23,24,25,26,27,28,29,30,31,32,33,34,35,36,37,38,39,40,41,42,43,44],\"y\":[0.9938954549866754,0.7730657776741132,0.5929157711841442,0.5438632170359293,0.4686311202890733,0.43382918216147515,0.35138088890484404,0.3447432136812875,0.314571943841403,0.28015234750328644,0.2633793477130973,0.24345790432847064,0.2511693933757685,0.24240827904297754,0.23794557671157682,0.2527080277601878,0.18614295965585953,0.19434532384077707,0.18810337833289442,0.17984392872223487,0.14835595810099653,0.15871085741303184,0.15194903562466303,0.15717435032129287,0.14981355453714912,0.15154070939336503,0.18709456070627964,0.13963055193424226,0.14177922684638228,0.11703058630228043,0.12466813346334532,0.09603292196989059,0.11152520212458401,0.12686719097100296,0.10911478630958064,0.11778042443207841,0.10268812697558176,0.10802922044929705,0.09611904959787022,0.10512541725914529,0.11020372807979584,0.09586397498040586,0.09468238040396612,0.1062594238254759],\"type\":\"scatter\"},{\"mode\":\"lines\",\"name\":\"\\\"Good\\\" Augmentations*\",\"x\":[1,2,3,4,5,6,7,8,9,10,11,12,13,14,15,16,17,18,19,20,21,22,23,24,25,26,27,28,29,30,31,32,33,34,35,36,37,38,39,40,41,42,43,44,45,46,47,48,49,50,51,52,53,54,55,56,57,58,59,60,61,62,63,64,65,66,67,68,69,70,71,72,73,74,75,76,77,78,79,80,81,82,83,84,85,86,87,88,89,90,91,92,93,94,95,96,97,98,99,100,101,102,103,104,105,106,107,108,109,110,111,112,113,114,115,116,117,118],\"y\":[0.7822506733842798,0.6338966733788791,0.5172134891704276,0.4626111260482243,0.3654223224695991,0.351962573685736,0.3932138979434967,0.2850381323071413,0.2424836764230004,0.20084808811996924,0.19619707115318463,0.18068506957396216,0.15908257726390482,0.13532371876331475,0.13499872021529138,0.20915126303831735,0.12336942477103992,0.1206299673517545,0.11922095022324858,0.11535731187233558,0.10362603829095238,0.09655516811392524,0.08691693594058354,0.09370513566666179,0.08554227967505101,0.08202543833426067,0.08134803133951106,0.07692974239587784,0.08282990002485573,0.07634775911768278,0.06980113392951441,0.08511703535914421,0.06877879598518698,0.06331898368798293,0.0629070487714583,0.06184458465718511,0.07506602931590307,0.059935687534641804,0.058942465619607406,0.05422069909090691,0.07313205301761627,0.05569505369341051,0.06481106671160214,0.05491611954790575,0.05446731186811886,0.051989805391606164,0.052345482316219584,0.055087843111583164,0.05679086552456368,0.05129401607415344,0.05186021700501442,0.04881306294945703,0.050018516247687134,0.050491373512451934,0.04707423941447185,0.0508742026832639,0.040413932874798775,0.04255034191868244,0.047442850197354954,0.046081159392307544,0.04697495389443177,0.048724665453559475,0.045845019309358165,0.04251753828591771,0.04752818677160475,0.04338458410383743,0.04094888232648373,0.04378092818906609,0.043634904623031615,0.04508938533482981,0.04645416388909022,0.049657100884645596,0.04752201586961746,0.04566772413871637,0.04330661106709536,0.040973730205047514,0.04336356443922911,0.04055099304588068,0.04239007533250148,0.04151891002600843,0.04397114168139214,0.04307917505502701,0.039667745347361304,0.04682279054126511,0.052892780483320904,0.04185171315949115,0.03470796445275054,0.03848231169131567,0.03464894076543195,0.038842302552142806,0.03917975747321226,0.038382825808543145,0.04041591032907583,0.03476552640938241,0.04140921814714448,0.03752885859173078,0.0373517742418513,0.032388088603814445,0.03657403774559498,0.038130640387535095,0.03702268222796506,0.03976280024418464,0.037978135147377065,0.037330046160654586,0.034433854950798884,0.035793658511506184,0.03639133108986749,0.0373511689049857,0.036860595732717445,0.03691367372870445,0.038047854803868984,0.03715247151752313,0.036670842518409096,0.03635771721601486,0.03462550575595077,0.03364408054909149,0.03390141870946654,0.0362998301913934],\"type\":\"scatter\"}],                        {\"template\":{\"data\":{\"histogram2dcontour\":[{\"type\":\"histogram2dcontour\",\"colorbar\":{\"outlinewidth\":0,\"ticks\":\"\"},\"colorscale\":[[0.0,\"#0d0887\"],[0.1111111111111111,\"#46039f\"],[0.2222222222222222,\"#7201a8\"],[0.3333333333333333,\"#9c179e\"],[0.4444444444444444,\"#bd3786\"],[0.5555555555555556,\"#d8576b\"],[0.6666666666666666,\"#ed7953\"],[0.7777777777777778,\"#fb9f3a\"],[0.8888888888888888,\"#fdca26\"],[1.0,\"#f0f921\"]]}],\"choropleth\":[{\"type\":\"choropleth\",\"colorbar\":{\"outlinewidth\":0,\"ticks\":\"\"}}],\"histogram2d\":[{\"type\":\"histogram2d\",\"colorbar\":{\"outlinewidth\":0,\"ticks\":\"\"},\"colorscale\":[[0.0,\"#0d0887\"],[0.1111111111111111,\"#46039f\"],[0.2222222222222222,\"#7201a8\"],[0.3333333333333333,\"#9c179e\"],[0.4444444444444444,\"#bd3786\"],[0.5555555555555556,\"#d8576b\"],[0.6666666666666666,\"#ed7953\"],[0.7777777777777778,\"#fb9f3a\"],[0.8888888888888888,\"#fdca26\"],[1.0,\"#f0f921\"]]}],\"heatmap\":[{\"type\":\"heatmap\",\"colorbar\":{\"outlinewidth\":0,\"ticks\":\"\"},\"colorscale\":[[0.0,\"#0d0887\"],[0.1111111111111111,\"#46039f\"],[0.2222222222222222,\"#7201a8\"],[0.3333333333333333,\"#9c179e\"],[0.4444444444444444,\"#bd3786\"],[0.5555555555555556,\"#d8576b\"],[0.6666666666666666,\"#ed7953\"],[0.7777777777777778,\"#fb9f3a\"],[0.8888888888888888,\"#fdca26\"],[1.0,\"#f0f921\"]]}],\"heatmapgl\":[{\"type\":\"heatmapgl\",\"colorbar\":{\"outlinewidth\":0,\"ticks\":\"\"},\"colorscale\":[[0.0,\"#0d0887\"],[0.1111111111111111,\"#46039f\"],[0.2222222222222222,\"#7201a8\"],[0.3333333333333333,\"#9c179e\"],[0.4444444444444444,\"#bd3786\"],[0.5555555555555556,\"#d8576b\"],[0.6666666666666666,\"#ed7953\"],[0.7777777777777778,\"#fb9f3a\"],[0.8888888888888888,\"#fdca26\"],[1.0,\"#f0f921\"]]}],\"contourcarpet\":[{\"type\":\"contourcarpet\",\"colorbar\":{\"outlinewidth\":0,\"ticks\":\"\"}}],\"contour\":[{\"type\":\"contour\",\"colorbar\":{\"outlinewidth\":0,\"ticks\":\"\"},\"colorscale\":[[0.0,\"#0d0887\"],[0.1111111111111111,\"#46039f\"],[0.2222222222222222,\"#7201a8\"],[0.3333333333333333,\"#9c179e\"],[0.4444444444444444,\"#bd3786\"],[0.5555555555555556,\"#d8576b\"],[0.6666666666666666,\"#ed7953\"],[0.7777777777777778,\"#fb9f3a\"],[0.8888888888888888,\"#fdca26\"],[1.0,\"#f0f921\"]]}],\"surface\":[{\"type\":\"surface\",\"colorbar\":{\"outlinewidth\":0,\"ticks\":\"\"},\"colorscale\":[[0.0,\"#0d0887\"],[0.1111111111111111,\"#46039f\"],[0.2222222222222222,\"#7201a8\"],[0.3333333333333333,\"#9c179e\"],[0.4444444444444444,\"#bd3786\"],[0.5555555555555556,\"#d8576b\"],[0.6666666666666666,\"#ed7953\"],[0.7777777777777778,\"#fb9f3a\"],[0.8888888888888888,\"#fdca26\"],[1.0,\"#f0f921\"]]}],\"mesh3d\":[{\"type\":\"mesh3d\",\"colorbar\":{\"outlinewidth\":0,\"ticks\":\"\"}}],\"scatter\":[{\"fillpattern\":{\"fillmode\":\"overlay\",\"size\":10,\"solidity\":0.2},\"type\":\"scatter\"}],\"parcoords\":[{\"type\":\"parcoords\",\"line\":{\"colorbar\":{\"outlinewidth\":0,\"ticks\":\"\"}}}],\"scatterpolargl\":[{\"type\":\"scatterpolargl\",\"marker\":{\"colorbar\":{\"outlinewidth\":0,\"ticks\":\"\"}}}],\"bar\":[{\"error_x\":{\"color\":\"#2a3f5f\"},\"error_y\":{\"color\":\"#2a3f5f\"},\"marker\":{\"line\":{\"color\":\"#E5ECF6\",\"width\":0.5},\"pattern\":{\"fillmode\":\"overlay\",\"size\":10,\"solidity\":0.2}},\"type\":\"bar\"}],\"scattergeo\":[{\"type\":\"scattergeo\",\"marker\":{\"colorbar\":{\"outlinewidth\":0,\"ticks\":\"\"}}}],\"scatterpolar\":[{\"type\":\"scatterpolar\",\"marker\":{\"colorbar\":{\"outlinewidth\":0,\"ticks\":\"\"}}}],\"histogram\":[{\"marker\":{\"pattern\":{\"fillmode\":\"overlay\",\"size\":10,\"solidity\":0.2}},\"type\":\"histogram\"}],\"scattergl\":[{\"type\":\"scattergl\",\"marker\":{\"colorbar\":{\"outlinewidth\":0,\"ticks\":\"\"}}}],\"scatter3d\":[{\"type\":\"scatter3d\",\"line\":{\"colorbar\":{\"outlinewidth\":0,\"ticks\":\"\"}},\"marker\":{\"colorbar\":{\"outlinewidth\":0,\"ticks\":\"\"}}}],\"scattermapbox\":[{\"type\":\"scattermapbox\",\"marker\":{\"colorbar\":{\"outlinewidth\":0,\"ticks\":\"\"}}}],\"scatterternary\":[{\"type\":\"scatterternary\",\"marker\":{\"colorbar\":{\"outlinewidth\":0,\"ticks\":\"\"}}}],\"scattercarpet\":[{\"type\":\"scattercarpet\",\"marker\":{\"colorbar\":{\"outlinewidth\":0,\"ticks\":\"\"}}}],\"carpet\":[{\"aaxis\":{\"endlinecolor\":\"#2a3f5f\",\"gridcolor\":\"white\",\"linecolor\":\"white\",\"minorgridcolor\":\"white\",\"startlinecolor\":\"#2a3f5f\"},\"baxis\":{\"endlinecolor\":\"#2a3f5f\",\"gridcolor\":\"white\",\"linecolor\":\"white\",\"minorgridcolor\":\"white\",\"startlinecolor\":\"#2a3f5f\"},\"type\":\"carpet\"}],\"table\":[{\"cells\":{\"fill\":{\"color\":\"#EBF0F8\"},\"line\":{\"color\":\"white\"}},\"header\":{\"fill\":{\"color\":\"#C8D4E3\"},\"line\":{\"color\":\"white\"}},\"type\":\"table\"}],\"barpolar\":[{\"marker\":{\"line\":{\"color\":\"#E5ECF6\",\"width\":0.5},\"pattern\":{\"fillmode\":\"overlay\",\"size\":10,\"solidity\":0.2}},\"type\":\"barpolar\"}],\"pie\":[{\"automargin\":true,\"type\":\"pie\"}]},\"layout\":{\"autotypenumbers\":\"strict\",\"colorway\":[\"#636efa\",\"#EF553B\",\"#00cc96\",\"#ab63fa\",\"#FFA15A\",\"#19d3f3\",\"#FF6692\",\"#B6E880\",\"#FF97FF\",\"#FECB52\"],\"font\":{\"color\":\"#2a3f5f\"},\"hovermode\":\"closest\",\"hoverlabel\":{\"align\":\"left\"},\"paper_bgcolor\":\"white\",\"plot_bgcolor\":\"#E5ECF6\",\"polar\":{\"bgcolor\":\"#E5ECF6\",\"angularaxis\":{\"gridcolor\":\"white\",\"linecolor\":\"white\",\"ticks\":\"\"},\"radialaxis\":{\"gridcolor\":\"white\",\"linecolor\":\"white\",\"ticks\":\"\"}},\"ternary\":{\"bgcolor\":\"#E5ECF6\",\"aaxis\":{\"gridcolor\":\"white\",\"linecolor\":\"white\",\"ticks\":\"\"},\"baxis\":{\"gridcolor\":\"white\",\"linecolor\":\"white\",\"ticks\":\"\"},\"caxis\":{\"gridcolor\":\"white\",\"linecolor\":\"white\",\"ticks\":\"\"}},\"coloraxis\":{\"colorbar\":{\"outlinewidth\":0,\"ticks\":\"\"}},\"colorscale\":{\"sequential\":[[0.0,\"#0d0887\"],[0.1111111111111111,\"#46039f\"],[0.2222222222222222,\"#7201a8\"],[0.3333333333333333,\"#9c179e\"],[0.4444444444444444,\"#bd3786\"],[0.5555555555555556,\"#d8576b\"],[0.6666666666666666,\"#ed7953\"],[0.7777777777777778,\"#fb9f3a\"],[0.8888888888888888,\"#fdca26\"],[1.0,\"#f0f921\"]],\"sequentialminus\":[[0.0,\"#0d0887\"],[0.1111111111111111,\"#46039f\"],[0.2222222222222222,\"#7201a8\"],[0.3333333333333333,\"#9c179e\"],[0.4444444444444444,\"#bd3786\"],[0.5555555555555556,\"#d8576b\"],[0.6666666666666666,\"#ed7953\"],[0.7777777777777778,\"#fb9f3a\"],[0.8888888888888888,\"#fdca26\"],[1.0,\"#f0f921\"]],\"diverging\":[[0,\"#8e0152\"],[0.1,\"#c51b7d\"],[0.2,\"#de77ae\"],[0.3,\"#f1b6da\"],[0.4,\"#fde0ef\"],[0.5,\"#f7f7f7\"],[0.6,\"#e6f5d0\"],[0.7,\"#b8e186\"],[0.8,\"#7fbc41\"],[0.9,\"#4d9221\"],[1,\"#276419\"]]},\"xaxis\":{\"gridcolor\":\"white\",\"linecolor\":\"white\",\"ticks\":\"\",\"title\":{\"standoff\":15},\"zerolinecolor\":\"white\",\"automargin\":true,\"zerolinewidth\":2},\"yaxis\":{\"gridcolor\":\"white\",\"linecolor\":\"white\",\"ticks\":\"\",\"title\":{\"standoff\":15},\"zerolinecolor\":\"white\",\"automargin\":true,\"zerolinewidth\":2},\"scene\":{\"xaxis\":{\"backgroundcolor\":\"#E5ECF6\",\"gridcolor\":\"white\",\"linecolor\":\"white\",\"showbackground\":true,\"ticks\":\"\",\"zerolinecolor\":\"white\",\"gridwidth\":2},\"yaxis\":{\"backgroundcolor\":\"#E5ECF6\",\"gridcolor\":\"white\",\"linecolor\":\"white\",\"showbackground\":true,\"ticks\":\"\",\"zerolinecolor\":\"white\",\"gridwidth\":2},\"zaxis\":{\"backgroundcolor\":\"#E5ECF6\",\"gridcolor\":\"white\",\"linecolor\":\"white\",\"showbackground\":true,\"ticks\":\"\",\"zerolinecolor\":\"white\",\"gridwidth\":2}},\"shapedefaults\":{\"line\":{\"color\":\"#2a3f5f\"}},\"annotationdefaults\":{\"arrowcolor\":\"#2a3f5f\",\"arrowhead\":0,\"arrowwidth\":1},\"geo\":{\"bgcolor\":\"white\",\"landcolor\":\"#E5ECF6\",\"subunitcolor\":\"white\",\"showland\":true,\"showlakes\":true,\"lakecolor\":\"white\"},\"title\":{\"x\":0.05},\"mapbox\":{\"style\":\"light\"}}},\"title\":{\"text\":\"Iteration Average DiceCE Loss for Each Augmentation Criteria\"},\"xaxis\":{\"title\":{\"text\":\"Iteration\"}},\"yaxis\":{\"title\":{\"text\":\"Average DiceCE Loss\"}}},                        {\"responsive\": true}                    ).then(function(){\n",
              "                            \n",
              "var gd = document.getElementById('c4a085a7-05bc-47f0-ba40-9a098f505f5e');\n",
              "var x = new MutationObserver(function (mutations, observer) {{\n",
              "        var display = window.getComputedStyle(gd).display;\n",
              "        if (!display || display === 'none') {{\n",
              "            console.log([gd, 'removed!']);\n",
              "            Plotly.purge(gd);\n",
              "            observer.disconnect();\n",
              "        }}\n",
              "}});\n",
              "\n",
              "// Listen for the removal of the full notebook cells\n",
              "var notebookContainer = gd.closest('#notebook-container');\n",
              "if (notebookContainer) {{\n",
              "    x.observe(notebookContainer, {childList: true});\n",
              "}}\n",
              "\n",
              "// Listen for the clearing of the current output cell\n",
              "var outputEl = gd.closest('.output');\n",
              "if (outputEl) {{\n",
              "    x.observe(outputEl, {childList: true});\n",
              "}}\n",
              "\n",
              "                        })                };                            </script>        </div>\n",
              "</body>\n",
              "</html>"
            ]
          },
          "metadata": {}
        }
      ]
    },
    {
      "cell_type": "code",
      "source": [
        "# Create traces\n",
        "fig = go.Figure()\n",
        "\n",
        "\n",
        "x, y = Extract_x_y(unet_no_aug_metric_values)\n",
        "fig.add_trace(go.Scatter(x=x, y=y,\n",
        "                    mode='lines',\n",
        "                    name='No Augmentations'))\n",
        "\n",
        "x, y = Extract_x_y(unet_all_aug_metric_values)\n",
        "fig.add_trace(go.Scatter(x=x, y=y,\n",
        "                    mode='lines',\n",
        "                    name='All Augmentations'))\n",
        "\n",
        "x, y = Extract_x_y(unet_good_aug_metric_values)\n",
        "fig.add_trace(go.Scatter(x=x, y=y,\n",
        "                    mode='lines',\n",
        "                    name='\"Good\" Augmentations*'))\n",
        "\n",
        "\n",
        "# Edit the layout\n",
        "fig.update_layout(title='Iteration Average Dice Score for Each Augmentation Criteria',\n",
        "                   xaxis_title='Iteration',\n",
        "                   yaxis_title='Average Dice Score')\n",
        "\n",
        "\n",
        "fig.show()"
      ],
      "metadata": {
        "colab": {
          "base_uri": "https://localhost:8080/",
          "height": 542
        },
        "id": "EhEmfZ_ImkTe",
        "outputId": "2fbe02a7-007a-4b8b-e2e5-f20c0e7e8fb8"
      },
      "execution_count": null,
      "outputs": [
        {
          "output_type": "display_data",
          "data": {
            "text/html": [
              "<html>\n",
              "<head><meta charset=\"utf-8\" /></head>\n",
              "<body>\n",
              "    <div>            <script src=\"https://cdnjs.cloudflare.com/ajax/libs/mathjax/2.7.5/MathJax.js?config=TeX-AMS-MML_SVG\"></script><script type=\"text/javascript\">if (window.MathJax && window.MathJax.Hub && window.MathJax.Hub.Config) {window.MathJax.Hub.Config({SVG: {font: \"STIX-Web\"}});}</script>                <script type=\"text/javascript\">window.PlotlyConfig = {MathJaxConfig: 'local'};</script>\n",
              "        <script charset=\"utf-8\" src=\"https://cdn.plot.ly/plotly-2.24.1.min.js\"></script>                <div id=\"750b114d-4410-424d-8158-bfb05d74ea11\" class=\"plotly-graph-div\" style=\"height:525px; width:100%;\"></div>            <script type=\"text/javascript\">                                    window.PLOTLYENV=window.PLOTLYENV || {};                                    if (document.getElementById(\"750b114d-4410-424d-8158-bfb05d74ea11\")) {                    Plotly.newPlot(                        \"750b114d-4410-424d-8158-bfb05d74ea11\",                        [{\"mode\":\"lines\",\"name\":\"No Augmentations\",\"x\":[1,2,3,4,5,6,7,8,9,10,11,12,13,14,15,16,17,18,19,20,21,22,23,24,25,26,27,28,29,30,31,32,33,34,35,36,37,38,39,40,41,42,43,44,45,46,47,48,49,50,51,52,53,54,55,56,57,58,59,60,61,62,63,64,65,66,67,68,69,70],\"y\":[0.8509120444456736,0.8887891421715418,0.9095873137315115,0.9235531588395437,0.9314682831366857,0.9353951712449392,0.9366633941729864,0.9381110568841299,0.9426769514878591,0.9452393899361292,0.9403534680604935,0.9489065508047739,0.9457233051458994,0.9487548718849818,0.9494728495677313,0.951478992899259,0.9526084164778391,0.9530267616113027,0.9537234008312225,0.9528723259766897,0.953687439362208,0.9554752061764399,0.9595440228780111,0.9548651625712713,0.952727809548378,0.9582382986942927,0.9580169518788656,0.9568938265244166,0.9603815525770187,0.9600676596164703,0.9612585306167603,0.9628763149182001,0.9619022955497106,0.9619830499092737,0.9582995275656382,0.9600464701652527,0.9639368851979574,0.9583660562833151,0.9629298796256384,0.9621978352467219,0.9593276778856913,0.9596902976433436,0.9645809978246689,0.9632473637660345,0.9610680590073267,0.9624945422013601,0.9634126573801041,0.9647896240154902,0.963794524470965,0.9639434516429901,0.9632420788208643,0.9604975332816442,0.9638213664293289,0.9651446590820948,0.9629079947868983,0.9627176274855932,0.965059315164884,0.9622778544823328,0.963996355732282,0.9676879396041235,0.962547779083252,0.9652369022369385,0.9669357538223267,0.9651383260885874,0.9661468615134557,0.9643466820319494,0.9641712854305903,0.9654410382111868,0.9665942589441935,0.9653253902991613],\"type\":\"scatter\"},{\"mode\":\"lines\",\"name\":\"All Augmentations\",\"x\":[1,2,3,4,5,6,7,8,9,10,11,12,13,14,15,16,17,18,19,20,21,22,23,24,25,26,27,28,29,30,31,32,33,34,35,36,37,38,39,40,41,42,43,44],\"y\":[0.797368143995603,0.8323457688093185,0.8243559698263804,0.8398366073767344,0.8402954439322153,0.8501603056987127,0.8459902654091517,0.862301250298818,0.8652082135279974,0.8767776340246201,0.8503858149051666,0.8636205593744913,0.8691227982441584,0.8753597537676493,0.8766517341136932,0.8780483653148016,0.8790891269842783,0.8831913967927297,0.8862813512484232,0.8761106083790461,0.8779253611962,0.8762297630310059,0.8847780823707581,0.893928587436676,0.8882163316011429,0.88067693511645,0.8667191714048386,0.8869717170794805,0.873205249508222,0.8756807446479797,0.8798895875612894,0.8855967074632645,0.8761477172374725,0.8943759550650915,0.882725715637207,0.8753864566485087,0.8816275248924891,0.8671842515468597,0.880336398879687,0.8865228245655695,0.8796025216579437,0.8845713585615158,0.8897845496733984,0.8696595132350922],\"type\":\"scatter\"},{\"mode\":\"lines\",\"name\":\"\\\"Good\\\" Augmentations*\",\"x\":[1,2,3,4,5,6,7,8,9,10,11,12,13,14,15,16,17,18,19,20,21,22,23,24,25,26,27,28,29,30,31,32,33,34,35,36,37,38,39,40,41,42,43,44,45,46,47,48,49,50,51,52,53,54,55,56,57,58,59,60,61,62,63,64,65,66,67,68,69,70,71,72,73,74,75,76,77,78,79,80,81,82,83,84,85,86,87,88,89,90,91,92,93,94,95,96,97,98,99,100,101,102,103,104,105,106,107,108,109,110,111,112,113,114,115,116,117,118],\"y\":[0.8519014070431391,0.8636603703101476,0.90300985177358,0.9109381437301636,0.9032370299100876,0.9160806387662888,0.9219942440589269,0.9301384389400482,0.9369934399922689,0.9458351780970892,0.9467043181260427,0.9489244222640991,0.9545252025127411,0.9575116833051046,0.9604816337426504,0.9602900445461273,0.9660820613304774,0.9630586306254069,0.9633118460575739,0.9646831353505453,0.961607868472735,0.9664769421021143,0.9717258810997009,0.9721238861481348,0.9727318088213602,0.9711110343535742,0.9701967338720957,0.975679745276769,0.9693599989016851,0.9751133173704147,0.9778903275728226,0.9722743878761927,0.9756859838962555,0.9762737601995468,0.9770696957906088,0.9727039386828741,0.9744023183981577,0.9763877242803574,0.9783277710278829,0.978621631860733,0.9803895850976309,0.9789804766575495,0.9785448561112086,0.9798570473988851,0.9814292242129644,0.9814169059197108,0.980828528602918,0.981707880894343,0.9793943812449774,0.9813407609860102,0.9822472433249155,0.9821649690469106,0.9815342674652735,0.9820439219474792,0.9813637683788935,0.9828359733025233,0.9814943025509516,0.9816581308841705,0.983377089103063,0.9829361587762833,0.9832974324623743,0.9826370278994242,0.9831649363040924,0.9824039737383524,0.9828743984301885,0.9823492815097173,0.9837173223495483,0.9823548197746277,0.9835037887096405,0.9833899686733881,0.9826203087965647,0.982852041721344,0.9817205121119817,0.9838056365648905,0.9831882615884145,0.9836946527163187,0.9839067856470743,0.9847092578808466,0.9840789089600245,0.983885849515597,0.9834803690512975,0.9849219818909963,0.9842220693826675,0.9840988963842392,0.9802552411953608,0.9844875782728195,0.984941820303599,0.984700565536817,0.9844180941581726,0.9853636225064596,0.9841411461432775,0.9848932772874832,0.984254444638888,0.9853300154209137,0.9840121269226074,0.9847034613291422,0.9854714224735895,0.9854737371206284,0.9854679703712463,0.9853975623846054,0.9859016835689545,0.9855344295501709,0.984601616859436,0.9852581322193146,0.9843987623850504,0.9851802984873453,0.9855973621209463,0.9860013723373413,0.9855661342541376,0.984170044461886,0.985871305068334,0.9844911148150762,0.9854118774334589,0.985418438911438,0.9854927907387415,0.9859011123577753,0.9855021287997564,0.9858810702959696],\"type\":\"scatter\"}],                        {\"template\":{\"data\":{\"histogram2dcontour\":[{\"type\":\"histogram2dcontour\",\"colorbar\":{\"outlinewidth\":0,\"ticks\":\"\"},\"colorscale\":[[0.0,\"#0d0887\"],[0.1111111111111111,\"#46039f\"],[0.2222222222222222,\"#7201a8\"],[0.3333333333333333,\"#9c179e\"],[0.4444444444444444,\"#bd3786\"],[0.5555555555555556,\"#d8576b\"],[0.6666666666666666,\"#ed7953\"],[0.7777777777777778,\"#fb9f3a\"],[0.8888888888888888,\"#fdca26\"],[1.0,\"#f0f921\"]]}],\"choropleth\":[{\"type\":\"choropleth\",\"colorbar\":{\"outlinewidth\":0,\"ticks\":\"\"}}],\"histogram2d\":[{\"type\":\"histogram2d\",\"colorbar\":{\"outlinewidth\":0,\"ticks\":\"\"},\"colorscale\":[[0.0,\"#0d0887\"],[0.1111111111111111,\"#46039f\"],[0.2222222222222222,\"#7201a8\"],[0.3333333333333333,\"#9c179e\"],[0.4444444444444444,\"#bd3786\"],[0.5555555555555556,\"#d8576b\"],[0.6666666666666666,\"#ed7953\"],[0.7777777777777778,\"#fb9f3a\"],[0.8888888888888888,\"#fdca26\"],[1.0,\"#f0f921\"]]}],\"heatmap\":[{\"type\":\"heatmap\",\"colorbar\":{\"outlinewidth\":0,\"ticks\":\"\"},\"colorscale\":[[0.0,\"#0d0887\"],[0.1111111111111111,\"#46039f\"],[0.2222222222222222,\"#7201a8\"],[0.3333333333333333,\"#9c179e\"],[0.4444444444444444,\"#bd3786\"],[0.5555555555555556,\"#d8576b\"],[0.6666666666666666,\"#ed7953\"],[0.7777777777777778,\"#fb9f3a\"],[0.8888888888888888,\"#fdca26\"],[1.0,\"#f0f921\"]]}],\"heatmapgl\":[{\"type\":\"heatmapgl\",\"colorbar\":{\"outlinewidth\":0,\"ticks\":\"\"},\"colorscale\":[[0.0,\"#0d0887\"],[0.1111111111111111,\"#46039f\"],[0.2222222222222222,\"#7201a8\"],[0.3333333333333333,\"#9c179e\"],[0.4444444444444444,\"#bd3786\"],[0.5555555555555556,\"#d8576b\"],[0.6666666666666666,\"#ed7953\"],[0.7777777777777778,\"#fb9f3a\"],[0.8888888888888888,\"#fdca26\"],[1.0,\"#f0f921\"]]}],\"contourcarpet\":[{\"type\":\"contourcarpet\",\"colorbar\":{\"outlinewidth\":0,\"ticks\":\"\"}}],\"contour\":[{\"type\":\"contour\",\"colorbar\":{\"outlinewidth\":0,\"ticks\":\"\"},\"colorscale\":[[0.0,\"#0d0887\"],[0.1111111111111111,\"#46039f\"],[0.2222222222222222,\"#7201a8\"],[0.3333333333333333,\"#9c179e\"],[0.4444444444444444,\"#bd3786\"],[0.5555555555555556,\"#d8576b\"],[0.6666666666666666,\"#ed7953\"],[0.7777777777777778,\"#fb9f3a\"],[0.8888888888888888,\"#fdca26\"],[1.0,\"#f0f921\"]]}],\"surface\":[{\"type\":\"surface\",\"colorbar\":{\"outlinewidth\":0,\"ticks\":\"\"},\"colorscale\":[[0.0,\"#0d0887\"],[0.1111111111111111,\"#46039f\"],[0.2222222222222222,\"#7201a8\"],[0.3333333333333333,\"#9c179e\"],[0.4444444444444444,\"#bd3786\"],[0.5555555555555556,\"#d8576b\"],[0.6666666666666666,\"#ed7953\"],[0.7777777777777778,\"#fb9f3a\"],[0.8888888888888888,\"#fdca26\"],[1.0,\"#f0f921\"]]}],\"mesh3d\":[{\"type\":\"mesh3d\",\"colorbar\":{\"outlinewidth\":0,\"ticks\":\"\"}}],\"scatter\":[{\"fillpattern\":{\"fillmode\":\"overlay\",\"size\":10,\"solidity\":0.2},\"type\":\"scatter\"}],\"parcoords\":[{\"type\":\"parcoords\",\"line\":{\"colorbar\":{\"outlinewidth\":0,\"ticks\":\"\"}}}],\"scatterpolargl\":[{\"type\":\"scatterpolargl\",\"marker\":{\"colorbar\":{\"outlinewidth\":0,\"ticks\":\"\"}}}],\"bar\":[{\"error_x\":{\"color\":\"#2a3f5f\"},\"error_y\":{\"color\":\"#2a3f5f\"},\"marker\":{\"line\":{\"color\":\"#E5ECF6\",\"width\":0.5},\"pattern\":{\"fillmode\":\"overlay\",\"size\":10,\"solidity\":0.2}},\"type\":\"bar\"}],\"scattergeo\":[{\"type\":\"scattergeo\",\"marker\":{\"colorbar\":{\"outlinewidth\":0,\"ticks\":\"\"}}}],\"scatterpolar\":[{\"type\":\"scatterpolar\",\"marker\":{\"colorbar\":{\"outlinewidth\":0,\"ticks\":\"\"}}}],\"histogram\":[{\"marker\":{\"pattern\":{\"fillmode\":\"overlay\",\"size\":10,\"solidity\":0.2}},\"type\":\"histogram\"}],\"scattergl\":[{\"type\":\"scattergl\",\"marker\":{\"colorbar\":{\"outlinewidth\":0,\"ticks\":\"\"}}}],\"scatter3d\":[{\"type\":\"scatter3d\",\"line\":{\"colorbar\":{\"outlinewidth\":0,\"ticks\":\"\"}},\"marker\":{\"colorbar\":{\"outlinewidth\":0,\"ticks\":\"\"}}}],\"scattermapbox\":[{\"type\":\"scattermapbox\",\"marker\":{\"colorbar\":{\"outlinewidth\":0,\"ticks\":\"\"}}}],\"scatterternary\":[{\"type\":\"scatterternary\",\"marker\":{\"colorbar\":{\"outlinewidth\":0,\"ticks\":\"\"}}}],\"scattercarpet\":[{\"type\":\"scattercarpet\",\"marker\":{\"colorbar\":{\"outlinewidth\":0,\"ticks\":\"\"}}}],\"carpet\":[{\"aaxis\":{\"endlinecolor\":\"#2a3f5f\",\"gridcolor\":\"white\",\"linecolor\":\"white\",\"minorgridcolor\":\"white\",\"startlinecolor\":\"#2a3f5f\"},\"baxis\":{\"endlinecolor\":\"#2a3f5f\",\"gridcolor\":\"white\",\"linecolor\":\"white\",\"minorgridcolor\":\"white\",\"startlinecolor\":\"#2a3f5f\"},\"type\":\"carpet\"}],\"table\":[{\"cells\":{\"fill\":{\"color\":\"#EBF0F8\"},\"line\":{\"color\":\"white\"}},\"header\":{\"fill\":{\"color\":\"#C8D4E3\"},\"line\":{\"color\":\"white\"}},\"type\":\"table\"}],\"barpolar\":[{\"marker\":{\"line\":{\"color\":\"#E5ECF6\",\"width\":0.5},\"pattern\":{\"fillmode\":\"overlay\",\"size\":10,\"solidity\":0.2}},\"type\":\"barpolar\"}],\"pie\":[{\"automargin\":true,\"type\":\"pie\"}]},\"layout\":{\"autotypenumbers\":\"strict\",\"colorway\":[\"#636efa\",\"#EF553B\",\"#00cc96\",\"#ab63fa\",\"#FFA15A\",\"#19d3f3\",\"#FF6692\",\"#B6E880\",\"#FF97FF\",\"#FECB52\"],\"font\":{\"color\":\"#2a3f5f\"},\"hovermode\":\"closest\",\"hoverlabel\":{\"align\":\"left\"},\"paper_bgcolor\":\"white\",\"plot_bgcolor\":\"#E5ECF6\",\"polar\":{\"bgcolor\":\"#E5ECF6\",\"angularaxis\":{\"gridcolor\":\"white\",\"linecolor\":\"white\",\"ticks\":\"\"},\"radialaxis\":{\"gridcolor\":\"white\",\"linecolor\":\"white\",\"ticks\":\"\"}},\"ternary\":{\"bgcolor\":\"#E5ECF6\",\"aaxis\":{\"gridcolor\":\"white\",\"linecolor\":\"white\",\"ticks\":\"\"},\"baxis\":{\"gridcolor\":\"white\",\"linecolor\":\"white\",\"ticks\":\"\"},\"caxis\":{\"gridcolor\":\"white\",\"linecolor\":\"white\",\"ticks\":\"\"}},\"coloraxis\":{\"colorbar\":{\"outlinewidth\":0,\"ticks\":\"\"}},\"colorscale\":{\"sequential\":[[0.0,\"#0d0887\"],[0.1111111111111111,\"#46039f\"],[0.2222222222222222,\"#7201a8\"],[0.3333333333333333,\"#9c179e\"],[0.4444444444444444,\"#bd3786\"],[0.5555555555555556,\"#d8576b\"],[0.6666666666666666,\"#ed7953\"],[0.7777777777777778,\"#fb9f3a\"],[0.8888888888888888,\"#fdca26\"],[1.0,\"#f0f921\"]],\"sequentialminus\":[[0.0,\"#0d0887\"],[0.1111111111111111,\"#46039f\"],[0.2222222222222222,\"#7201a8\"],[0.3333333333333333,\"#9c179e\"],[0.4444444444444444,\"#bd3786\"],[0.5555555555555556,\"#d8576b\"],[0.6666666666666666,\"#ed7953\"],[0.7777777777777778,\"#fb9f3a\"],[0.8888888888888888,\"#fdca26\"],[1.0,\"#f0f921\"]],\"diverging\":[[0,\"#8e0152\"],[0.1,\"#c51b7d\"],[0.2,\"#de77ae\"],[0.3,\"#f1b6da\"],[0.4,\"#fde0ef\"],[0.5,\"#f7f7f7\"],[0.6,\"#e6f5d0\"],[0.7,\"#b8e186\"],[0.8,\"#7fbc41\"],[0.9,\"#4d9221\"],[1,\"#276419\"]]},\"xaxis\":{\"gridcolor\":\"white\",\"linecolor\":\"white\",\"ticks\":\"\",\"title\":{\"standoff\":15},\"zerolinecolor\":\"white\",\"automargin\":true,\"zerolinewidth\":2},\"yaxis\":{\"gridcolor\":\"white\",\"linecolor\":\"white\",\"ticks\":\"\",\"title\":{\"standoff\":15},\"zerolinecolor\":\"white\",\"automargin\":true,\"zerolinewidth\":2},\"scene\":{\"xaxis\":{\"backgroundcolor\":\"#E5ECF6\",\"gridcolor\":\"white\",\"linecolor\":\"white\",\"showbackground\":true,\"ticks\":\"\",\"zerolinecolor\":\"white\",\"gridwidth\":2},\"yaxis\":{\"backgroundcolor\":\"#E5ECF6\",\"gridcolor\":\"white\",\"linecolor\":\"white\",\"showbackground\":true,\"ticks\":\"\",\"zerolinecolor\":\"white\",\"gridwidth\":2},\"zaxis\":{\"backgroundcolor\":\"#E5ECF6\",\"gridcolor\":\"white\",\"linecolor\":\"white\",\"showbackground\":true,\"ticks\":\"\",\"zerolinecolor\":\"white\",\"gridwidth\":2}},\"shapedefaults\":{\"line\":{\"color\":\"#2a3f5f\"}},\"annotationdefaults\":{\"arrowcolor\":\"#2a3f5f\",\"arrowhead\":0,\"arrowwidth\":1},\"geo\":{\"bgcolor\":\"white\",\"landcolor\":\"#E5ECF6\",\"subunitcolor\":\"white\",\"showland\":true,\"showlakes\":true,\"lakecolor\":\"white\"},\"title\":{\"x\":0.05},\"mapbox\":{\"style\":\"light\"}}},\"title\":{\"text\":\"Iteration Average Dice Score for Each Augmentation Criteria\"},\"xaxis\":{\"title\":{\"text\":\"Iteration\"}},\"yaxis\":{\"title\":{\"text\":\"Average Dice Score\"}}},                        {\"responsive\": true}                    ).then(function(){\n",
              "                            \n",
              "var gd = document.getElementById('750b114d-4410-424d-8158-bfb05d74ea11');\n",
              "var x = new MutationObserver(function (mutations, observer) {{\n",
              "        var display = window.getComputedStyle(gd).display;\n",
              "        if (!display || display === 'none') {{\n",
              "            console.log([gd, 'removed!']);\n",
              "            Plotly.purge(gd);\n",
              "            observer.disconnect();\n",
              "        }}\n",
              "}});\n",
              "\n",
              "// Listen for the removal of the full notebook cells\n",
              "var notebookContainer = gd.closest('#notebook-container');\n",
              "if (notebookContainer) {{\n",
              "    x.observe(notebookContainer, {childList: true});\n",
              "}}\n",
              "\n",
              "// Listen for the clearing of the current output cell\n",
              "var outputEl = gd.closest('.output');\n",
              "if (outputEl) {{\n",
              "    x.observe(outputEl, {childList: true});\n",
              "}}\n",
              "\n",
              "                        })                };                            </script>        </div>\n",
              "</body>\n",
              "</html>"
            ]
          },
          "metadata": {}
        }
      ]
    }
  ]
}