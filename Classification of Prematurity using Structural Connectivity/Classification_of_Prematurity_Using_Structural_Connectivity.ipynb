{
  "nbformat": 4,
  "nbformat_minor": 0,
  "metadata": {
    "colab": {
      "provenance": [],
      "collapsed_sections": [
        "bf6ccHkgRLGe",
        "tlcOzJ_1RUhV",
        "ZsjecOmjU-SR",
        "Sob1JvKaVC9v"
      ]
    },
    "kernelspec": {
      "name": "python3",
      "display_name": "Python 3"
    },
    "language_info": {
      "name": "python"
    }
  },
  "cells": [
    {
      "cell_type": "markdown",
      "source": [
        "# **1. Import Libraries**"
      ],
      "metadata": {
        "id": "bf6ccHkgRLGe"
      }
    },
    {
      "cell_type": "code",
      "execution_count": 1,
      "metadata": {
        "id": "XlPwvkOEQOoq"
      },
      "outputs": [],
      "source": [
        "import pandas as pd\n",
        "import numpy as np\n",
        "import matplotlib.pyplot as plt\n",
        "\n",
        "from sklearn.metrics import recall_score\n",
        "from sklearn.pipeline import Pipeline\n",
        "from sklearn.preprocessing import StandardScaler\n",
        "from sklearn.decomposition import PCA\n",
        "\n",
        "from sklearn.feature_selection import SelectKBest\n",
        "from sklearn.feature_selection import f_classif\n",
        "\n",
        "from sklearn.model_selection import train_test_split\n",
        "from sklearn.model_selection import cross_val_score\n",
        "from sklearn.model_selection import cross_val_predict\n",
        "from sklearn.model_selection import GridSearchCV\n",
        "\n",
        "from sklearn.linear_model import LogisticRegression\n",
        "from sklearn.ensemble import RandomForestClassifier"
      ]
    },
    {
      "cell_type": "markdown",
      "source": [
        "# **2. Load Data**"
      ],
      "metadata": {
        "id": "OL_jP3KoRP85"
      }
    },
    {
      "cell_type": "code",
      "source": [
        "# load connectivity matrices\n",
        "import pickle\n",
        "matrices = pickle.load( open( \"/content/drive/MyDrive/DATA SCIENCE 2024/classification_of_prematurity_using_structural_connectivity/data/matrices.p\", \"rb\" ) )\n",
        "print(matrices.shape)\n",
        "plt.imshow(matrices[1,:,:])"
      ],
      "metadata": {
        "colab": {
          "base_uri": "https://localhost:8080/",
          "height": 467
        },
        "id": "GwauZIU0Qq4u",
        "outputId": "d2bcb5b9-88bd-4ba9-ca33-31fdeb96c659"
      },
      "execution_count": 2,
      "outputs": [
        {
          "output_type": "stream",
          "name": "stdout",
          "text": [
            "(433, 90, 90)\n"
          ]
        },
        {
          "output_type": "execute_result",
          "data": {
            "text/plain": [
              "<matplotlib.image.AxesImage at 0x7a15e8a3e9e0>"
            ]
          },
          "metadata": {},
          "execution_count": 2
        },
        {
          "output_type": "display_data",
          "data": {
            "text/plain": [
              "<Figure size 640x480 with 1 Axes>"
            ],
            "image/png": "[encoded data removed]"
          },
          "metadata": {}
        }
      ]
    },
    {
      "cell_type": "code",
      "source": [
        "# convert upper triangles of the matrices to feature vectors\n",
        "\n",
        "# dimensions\n",
        "n = matrices.shape[0]\n",
        "m = matrices.shape[1]\n",
        "D = round(m*(m-1)/2)\n",
        "print('n={}, D={}'.format(n,D))\n",
        "\n",
        "# feature matrix\n",
        "X=np.zeros([n,D])\n",
        "for i in range(n):\n",
        "    index=0\n",
        "    for j in range(m):\n",
        "        for k in range(j):\n",
        "            X[i,index]=matrices[i,j,k]\n",
        "            index=index+1\n",
        "print(X.shape)"
      ],
      "metadata": {
        "colab": {
          "base_uri": "https://localhost:8080/"
        },
        "id": "dIWuzu1WQ7TT",
        "outputId": "5484c257-8faa-49d5-ceac-e069ba587ddd"
      },
      "execution_count": 3,
      "outputs": [
        {
          "output_type": "stream",
          "name": "stdout",
          "text": [
            "n=433, D=4005\n",
            "(433, 4005)\n"
          ]
        }
      ]
    },
    {
      "cell_type": "code",
      "source": [
        "# load subject info\n",
        "subject_info = pd.read_csv('/content/drive/MyDrive/DATA SCIENCE 2024/classification_of_prematurity_using_structural_connectivity/data/subject_info.csv')\n",
        "subject_info"
      ],
      "metadata": {
        "colab": {
          "base_uri": "https://localhost:8080/",
          "height": 419
        },
        "id": "3tpYTUIKQ-Ox",
        "outputId": "29b26572-8ba5-4a6b-e6e1-87ae632e2eff"
      },
      "execution_count": 4,
      "outputs": [
        {
          "output_type": "execute_result",
          "data": {
            "text/plain": [
              "     age  prematurity\n",
              "0     41            0\n",
              "1     41            0\n",
              "2     40            0\n",
              "3     41            0\n",
              "4     41            0\n",
              "..   ...          ...\n",
              "428   44            0\n",
              "429   41            0\n",
              "430   44            0\n",
              "431   42            0\n",
              "432   44            0\n",
              "\n",
              "[433 rows x 2 columns]"
            ],
            "text/html": [
              "\n",
              "  <div id=\"df-a2174dac-9c6e-4669-9d6a-654e44baf8e4\" class=\"colab-df-container\">\n",
              "    <div>\n",
              "<style scoped>\n",
              "    .dataframe tbody tr th:only-of-type {\n",
              "        vertical-align: middle;\n",
              "    }\n",
              "\n",
              "    .dataframe tbody tr th {\n",
              "        vertical-align: top;\n",
              "    }\n",
              "\n",
              "    .dataframe thead th {\n",
              "        text-align: right;\n",
              "    }\n",
              "</style>\n",
              "<table border=\"1\" class=\"dataframe\">\n",
              "  <thead>\n",
              "    <tr style=\"text-align: right;\">\n",
              "      <th></th>\n",
              "      <th>age</th>\n",
              "      <th>prematurity</th>\n",
              "    </tr>\n",
              "  </thead>\n",
              "  <tbody>\n",
              "    <tr>\n",
              "      <th>0</th>\n",
              "      <td>41</td>\n",
              "      <td>0</td>\n",
              "    </tr>\n",
              "    <tr>\n",
              "      <th>1</th>\n",
              "      <td>41</td>\n",
              "      <td>0</td>\n",
              "    </tr>\n",
              "    <tr>\n",
              "      <th>2</th>\n",
              "      <td>40</td>\n",
              "      <td>0</td>\n",
              "    </tr>\n",
              "    <tr>\n",
              "      <th>3</th>\n",
              "      <td>41</td>\n",
              "      <td>0</td>\n",
              "    </tr>\n",
              "    <tr>\n",
              "      <th>4</th>\n",
              "      <td>41</td>\n",
              "      <td>0</td>\n",
              "    </tr>\n",
              "    <tr>\n",
              "      <th>...</th>\n",
              "      <td>...</td>\n",
              "      <td>...</td>\n",
              "    </tr>\n",
              "    <tr>\n",
              "      <th>428</th>\n",
              "      <td>44</td>\n",
              "      <td>0</td>\n",
              "    </tr>\n",
              "    <tr>\n",
              "      <th>429</th>\n",
              "      <td>41</td>\n",
              "      <td>0</td>\n",
              "    </tr>\n",
              "    <tr>\n",
              "      <th>430</th>\n",
              "      <td>44</td>\n",
              "      <td>0</td>\n",
              "    </tr>\n",
              "    <tr>\n",
              "      <th>431</th>\n",
              "      <td>42</td>\n",
              "      <td>0</td>\n",
              "    </tr>\n",
              "    <tr>\n",
              "      <th>432</th>\n",
              "      <td>44</td>\n",
              "      <td>0</td>\n",
              "    </tr>\n",
              "  </tbody>\n",
              "</table>\n",
              "<p>433 rows × 2 columns</p>\n",
              "</div>\n",
              "    <div class=\"colab-df-buttons\">\n",
              "\n",
              "  <div class=\"colab-df-container\">\n",
              "    <button class=\"colab-df-convert\" onclick=\"convertToInteractive('df-a2174dac-9c6e-4669-9d6a-654e44baf8e4')\"\n",
              "            title=\"Convert this dataframe to an interactive table.\"\n",
              "            style=\"display:none;\">\n",
              "\n",
              "  <svg xmlns=\"http://www.w3.org/2000/svg\" height=\"24px\" viewBox=\"0 -960 960 960\">\n",
              "    <path d=\"M120-120v-720h720v720H120Zm60-500h600v-160H180v160Zm220 220h160v-160H400v160Zm0 220h160v-160H400v160ZM180-400h160v-160H180v160Zm440 0h160v-160H620v160ZM180-180h160v-160H180v160Zm440 0h160v-160H620v160Z\"/>\n",
              "  </svg>\n",
              "    </button>\n",
              "\n",
              "  <style>\n",
              "    .colab-df-container {\n",
              "      display:flex;\n",
              "      gap: 12px;\n",
              "    }\n",
              "\n",
              "    .colab-df-convert {\n",
              "      background-color: #E8F0FE;\n",
              "      border: none;\n",
              "      border-radius: 50%;\n",
              "      cursor: pointer;\n",
              "      display: none;\n",
              "      fill: #1967D2;\n",
              "      height: 32px;\n",
              "      padding: 0 0 0 0;\n",
              "      width: 32px;\n",
              "    }\n",
              "\n",
              "    .colab-df-convert:hover {\n",
              "      background-color: #E2EBFA;\n",
              "      box-shadow: 0px 1px 2px rgba(60, 64, 67, 0.3), 0px 1px 3px 1px rgba(60, 64, 67, 0.15);\n",
              "      fill: #174EA6;\n",
              "    }\n",
              "\n",
              "    .colab-df-buttons div {\n",
              "      margin-bottom: 4px;\n",
              "    }\n",
              "\n",
              "    [theme=dark] .colab-df-convert {\n",
              "      background-color: #3B4455;\n",
              "      fill: #D2E3FC;\n",
              "    }\n",
              "\n",
              "    [theme=dark] .colab-df-convert:hover {\n",
              "      background-color: #434B5C;\n",
              "      box-shadow: 0px 1px 3px 1px rgba(0, 0, 0, 0.15);\n",
              "      filter: drop-shadow(0px 1px 2px rgba(0, 0, 0, 0.3));\n",
              "      fill: #FFFFFF;\n",
              "    }\n",
              "  </style>\n",
              "\n",
              "    <script>\n",
              "      const buttonEl =\n",
              "        document.querySelector('#df-a2174dac-9c6e-4669-9d6a-654e44baf8e4 button.colab-df-convert');\n",
              "      buttonEl.style.display =\n",
              "        google.colab.kernel.accessAllowed ? 'block' : 'none';\n",
              "\n",
              "      async function convertToInteractive(key) {\n",
              "        const element = document.querySelector('#df-a2174dac-9c6e-4669-9d6a-654e44baf8e4');\n",
              "        const dataTable =\n",
              "          await google.colab.kernel.invokeFunction('convertToInteractive',\n",
              "                                                    [key], {});\n",
              "        if (!dataTable) return;\n",
              "\n",
              "        const docLinkHtml = 'Like what you see? Visit the ' +\n",
              "          '<a target=\"_blank\" href=https://colab.research.google.com/notebooks/data_table.ipynb>data table notebook</a>'\n",
              "          + ' to learn more about interactive tables.';\n",
              "        element.innerHTML = '';\n",
              "        dataTable['output_type'] = 'display_data';\n",
              "        await google.colab.output.renderOutput(dataTable, element);\n",
              "        const docLink = document.createElement('div');\n",
              "        docLink.innerHTML = docLinkHtml;\n",
              "        element.appendChild(docLink);\n",
              "      }\n",
              "    </script>\n",
              "  </div>\n",
              "\n",
              "\n",
              "<div id=\"df-e9ffac4c-9243-4c32-8812-82edf0cafe7d\">\n",
              "  <button class=\"colab-df-quickchart\" onclick=\"quickchart('df-e9ffac4c-9243-4c32-8812-82edf0cafe7d')\"\n",
              "            title=\"Suggest charts\"\n",
              "            style=\"display:none;\">\n",
              "\n",
              "<svg xmlns=\"http://www.w3.org/2000/svg\" height=\"24px\"viewBox=\"0 0 24 24\"\n",
              "     width=\"24px\">\n",
              "    <g>\n",
              "        <path d=\"M19 3H5c-1.1 0-2 .9-2 2v14c0 1.1.9 2 2 2h14c1.1 0 2-.9 2-2V5c0-1.1-.9-2-2-2zM9 17H7v-7h2v7zm4 0h-2V7h2v10zm4 0h-2v-4h2v4z\"/>\n",
              "    </g>\n",
              "</svg>\n",
              "  </button>\n",
              "\n",
              "<style>\n",
              "  .colab-df-quickchart {\n",
              "      --bg-color: #E8F0FE;\n",
              "      --fill-color: #1967D2;\n",
              "      --hover-bg-color: #E2EBFA;\n",
              "      --hover-fill-color: #174EA6;\n",
              "      --disabled-fill-color: #AAA;\n",
              "      --disabled-bg-color: #DDD;\n",
              "  }\n",
              "\n",
              "  [theme=dark] .colab-df-quickchart {\n",
              "      --bg-color: #3B4455;\n",
              "      --fill-color: #D2E3FC;\n",
              "      --hover-bg-color: #434B5C;\n",
              "      --hover-fill-color: #FFFFFF;\n",
              "      --disabled-bg-color: #3B4455;\n",
              "      --disabled-fill-color: #666;\n",
              "  }\n",
              "\n",
              "  .colab-df-quickchart {\n",
              "    background-color: var(--bg-color);\n",
              "    border: none;\n",
              "    border-radius: 50%;\n",
              "    cursor: pointer;\n",
              "    display: none;\n",
              "    fill: var(--fill-color);\n",
              "    height: 32px;\n",
              "    padding: 0;\n",
              "    width: 32px;\n",
              "  }\n",
              "\n",
              "  .colab-df-quickchart:hover {\n",
              "    background-color: var(--hover-bg-color);\n",
              "    box-shadow: 0 1px 2px rgba(60, 64, 67, 0.3), 0 1px 3px 1px rgba(60, 64, 67, 0.15);\n",
              "    fill: var(--button-hover-fill-color);\n",
              "  }\n",
              "\n",
              "  .colab-df-quickchart-complete:disabled,\n",
              "  .colab-df-quickchart-complete:disabled:hover {\n",
              "    background-color: var(--disabled-bg-color);\n",
              "    fill: var(--disabled-fill-color);\n",
              "    box-shadow: none;\n",
              "  }\n",
              "\n",
              "  .colab-df-spinner {\n",
              "    border: 2px solid var(--fill-color);\n",
              "    border-color: transparent;\n",
              "    border-bottom-color: var(--fill-color);\n",
              "    animation:\n",
              "      spin 1s steps(1) infinite;\n",
              "  }\n",
              "\n",
              "  @keyframes spin {\n",
              "    0% {\n",
              "      border-color: transparent;\n",
              "      border-bottom-color: var(--fill-color);\n",
              "      border-left-color: var(--fill-color);\n",
              "    }\n",
              "    20% {\n",
              "      border-color: transparent;\n",
              "      border-left-color: var(--fill-color);\n",
              "      border-top-color: var(--fill-color);\n",
              "    }\n",
              "    30% {\n",
              "      border-color: transparent;\n",
              "      border-left-color: var(--fill-color);\n",
              "      border-top-color: var(--fill-color);\n",
              "      border-right-color: var(--fill-color);\n",
              "    }\n",
              "    40% {\n",
              "      border-color: transparent;\n",
              "      border-right-color: var(--fill-color);\n",
              "      border-top-color: var(--fill-color);\n",
              "    }\n",
              "    60% {\n",
              "      border-color: transparent;\n",
              "      border-right-color: var(--fill-color);\n",
              "    }\n",
              "    80% {\n",
              "      border-color: transparent;\n",
              "      border-right-color: var(--fill-color);\n",
              "      border-bottom-color: var(--fill-color);\n",
              "    }\n",
              "    90% {\n",
              "      border-color: transparent;\n",
              "      border-bottom-color: var(--fill-color);\n",
              "    }\n",
              "  }\n",
              "</style>\n",
              "\n",
              "  <script>\n",
              "    async function quickchart(key) {\n",
              "      const quickchartButtonEl =\n",
              "        document.querySelector('#' + key + ' button');\n",
              "      quickchartButtonEl.disabled = true;  // To prevent multiple clicks.\n",
              "      quickchartButtonEl.classList.add('colab-df-spinner');\n",
              "      try {\n",
              "        const charts = await google.colab.kernel.invokeFunction(\n",
              "            'suggestCharts', [key], {});\n",
              "      } catch (error) {\n",
              "        console.error('Error during call to suggestCharts:', error);\n",
              "      }\n",
              "      quickchartButtonEl.classList.remove('colab-df-spinner');\n",
              "      quickchartButtonEl.classList.add('colab-df-quickchart-complete');\n",
              "    }\n",
              "    (() => {\n",
              "      let quickchartButtonEl =\n",
              "        document.querySelector('#df-e9ffac4c-9243-4c32-8812-82edf0cafe7d button');\n",
              "      quickchartButtonEl.style.display =\n",
              "        google.colab.kernel.accessAllowed ? 'block' : 'none';\n",
              "    })();\n",
              "  </script>\n",
              "</div>\n",
              "    </div>\n",
              "  </div>\n"
            ],
            "application/vnd.google.colaboratory.intrinsic+json": {
              "type": "dataframe",
              "variable_name": "subject_info",
              "summary": "{\n  \"name\": \"subject_info\",\n  \"rows\": 433,\n  \"fields\": [\n    {\n      \"column\": \"age\",\n      \"properties\": {\n        \"dtype\": \"number\",\n        \"std\": 1,\n        \"min\": 37,\n        \"max\": 45,\n        \"num_unique_values\": 9,\n        \"samples\": [\n          44,\n          40,\n          37\n        ],\n        \"semantic_type\": \"\",\n        \"description\": \"\"\n      }\n    },\n    {\n      \"column\": \"prematurity\",\n      \"properties\": {\n        \"dtype\": \"number\",\n        \"std\": 0,\n        \"min\": 0,\n        \"max\": 1,\n        \"num_unique_values\": 2,\n        \"samples\": [\n          1,\n          0\n        ],\n        \"semantic_type\": \"\",\n        \"description\": \"\"\n      }\n    }\n  ]\n}"
            }
          },
          "metadata": {},
          "execution_count": 4
        }
      ]
    },
    {
      "cell_type": "code",
      "source": [
        "# load gray matter region descriptions\n",
        "label_names = pd.read_csv('/content/drive/MyDrive/DATA SCIENCE 2024/classification_of_prematurity_using_structural_connectivity/data/label_names.csv')\n",
        "label_names"
      ],
      "metadata": {
        "colab": {
          "base_uri": "https://localhost:8080/",
          "height": 419
        },
        "id": "rK2Ay-dZRDW5",
        "outputId": "bb9e843a-a914-4fd8-fcae-ef56e04e6b31"
      },
      "execution_count": 5,
      "outputs": [
        {
          "output_type": "execute_result",
          "data": {
            "text/plain": [
              "    Label           Region name                     Region description\n",
              "0     1.0          Precentral_L                        Precental gyrus\n",
              "1     2.0          Precentral_R                        Precental gyrus\n",
              "2     3.0        Frontal_Sup_L    Superior frontal gyrus, dorsolateral\n",
              "3     4.0        Frontal_Sup_R    Superior frontal gyrus, dorsolateral\n",
              "4     5.0    Frontal_Sup_Orb_L   Superior frontal gyrus, orbital part \n",
              "..    ...                   ...                                    ...\n",
              "85   86.0       Temporal_Mid_R                   Middle temporal gyrus\n",
              "86   87.0  Temporal_Pole_Mid_L   Temporal pole: middle temporal gyrus \n",
              "87   88.0  Temporal_Pole_Mid_R   Temporal pole: middle temporal gyrus \n",
              "88   89.0       Temporal_Inf_L                 Inferior temporal gyrus\n",
              "89   90.0       Temporal_Inf_R                 Inferior temporal gyrus\n",
              "\n",
              "[90 rows x 3 columns]"
            ],
            "text/html": [
              "\n",
              "  <div id=\"df-c3414950-4a37-4792-888d-ecd10a8632b4\" class=\"colab-df-container\">\n",
              "    <div>\n",
              "<style scoped>\n",
              "    .dataframe tbody tr th:only-of-type {\n",
              "        vertical-align: middle;\n",
              "    }\n",
              "\n",
              "    .dataframe tbody tr th {\n",
              "        vertical-align: top;\n",
              "    }\n",
              "\n",
              "    .dataframe thead th {\n",
              "        text-align: right;\n",
              "    }\n",
              "</style>\n",
              "<table border=\"1\" class=\"dataframe\">\n",
              "  <thead>\n",
              "    <tr style=\"text-align: right;\">\n",
              "      <th></th>\n",
              "      <th>Label</th>\n",
              "      <th>Region name</th>\n",
              "      <th>Region description</th>\n",
              "    </tr>\n",
              "  </thead>\n",
              "  <tbody>\n",
              "    <tr>\n",
              "      <th>0</th>\n",
              "      <td>1.0</td>\n",
              "      <td>Precentral_L</td>\n",
              "      <td>Precental gyrus</td>\n",
              "    </tr>\n",
              "    <tr>\n",
              "      <th>1</th>\n",
              "      <td>2.0</td>\n",
              "      <td>Precentral_R</td>\n",
              "      <td>Precental gyrus</td>\n",
              "    </tr>\n",
              "    <tr>\n",
              "      <th>2</th>\n",
              "      <td>3.0</td>\n",
              "      <td>Frontal_Sup_L</td>\n",
              "      <td>Superior frontal gyrus, dorsolateral</td>\n",
              "    </tr>\n",
              "    <tr>\n",
              "      <th>3</th>\n",
              "      <td>4.0</td>\n",
              "      <td>Frontal_Sup_R</td>\n",
              "      <td>Superior frontal gyrus, dorsolateral</td>\n",
              "    </tr>\n",
              "    <tr>\n",
              "      <th>4</th>\n",
              "      <td>5.0</td>\n",
              "      <td>Frontal_Sup_Orb_L</td>\n",
              "      <td>Superior frontal gyrus, orbital part</td>\n",
              "    </tr>\n",
              "    <tr>\n",
              "      <th>...</th>\n",
              "      <td>...</td>\n",
              "      <td>...</td>\n",
              "      <td>...</td>\n",
              "    </tr>\n",
              "    <tr>\n",
              "      <th>85</th>\n",
              "      <td>86.0</td>\n",
              "      <td>Temporal_Mid_R</td>\n",
              "      <td>Middle temporal gyrus</td>\n",
              "    </tr>\n",
              "    <tr>\n",
              "      <th>86</th>\n",
              "      <td>87.0</td>\n",
              "      <td>Temporal_Pole_Mid_L</td>\n",
              "      <td>Temporal pole: middle temporal gyrus</td>\n",
              "    </tr>\n",
              "    <tr>\n",
              "      <th>87</th>\n",
              "      <td>88.0</td>\n",
              "      <td>Temporal_Pole_Mid_R</td>\n",
              "      <td>Temporal pole: middle temporal gyrus</td>\n",
              "    </tr>\n",
              "    <tr>\n",
              "      <th>88</th>\n",
              "      <td>89.0</td>\n",
              "      <td>Temporal_Inf_L</td>\n",
              "      <td>Inferior temporal gyrus</td>\n",
              "    </tr>\n",
              "    <tr>\n",
              "      <th>89</th>\n",
              "      <td>90.0</td>\n",
              "      <td>Temporal_Inf_R</td>\n",
              "      <td>Inferior temporal gyrus</td>\n",
              "    </tr>\n",
              "  </tbody>\n",
              "</table>\n",
              "<p>90 rows × 3 columns</p>\n",
              "</div>\n",
              "    <div class=\"colab-df-buttons\">\n",
              "\n",
              "  <div class=\"colab-df-container\">\n",
              "    <button class=\"colab-df-convert\" onclick=\"convertToInteractive('df-c3414950-4a37-4792-888d-ecd10a8632b4')\"\n",
              "            title=\"Convert this dataframe to an interactive table.\"\n",
              "            style=\"display:none;\">\n",
              "\n",
              "  <svg xmlns=\"http://www.w3.org/2000/svg\" height=\"24px\" viewBox=\"0 -960 960 960\">\n",
              "    <path d=\"M120-120v-720h720v720H120Zm60-500h600v-160H180v160Zm220 220h160v-160H400v160Zm0 220h160v-160H400v160ZM180-400h160v-160H180v160Zm440 0h160v-160H620v160ZM180-180h160v-160H180v160Zm440 0h160v-160H620v160Z\"/>\n",
              "  </svg>\n",
              "    </button>\n",
              "\n",
              "  <style>\n",
              "    .colab-df-container {\n",
              "      display:flex;\n",
              "      gap: 12px;\n",
              "    }\n",
              "\n",
              "    .colab-df-convert {\n",
              "      background-color: #E8F0FE;\n",
              "      border: none;\n",
              "      border-radius: 50%;\n",
              "      cursor: pointer;\n",
              "      display: none;\n",
              "      fill: #1967D2;\n",
              "      height: 32px;\n",
              "      padding: 0 0 0 0;\n",
              "      width: 32px;\n",
              "    }\n",
              "\n",
              "    .colab-df-convert:hover {\n",
              "      background-color: #E2EBFA;\n",
              "      box-shadow: 0px 1px 2px rgba(60, 64, 67, 0.3), 0px 1px 3px 1px rgba(60, 64, 67, 0.15);\n",
              "      fill: #174EA6;\n",
              "    }\n",
              "\n",
              "    .colab-df-buttons div {\n",
              "      margin-bottom: 4px;\n",
              "    }\n",
              "\n",
              "    [theme=dark] .colab-df-convert {\n",
              "      background-color: #3B4455;\n",
              "      fill: #D2E3FC;\n",
              "    }\n",
              "\n",
              "    [theme=dark] .colab-df-convert:hover {\n",
              "      background-color: #434B5C;\n",
              "      box-shadow: 0px 1px 3px 1px rgba(0, 0, 0, 0.15);\n",
              "      filter: drop-shadow(0px 1px 2px rgba(0, 0, 0, 0.3));\n",
              "      fill: #FFFFFF;\n",
              "    }\n",
              "  </style>\n",
              "\n",
              "    <script>\n",
              "      const buttonEl =\n",
              "        document.querySelector('#df-c3414950-4a37-4792-888d-ecd10a8632b4 button.colab-df-convert');\n",
              "      buttonEl.style.display =\n",
              "        google.colab.kernel.accessAllowed ? 'block' : 'none';\n",
              "\n",
              "      async function convertToInteractive(key) {\n",
              "        const element = document.querySelector('#df-c3414950-4a37-4792-888d-ecd10a8632b4');\n",
              "        const dataTable =\n",
              "          await google.colab.kernel.invokeFunction('convertToInteractive',\n",
              "                                                    [key], {});\n",
              "        if (!dataTable) return;\n",
              "\n",
              "        const docLinkHtml = 'Like what you see? Visit the ' +\n",
              "          '<a target=\"_blank\" href=https://colab.research.google.com/notebooks/data_table.ipynb>data table notebook</a>'\n",
              "          + ' to learn more about interactive tables.';\n",
              "        element.innerHTML = '';\n",
              "        dataTable['output_type'] = 'display_data';\n",
              "        await google.colab.output.renderOutput(dataTable, element);\n",
              "        const docLink = document.createElement('div');\n",
              "        docLink.innerHTML = docLinkHtml;\n",
              "        element.appendChild(docLink);\n",
              "      }\n",
              "    </script>\n",
              "  </div>\n",
              "\n",
              "\n",
              "<div id=\"df-9c72c21b-2040-483d-9d32-5e4f088f1e53\">\n",
              "  <button class=\"colab-df-quickchart\" onclick=\"quickchart('df-9c72c21b-2040-483d-9d32-5e4f088f1e53')\"\n",
              "            title=\"Suggest charts\"\n",
              "            style=\"display:none;\">\n",
              "\n",
              "<svg xmlns=\"http://www.w3.org/2000/svg\" height=\"24px\"viewBox=\"0 0 24 24\"\n",
              "     width=\"24px\">\n",
              "    <g>\n",
              "        <path d=\"M19 3H5c-1.1 0-2 .9-2 2v14c0 1.1.9 2 2 2h14c1.1 0 2-.9 2-2V5c0-1.1-.9-2-2-2zM9 17H7v-7h2v7zm4 0h-2V7h2v10zm4 0h-2v-4h2v4z\"/>\n",
              "    </g>\n",
              "</svg>\n",
              "  </button>\n",
              "\n",
              "<style>\n",
              "  .colab-df-quickchart {\n",
              "      --bg-color: #E8F0FE;\n",
              "      --fill-color: #1967D2;\n",
              "      --hover-bg-color: #E2EBFA;\n",
              "      --hover-fill-color: #174EA6;\n",
              "      --disabled-fill-color: #AAA;\n",
              "      --disabled-bg-color: #DDD;\n",
              "  }\n",
              "\n",
              "  [theme=dark] .colab-df-quickchart {\n",
              "      --bg-color: #3B4455;\n",
              "      --fill-color: #D2E3FC;\n",
              "      --hover-bg-color: #434B5C;\n",
              "      --hover-fill-color: #FFFFFF;\n",
              "      --disabled-bg-color: #3B4455;\n",
              "      --disabled-fill-color: #666;\n",
              "  }\n",
              "\n",
              "  .colab-df-quickchart {\n",
              "    background-color: var(--bg-color);\n",
              "    border: none;\n",
              "    border-radius: 50%;\n",
              "    cursor: pointer;\n",
              "    display: none;\n",
              "    fill: var(--fill-color);\n",
              "    height: 32px;\n",
              "    padding: 0;\n",
              "    width: 32px;\n",
              "  }\n",
              "\n",
              "  .colab-df-quickchart:hover {\n",
              "    background-color: var(--hover-bg-color);\n",
              "    box-shadow: 0 1px 2px rgba(60, 64, 67, 0.3), 0 1px 3px 1px rgba(60, 64, 67, 0.15);\n",
              "    fill: var(--button-hover-fill-color);\n",
              "  }\n",
              "\n",
              "  .colab-df-quickchart-complete:disabled,\n",
              "  .colab-df-quickchart-complete:disabled:hover {\n",
              "    background-color: var(--disabled-bg-color);\n",
              "    fill: var(--disabled-fill-color);\n",
              "    box-shadow: none;\n",
              "  }\n",
              "\n",
              "  .colab-df-spinner {\n",
              "    border: 2px solid var(--fill-color);\n",
              "    border-color: transparent;\n",
              "    border-bottom-color: var(--fill-color);\n",
              "    animation:\n",
              "      spin 1s steps(1) infinite;\n",
              "  }\n",
              "\n",
              "  @keyframes spin {\n",
              "    0% {\n",
              "      border-color: transparent;\n",
              "      border-bottom-color: var(--fill-color);\n",
              "      border-left-color: var(--fill-color);\n",
              "    }\n",
              "    20% {\n",
              "      border-color: transparent;\n",
              "      border-left-color: var(--fill-color);\n",
              "      border-top-color: var(--fill-color);\n",
              "    }\n",
              "    30% {\n",
              "      border-color: transparent;\n",
              "      border-left-color: var(--fill-color);\n",
              "      border-top-color: var(--fill-color);\n",
              "      border-right-color: var(--fill-color);\n",
              "    }\n",
              "    40% {\n",
              "      border-color: transparent;\n",
              "      border-right-color: var(--fill-color);\n",
              "      border-top-color: var(--fill-color);\n",
              "    }\n",
              "    60% {\n",
              "      border-color: transparent;\n",
              "      border-right-color: var(--fill-color);\n",
              "    }\n",
              "    80% {\n",
              "      border-color: transparent;\n",
              "      border-right-color: var(--fill-color);\n",
              "      border-bottom-color: var(--fill-color);\n",
              "    }\n",
              "    90% {\n",
              "      border-color: transparent;\n",
              "      border-bottom-color: var(--fill-color);\n",
              "    }\n",
              "  }\n",
              "</style>\n",
              "\n",
              "  <script>\n",
              "    async function quickchart(key) {\n",
              "      const quickchartButtonEl =\n",
              "        document.querySelector('#' + key + ' button');\n",
              "      quickchartButtonEl.disabled = true;  // To prevent multiple clicks.\n",
              "      quickchartButtonEl.classList.add('colab-df-spinner');\n",
              "      try {\n",
              "        const charts = await google.colab.kernel.invokeFunction(\n",
              "            'suggestCharts', [key], {});\n",
              "      } catch (error) {\n",
              "        console.error('Error during call to suggestCharts:', error);\n",
              "      }\n",
              "      quickchartButtonEl.classList.remove('colab-df-spinner');\n",
              "      quickchartButtonEl.classList.add('colab-df-quickchart-complete');\n",
              "    }\n",
              "    (() => {\n",
              "      let quickchartButtonEl =\n",
              "        document.querySelector('#df-9c72c21b-2040-483d-9d32-5e4f088f1e53 button');\n",
              "      quickchartButtonEl.style.display =\n",
              "        google.colab.kernel.accessAllowed ? 'block' : 'none';\n",
              "    })();\n",
              "  </script>\n",
              "</div>\n",
              "    </div>\n",
              "  </div>\n"
            ],
            "application/vnd.google.colaboratory.intrinsic+json": {
              "type": "dataframe",
              "variable_name": "label_names",
              "summary": "{\n  \"name\": \"label_names\",\n  \"rows\": 90,\n  \"fields\": [\n    {\n      \"column\": \"Label\",\n      \"properties\": {\n        \"dtype\": \"number\",\n        \"std\": 26.124700955226263,\n        \"min\": 1.0,\n        \"max\": 90.0,\n        \"num_unique_values\": 90,\n        \"samples\": [\n          41.0,\n          23.0,\n          56.0\n        ],\n        \"semantic_type\": \"\",\n        \"description\": \"\"\n      }\n    },\n    {\n      \"column\": \"Region name\",\n      \"properties\": {\n        \"dtype\": \"string\",\n        \"num_unique_values\": 88,\n        \"samples\": [\n          \"Heschl_L \",\n          \"Precentral_L\",\n          \"Insula_L \"\n        ],\n        \"semantic_type\": \"\",\n        \"description\": \"\"\n      }\n    },\n    {\n      \"column\": \"Region description\",\n      \"properties\": {\n        \"dtype\": \"string\",\n        \"num_unique_values\": 45,\n        \"samples\": [\n          \"Heschl gyrus \",\n          \"Middle occipital gyrus\",\n          \"Inferior occipital gyrus\"\n        ],\n        \"semantic_type\": \"\",\n        \"description\": \"\"\n      }\n    }\n  ]\n}"
            }
          },
          "metadata": {},
          "execution_count": 5
        }
      ]
    },
    {
      "cell_type": "markdown",
      "source": [
        "# **3. Preprocessing**"
      ],
      "metadata": {
        "id": "tlcOzJ_1RUhV"
      }
    },
    {
      "cell_type": "code",
      "source": [
        "# Feature matrix\n",
        "\n",
        "# matrix X and scale the features\n",
        "X = StandardScaler().fit_transform(X)\n",
        "\n",
        "# Extract label vector\n",
        "y = subject_info.to_numpy()[:,1]"
      ],
      "metadata": {
        "id": "9KywE1VgRaQq"
      },
      "execution_count": 6,
      "outputs": []
    },
    {
      "cell_type": "code",
      "source": [
        "# Check how many samples and features\n",
        "print('Number of samples: ',X.shape[0])\n",
        "print('Number of features: ',X.shape[1])\n",
        "\n",
        "# Check how many samples of each class\n",
        "print('Label vector (all samples): ', y.shape[0])\n",
        "print('Label vector (term): ', y[y==0].shape[0])\n",
        "print('Label vector (preterm): ', y[y==1].shape[0])\n",
        "print('Proportion of preterms:', np.round(y[y==1].shape[0]/y.shape[0],2))"
      ],
      "metadata": {
        "colab": {
          "base_uri": "https://localhost:8080/"
        },
        "id": "kxmderqPTaaD",
        "outputId": "2bcc8c98-68bc-45c0-ee6d-95c2d5b98acf"
      },
      "execution_count": 7,
      "outputs": [
        {
          "output_type": "stream",
          "name": "stdout",
          "text": [
            "Number of samples:  433\n",
            "Number of features:  4005\n",
            "Label vector (all samples):  433\n",
            "Label vector (term):  346\n",
            "Label vector (preterm):  87\n",
            "Proportion of preterms: 0.2\n"
          ]
        }
      ]
    },
    {
      "cell_type": "code",
      "source": [
        "# Visualise the dataset using PCA\n",
        "transf = PCA(n_components=2)\n",
        "X_reduced = transf.fit_transform(X)\n",
        "\n",
        "# Plot the data\n",
        "def plotData(X,y):\n",
        "    plt.plot(X[y==0,0],X[y==0,1],'bo', label = 'Term')\n",
        "    plt.plot(X[y==1,0],X[y==1,1],'rd', label = 'Preterm')\n",
        "    plt.legend()\n",
        "    plt.title('Diffusion connectivity data')\n",
        "    plt.xlabel('PC 1')\n",
        "    plt.ylabel('PC 2')\n",
        "\n",
        "plotData(X_reduced,y)"
      ],
      "metadata": {
        "colab": {
          "base_uri": "https://localhost:8080/",
          "height": 472
        },
        "id": "eWhOhETJTe9g",
        "outputId": "bf55972e-2430-47f5-b398-40aa3c4f477d"
      },
      "execution_count": 8,
      "outputs": [
        {
          "output_type": "display_data",
          "data": {
            "text/plain": [
              "<Figure size 640x480 with 1 Axes>"
            ],
            "image/png": "[encoded data removed]"
          },
          "metadata": {}
        }
      ]
    },
    {
      "cell_type": "markdown",
      "source": [
        "# **4. Evaluation Framework**"
      ],
      "metadata": {
        "id": "eBEvkvM5UO82"
      }
    },
    {
      "cell_type": "markdown",
      "source": [
        "## **4.1 Stratified Train-Test Split**"
      ],
      "metadata": {
        "id": "ZsjecOmjU-SR"
      }
    },
    {
      "cell_type": "code",
      "source": [
        "# Stratified train-test split\n",
        "X_train, X_test, y_train, y_test = train_test_split(X,y,test_size = 0.2, stratify=y)\n",
        "\n",
        "# plot training and test set\n",
        "plt.figure(figsize=(10,3.5))\n",
        "plt.subplot(121)\n",
        "plotData(transf.transform(X_train),y_train)\n",
        "plt.title('training set')\n",
        "plt.subplot(122)\n",
        "plotData(transf.transform(X_test),y_test)\n",
        "plt.title('test set')"
      ],
      "metadata": {
        "colab": {
          "base_uri": "https://localhost:8080/",
          "height": 389
        },
        "id": "sUTDau1VUSjB",
        "outputId": "481a45bf-0668-47d0-9508-aeb78e8a3b88"
      },
      "execution_count": 9,
      "outputs": [
        {
          "output_type": "execute_result",
          "data": {
            "text/plain": [
              "Text(0.5, 1.0, 'test set')"
            ]
          },
          "metadata": {},
          "execution_count": 9
        },
        {
          "output_type": "display_data",
          "data": {
            "text/plain": [
              "<Figure size 1000x350 with 2 Axes>"
            ],
            "image/png": "[encoded data removed]"
          },
          "metadata": {}
        }
      ]
    },
    {
      "cell_type": "markdown",
      "source": [
        "## **4.2 Functions for Evaluation**"
      ],
      "metadata": {
        "id": "Sob1JvKaVC9v"
      }
    },
    {
      "cell_type": "code",
      "source": [
        "def evaluationCV(model,X,y):\n",
        "\n",
        "    # accuracy\n",
        "    scores = cross_val_score(model,X,y)\n",
        "    print('CV accuracy:',round(scores.mean(),2))\n",
        "\n",
        "    # predict using cross-validation\n",
        "    y_pred = cross_val_predict(model,X,y)\n",
        "\n",
        "    # default is sensitivity: pos_label = 1\n",
        "    sensitivity = recall_score(y,y_pred)\n",
        "    print('CV sensitivity: ',round(sensitivity,2))\n",
        "    # pos_label = 0 gives specificity\n",
        "    specificity = recall_score(y,y_pred,pos_label = 0)\n",
        "    print('CV specificity: ',round(specificity,2))\n",
        "    # average value\n",
        "    mean_recall = recall_score(y,y_pred,average='macro')\n",
        "    print('CV mean recall: ',round(mean_recall,2))\n",
        "\n",
        "def evaluation(model,X,y):\n",
        "\n",
        "    # accuracy\n",
        "    print('accuracy: ', round(model.score(X,y),2))\n",
        "\n",
        "    # predict (but do not fit!)\n",
        "    y_pred = model.predict(X)\n",
        "\n",
        "    # default is sensitivity: pos_label = 1\n",
        "    sensitivity = recall_score(y,y_pred)\n",
        "    print('sensitivity: ',round(sensitivity,2))\n",
        "    # pos_label = 0 gives specificity\n",
        "    specificity = recall_score(y,y_pred,pos_label = 0)\n",
        "    print('specificity: ',round(specificity,2))\n",
        "    # average value\n",
        "    mean_recall = recall_score(y,y_pred,average='macro')\n",
        "    print('mean recall: ',round(mean_recall,2))\n"
      ],
      "metadata": {
        "id": "H3FGxturVKuY"
      },
      "execution_count": 10,
      "outputs": []
    },
    {
      "cell_type": "markdown",
      "source": [
        "# **5. Classifiers**"
      ],
      "metadata": {
        "id": "MnEn49XKVbvb"
      }
    },
    {
      "cell_type": "markdown",
      "source": [
        "## **5.1 Logistic regression Classifier**"
      ],
      "metadata": {
        "id": "2drcZ6U5Vgpg"
      }
    },
    {
      "cell_type": "markdown",
      "source": [
        "### **5.1.1 Training Logistic Regression Classifier**"
      ],
      "metadata": {
        "id": "RT-Dk_ckV6dl"
      }
    },
    {
      "cell_type": "code",
      "source": [
        "# Train Logistic regression classifier\n",
        "\n",
        "model = LogisticRegression(class_weight='balanced', random_state = 42)\n",
        "param_grid = {\"C\": np.logspace(-3, 3, 7)}\n",
        "grid_search = GridSearchCV(model, cv=5, param_grid=param_grid, scoring = 'recall_macro')\n",
        "_=grid_search.fit(X_train,y_train)\n",
        "\n",
        "print('Best C  :', grid_search.best_estimator_.C)\n",
        "print('Best mean recall:', round(grid_search.best_score_,2))\n",
        "\n",
        "# best model\n",
        "tuned_model = grid_search.best_estimator_"
      ],
      "metadata": {
        "colab": {
          "base_uri": "https://localhost:8080/"
        },
        "id": "OSfaWcRxVlf6",
        "outputId": "957b5ccf-8394-4d82-f266-5624bcba57e7"
      },
      "execution_count": 37,
      "outputs": [
        {
          "output_type": "stream",
          "name": "stdout",
          "text": [
            "Best C  : 0.001\n",
            "Best mean recall: 0.86\n"
          ]
        }
      ]
    },
    {
      "cell_type": "markdown",
      "source": [
        "### **5.1.2 Results for Logistic regression Classifier**"
      ],
      "metadata": {
        "id": "l9I-SrNSV_UP"
      }
    },
    {
      "cell_type": "code",
      "source": [
        "print('Training performance:')\n",
        "evaluation(tuned_model,X_train,y_train)"
      ],
      "metadata": {
        "colab": {
          "base_uri": "https://localhost:8080/"
        },
        "id": "x8n3edvKWFMz",
        "outputId": "803fc831-d2bd-4540-8887-a6728ce38cce"
      },
      "execution_count": 38,
      "outputs": [
        {
          "output_type": "stream",
          "name": "stdout",
          "text": [
            "Training performance:\n",
            "accuracy:  1.0\n",
            "sensitivity:  1.0\n",
            "specificity:  1.0\n",
            "mean recall:  1.0\n"
          ]
        }
      ]
    },
    {
      "cell_type": "code",
      "source": [
        "print('Training performance CV:')\n",
        "evaluationCV(tuned_model,X_train,y_train)"
      ],
      "metadata": {
        "colab": {
          "base_uri": "https://localhost:8080/"
        },
        "id": "S8riF_3YWITg",
        "outputId": "e11e4ce8-02c1-4543-d636-896730b356c7"
      },
      "execution_count": 39,
      "outputs": [
        {
          "output_type": "stream",
          "name": "stdout",
          "text": [
            "Training performance CV:\n",
            "CV accuracy: 0.93\n",
            "CV sensitivity:  0.74\n",
            "CV specificity:  0.97\n",
            "CV mean recall:  0.86\n"
          ]
        }
      ]
    },
    {
      "cell_type": "code",
      "source": [
        "# plot\n",
        "plt.figure(figsize=(10,8))\n",
        "plt.subplot(221)\n",
        "plotData(transf.transform(X_train),y_train)\n",
        "plt.title('training set: true labels')\n",
        "plt.subplot(222)\n",
        "plotData(transf.transform(X_test),y_test)\n",
        "plt.title('test set: true labels')\n",
        "plt.subplot(223)\n",
        "plotData(transf.transform(X_train),tuned_model.predict(X_train))\n",
        "plt.title('training set: predicted labels')\n",
        "plt.subplot(224)\n",
        "plotData(transf.transform(X_test),tuned_model.predict(X_test))\n",
        "plt.title('test set: predicted labels')"
      ],
      "metadata": {
        "colab": {
          "base_uri": "https://localhost:8080/",
          "height": 735
        },
        "id": "06m2R8h8WQW5",
        "outputId": "5c642711-9361-472a-f499-e9cc51b3e62c"
      },
      "execution_count": 40,
      "outputs": [
        {
          "output_type": "execute_result",
          "data": {
            "text/plain": [
              "Text(0.5, 1.0, 'test set: predicted labels')"
            ]
          },
          "metadata": {},
          "execution_count": 40
        },
        {
          "output_type": "display_data",
          "data": {
            "text/plain": [
              "<Figure size 1000x800 with 4 Axes>"
            ],
            "image/png": "[encoded data removed]"
          },
          "metadata": {}
        }
      ]
    },
    {
      "cell_type": "markdown",
      "source": [
        "## **5.2 Random Forest Classifier**"
      ],
      "metadata": {
        "id": "2uhImtJt6wDX"
      }
    },
    {
      "cell_type": "markdown",
      "source": [
        "### **5.2.1 Training Random Forest Classifier**"
      ],
      "metadata": {
        "id": "GNFFFzSb66-Q"
      }
    },
    {
      "cell_type": "code",
      "source": [
        "model_2 = RandomForestClassifier(random_state=42, class_weight='balanced')\n",
        "\n",
        "n_estimators = [int(x) for x in np.linspace(start = 300, stop = 400, num = 10)]\n",
        "param_grid = {\n",
        "    'bootstrap': [True, False],\n",
        "    'n_estimators': n_estimators, # Number of trees in the forest\n",
        "    'max_depth': [1, 2, 5],  # Maximum depth of the tree\n",
        "    'min_samples_split': [3, 4, 5, 10],  # Minimum number of samples required to split a node\n",
        "    'max_features': ['sqrt', 'log2']  # Number of features to consider when looking for the best split\n",
        "}\n",
        "\n",
        "grid_search_2 = GridSearchCV(model_2, cv=5, param_grid=param_grid, scoring = 'recall_macro')\n",
        "_=grid_search_2.fit(X_train,y_train)\n",
        "\n",
        "\n",
        "print(\"Best parameters found:\")\n",
        "print(grid_search_2.best_params_)\n",
        "print('Best mean recall:', round(grid_search_2.best_score_,2))\n",
        "\n",
        "# best model\n",
        "tuned_model_2 = grid_search_2.best_estimator_"
      ],
      "metadata": {
        "colab": {
          "base_uri": "https://localhost:8080/"
        },
        "id": "aEKum6Py7Btz",
        "outputId": "f1a76d78-0a14-4edf-d0f6-5698dd76e1bf"
      },
      "execution_count": null,
      "outputs": [
        {
          "output_type": "stream",
          "name": "stdout",
          "text": [
            "Best parameters found:\n",
            "{'bootstrap': False, 'max_depth': 1, 'max_features': 'sqrt', 'min_samples_split': 3, 'n_estimators': 300}\n",
            "Best mean recall: 0.84\n"
          ]
        }
      ]
    },
    {
      "cell_type": "markdown",
      "source": [
        "### **5.2.2 Results for Random Forest Classifier**"
      ],
      "metadata": {
        "id": "vOsdXtPrBuKj"
      }
    },
    {
      "cell_type": "code",
      "source": [
        "tuned_model_2 = RandomForestClassifier(random_state=42, class_weight='balanced',bootstrap = False,\n",
        "                                     max_depth = 1, max_features = 'sqrt',\n",
        "                                     min_samples_split = 3, n_estimators =300)"
      ],
      "metadata": {
        "id": "WjnZ3TqsGcq8"
      },
      "execution_count": 15,
      "outputs": []
    },
    {
      "cell_type": "code",
      "source": [
        "tuned_model_2.fit(X_train,y_train)"
      ],
      "metadata": {
        "colab": {
          "base_uri": "https://localhost:8080/",
          "height": 91
        },
        "id": "had-8yptHMdG",
        "outputId": "1297c047-f1f4-4c39-c724-374b30231a39"
      },
      "execution_count": 16,
      "outputs": [
        {
          "output_type": "execute_result",
          "data": {
            "text/plain": [
              "RandomForestClassifier(bootstrap=False, class_weight='balanced', max_depth=1,\n",
              "                       min_samples_split=3, n_estimators=300, random_state=42)"
            ],
            "text/html": [
              "<style>#sk-container-id-1 {color: black;background-color: white;}#sk-container-id-1 pre{padding: 0;}#sk-container-id-1 div.sk-toggleable {background-color: white;}#sk-container-id-1 label.sk-toggleable__label {cursor: pointer;display: block;width: 100%;margin-bottom: 0;padding: 0.3em;box-sizing: border-box;text-align: center;}#sk-container-id-1 label.sk-toggleable__label-arrow:before {content: \"▸\";float: left;margin-right: 0.25em;color: #696969;}#sk-container-id-1 label.sk-toggleable__label-arrow:hover:before {color: black;}#sk-container-id-1 div.sk-estimator:hover label.sk-toggleable__label-arrow:before {color: black;}#sk-container-id-1 div.sk-toggleable__content {max-height: 0;max-width: 0;overflow: hidden;text-align: left;background-color: #f0f8ff;}#sk-container-id-1 div.sk-toggleable__content pre {margin: 0.2em;color: black;border-radius: 0.25em;background-color: #f0f8ff;}#sk-container-id-1 input.sk-toggleable__control:checked~div.sk-toggleable__content {max-height: 200px;max-width: 100%;overflow: auto;}#sk-container-id-1 input.sk-toggleable__control:checked~label.sk-toggleable__label-arrow:before {content: \"▾\";}#sk-container-id-1 div.sk-estimator input.sk-toggleable__control:checked~label.sk-toggleable__label {background-color: #d4ebff;}#sk-container-id-1 div.sk-label input.sk-toggleable__control:checked~label.sk-toggleable__label {background-color: #d4ebff;}#sk-container-id-1 input.sk-hidden--visually {border: 0;clip: rect(1px 1px 1px 1px);clip: rect(1px, 1px, 1px, 1px);height: 1px;margin: -1px;overflow: hidden;padding: 0;position: absolute;width: 1px;}#sk-container-id-1 div.sk-estimator {font-family: monospace;background-color: #f0f8ff;border: 1px dotted black;border-radius: 0.25em;box-sizing: border-box;margin-bottom: 0.5em;}#sk-container-id-1 div.sk-estimator:hover {background-color: #d4ebff;}#sk-container-id-1 div.sk-parallel-item::after {content: \"\";width: 100%;border-bottom: 1px solid gray;flex-grow: 1;}#sk-container-id-1 div.sk-label:hover label.sk-toggleable__label {background-color: #d4ebff;}#sk-container-id-1 div.sk-serial::before {content: \"\";position: absolute;border-left: 1px solid gray;box-sizing: border-box;top: 0;bottom: 0;left: 50%;z-index: 0;}#sk-container-id-1 div.sk-serial {display: flex;flex-direction: column;align-items: center;background-color: white;padding-right: 0.2em;padding-left: 0.2em;position: relative;}#sk-container-id-1 div.sk-item {position: relative;z-index: 1;}#sk-container-id-1 div.sk-parallel {display: flex;align-items: stretch;justify-content: center;background-color: white;position: relative;}#sk-container-id-1 div.sk-item::before, #sk-container-id-1 div.sk-parallel-item::before {content: \"\";position: absolute;border-left: 1px solid gray;box-sizing: border-box;top: 0;bottom: 0;left: 50%;z-index: -1;}#sk-container-id-1 div.sk-parallel-item {display: flex;flex-direction: column;z-index: 1;position: relative;background-color: white;}#sk-container-id-1 div.sk-parallel-item:first-child::after {align-self: flex-end;width: 50%;}#sk-container-id-1 div.sk-parallel-item:last-child::after {align-self: flex-start;width: 50%;}#sk-container-id-1 div.sk-parallel-item:only-child::after {width: 0;}#sk-container-id-1 div.sk-dashed-wrapped {border: 1px dashed gray;margin: 0 0.4em 0.5em 0.4em;box-sizing: border-box;padding-bottom: 0.4em;background-color: white;}#sk-container-id-1 div.sk-label label {font-family: monospace;font-weight: bold;display: inline-block;line-height: 1.2em;}#sk-container-id-1 div.sk-label-container {text-align: center;}#sk-container-id-1 div.sk-container {/* jupyter's `normalize.less` sets `[hidden] { display: none; }` but bootstrap.min.css set `[hidden] { display: none !important; }` so we also need the `!important` here to be able to override the default hidden behavior on the sphinx rendered scikit-learn.org. See: https://github.com/scikit-learn/scikit-learn/issues/21755 */display: inline-block !important;position: relative;}#sk-container-id-1 div.sk-text-repr-fallback {display: none;}</style><div id=\"sk-container-id-1\" class=\"sk-top-container\"><div class=\"sk-text-repr-fallback\"><pre>RandomForestClassifier(bootstrap=False, class_weight=&#x27;balanced&#x27;, max_depth=1,\n",
              "                       min_samples_split=3, n_estimators=300, random_state=42)</pre><b>In a Jupyter environment, please rerun this cell to show the HTML representation or trust the notebook. <br />On GitHub, the HTML representation is unable to render, please try loading this page with nbviewer.org.</b></div><div class=\"sk-container\" hidden><div class=\"sk-item\"><div class=\"sk-estimator sk-toggleable\"><input class=\"sk-toggleable__control sk-hidden--visually\" id=\"sk-estimator-id-1\" type=\"checkbox\" checked><label for=\"sk-estimator-id-1\" class=\"sk-toggleable__label sk-toggleable__label-arrow\">RandomForestClassifier</label><div class=\"sk-toggleable__content\"><pre>RandomForestClassifier(bootstrap=False, class_weight=&#x27;balanced&#x27;, max_depth=1,\n",
              "                       min_samples_split=3, n_estimators=300, random_state=42)</pre></div></div></div></div></div>"
            ]
          },
          "metadata": {},
          "execution_count": 16
        }
      ]
    },
    {
      "cell_type": "code",
      "source": [
        "print('Training performance:')\n",
        "evaluation(tuned_model_2,X_train,y_train)"
      ],
      "metadata": {
        "colab": {
          "base_uri": "https://localhost:8080/"
        },
        "id": "ChVJpN6sBs0l",
        "outputId": "f19b01c1-2cae-4e98-b562-95c9375abe8e"
      },
      "execution_count": 17,
      "outputs": [
        {
          "output_type": "stream",
          "name": "stdout",
          "text": [
            "Training performance:\n",
            "accuracy:  0.92\n",
            "sensitivity:  0.9\n",
            "specificity:  0.93\n",
            "mean recall:  0.92\n"
          ]
        }
      ]
    },
    {
      "cell_type": "code",
      "source": [
        "print('Training performance CV:')\n",
        "evaluationCV(tuned_model_2,X_train,y_train)"
      ],
      "metadata": {
        "colab": {
          "base_uri": "https://localhost:8080/"
        },
        "id": "BVDF_pCJB4e8",
        "outputId": "e8d88058-6221-4920-f64a-88fbddd810a6"
      },
      "execution_count": 18,
      "outputs": [
        {
          "output_type": "stream",
          "name": "stdout",
          "text": [
            "Training performance CV:\n",
            "CV accuracy: 0.88\n",
            "CV sensitivity:  0.71\n",
            "CV specificity:  0.92\n",
            "CV mean recall:  0.82\n"
          ]
        }
      ]
    },
    {
      "cell_type": "code",
      "source": [
        "# plot\n",
        "plt.figure(figsize=(10,8))\n",
        "plt.subplot(221)\n",
        "plotData(transf.transform(X_train),y_train)\n",
        "plt.title('training set: true labels')\n",
        "plt.subplot(222)\n",
        "plotData(transf.transform(X_test),y_test)\n",
        "plt.title('test set: true labels')\n",
        "plt.subplot(223)\n",
        "plotData(transf.transform(X_train),tuned_model_2.predict(X_train))\n",
        "plt.title('training set: predicted labels')\n",
        "plt.subplot(224)\n",
        "plotData(transf.transform(X_test),tuned_model_2.predict(X_test))\n",
        "plt.title('test set: predicted labels')"
      ],
      "metadata": {
        "colab": {
          "base_uri": "https://localhost:8080/",
          "height": 735
        },
        "id": "DIfZhABiCH2S",
        "outputId": "ad6d120d-8284-4e4e-de5a-9d03b39b3684"
      },
      "execution_count": 19,
      "outputs": [
        {
          "output_type": "execute_result",
          "data": {
            "text/plain": [
              "Text(0.5, 1.0, 'test set: predicted labels')"
            ]
          },
          "metadata": {},
          "execution_count": 19
        },
        {
          "output_type": "display_data",
          "data": {
            "text/plain": [
              "<Figure size 1000x800 with 4 Axes>"
            ],
            "image/png": "[encoded data removed]"
          },
          "metadata": {}
        }
      ]
    },
    {
      "cell_type": "markdown",
      "source": [
        "# **6. Discovering the Most Predictive Features**"
      ],
      "metadata": {
        "id": "ZoEHmYFVHrOq"
      }
    },
    {
      "cell_type": "markdown",
      "source": [
        "## **6.1 Feature Selection using SelectKBest with ANOVA F-value**"
      ],
      "metadata": {
        "id": "RDCQ4tkTIuXx"
      }
    },
    {
      "cell_type": "code",
      "source": [
        "def PrintTopFeatures(top_features):\n",
        "    ind2D=np.unravel_index(top_features, [90,90], order='C')\n",
        "    for i in range(ind2D[0].shape[0]):\n",
        "        print(label_names.iloc[ind2D[0][i],1], label_names.iloc[ind2D[1][i],1] )"
      ],
      "metadata": {
        "id": "C2p-GxdKHzW3"
      },
      "execution_count": 20,
      "outputs": []
    },
    {
      "cell_type": "code",
      "source": [
        "def select_k_best(model, model_params, X_train, y_train, X_test):\n",
        "    # Define a pipeline with feature selection\n",
        "    pipeline = Pipeline([\n",
        "        ('selector', SelectKBest(f_classif)),\n",
        "        ('classifier', model(**model_params))\n",
        "    ])\n",
        "\n",
        "    # Define the parameters grid for the SelectKBest\n",
        "    param_grid = {'selector__k': list(range(55, 4005, 50))}\n",
        "\n",
        "    # Perform grid search with cross-validation\n",
        "    grid_search = GridSearchCV(pipeline, param_grid, cv=5, scoring='recall_macro')\n",
        "    grid_search.fit(X_train, y_train)\n",
        "\n",
        "    # Get the best k value\n",
        "    best_k = grid_search.best_params_['selector__k']\n",
        "    print(\"Best k value:\", best_k)\n",
        "\n",
        "    # Get the top features using the best k value\n",
        "    selector = SelectKBest(f_classif, k=best_k)\n",
        "    selector.fit(X_train, y_train)\n",
        "    PrintTopFeatures(selector.get_support(indices=True))\n",
        "\n",
        "    # Transform X_train and X_test to include only selected features\n",
        "    X_train_selected_kbest = selector.transform(X_train)\n",
        "    X_test_selected_kbest = selector.transform(X_test)\n",
        "\n",
        "\n",
        "    return grid_search, best_k, X_train_selected_kbest, X_test_selected_kbest"
      ],
      "metadata": {
        "id": "VS8tftdRX3vF"
      },
      "execution_count": 29,
      "outputs": []
    },
    {
      "cell_type": "markdown",
      "source": [
        "### **6.1.1 Training Logistic Regression Classifier with Selected Features**"
      ],
      "metadata": {
        "id": "9DaeNMJOM1Ts"
      }
    },
    {
      "cell_type": "code",
      "source": [
        "\n",
        "model = LogisticRegression\n",
        "model_params = {'class_weight': 'balanced', 'C': 0.001, 'random_state' : 42}\n",
        "\n",
        "grid_search, best_k, X_train_selected_kbest_lrc, X_test_selected_kbest_lrc  = select_k_best(model, model_params, X_train, y_train, X_test)"
      ],
      "metadata": {
        "colab": {
          "base_uri": "https://localhost:8080/"
        },
        "id": "-gDh31VuYAsu",
        "outputId": "26637881-43d8-4a03-e203-6aa0f0eb28d6"
      },
      "execution_count": 41,
      "outputs": [
        {
          "output_type": "stream",
          "name": "stdout",
          "text": [
            "Best k value: 705\n",
            "Precentral_L Precentral_L\n",
            "Precentral_L Frontal_Sup_R \n",
            "Precentral_L Frontal_Inf_Tri_R \n",
            "Precentral_L Rolandic_Oper_R \n",
            "Precentral_L Frontal_Mid_Orb_L \n",
            "Precentral_L Cingulum_Mid_L \n",
            "Precentral_L Amygdala_R \n",
            "Precentral_L Occipital_Mid_R \n",
            "Precentral_L Postcentral_L \n",
            "Precentral_L Caudate_L \n",
            "Precentral_L Heschl_R \n",
            "Precentral_R Frontal_Mid_Orb_R \n",
            "Precentral_R Cingulum_Ant_R \n",
            "Precentral_R Hippocampus_L \n",
            "Precentral_R Lingual_L \n",
            "Precentral_R Angular_R \n",
            "Precentral_R Temporal_Sup_L \n",
            "Precentral_R Temporal_Sup_R \n",
            "Precentral_R Temporal_Mid_L \n",
            "Frontal_Sup_L  Frontal_Mid_R \n",
            "Frontal_Sup_L  Frontal_Mid_Orb_R \n",
            "Frontal_Sup_L  Frontal_Inf_Oper_R \n",
            "Frontal_Sup_L  Rolandic_Oper_L \n",
            "Frontal_Sup_L  Cingulum_Ant_L \n",
            "Frontal_Sup_L  Cingulum_Ant_R \n",
            "Frontal_Sup_L  Cingulum_Post_L \n",
            "Frontal_Sup_L  ParaHippocampal_L \n",
            "Frontal_Sup_L  Occipital_Sup_R \n",
            "Frontal_Sup_L  Occipital_Mid_L \n",
            "Frontal_Sup_L  Occipital_Inf_R \n",
            "Frontal_Sup_L  Postcentral_R \n",
            "Frontal_Sup_L  Paracentral_Lobule_R \n",
            "Frontal_Sup_L  Pallidum_L \n",
            "Frontal_Sup_L  Thalamus_L \n",
            "Frontal_Sup_R  Frontal_Sup_L \n",
            "Frontal_Sup_R  Frontal_Inf_Tri_L \n",
            "Frontal_Sup_R  Hippocampus_R \n",
            "Frontal_Sup_R  Parietal_Inf_R \n",
            "Frontal_Sup_R  Angular_R \n",
            "Frontal_Sup_R  Precuneus_R \n",
            "Frontal_Sup_R  Thalamus_L \n",
            "Frontal_Sup_Orb_L  Frontal_Sup_L \n",
            "Frontal_Sup_Orb_L  Rolandic_Oper_L \n",
            "Frontal_Sup_Orb_L  Frontal_Mid_Orb_L \n",
            "Frontal_Sup_Orb_L  Cingulum_Mid_L \n",
            "Frontal_Sup_Orb_L  Hippocampus_R \n",
            "Frontal_Sup_Orb_L  Lingual_L \n",
            "Frontal_Sup_Orb_L  Occipital_Mid_R \n",
            "Frontal_Sup_Orb_L  Occipital_Inf_R \n",
            "Frontal_Sup_Orb_L  Fusiform_R \n",
            "Frontal_Sup_Orb_L  Parietal_Inf_R \n",
            "Frontal_Sup_Orb_L  SupraMarginal_L \n",
            "Frontal_Sup_Orb_L  Angular_L \n",
            "Frontal_Sup_Orb_L  Caudate_R \n",
            "Frontal_Sup_Orb_L  Putamen_R \n",
            "Frontal_Sup_Orb_R  Frontal_Sup_Orb_L \n",
            "Frontal_Sup_Orb_R  Frontal_Mid_R \n",
            "Frontal_Sup_Orb_R  Frontal_Mid_Orb_R \n",
            "Frontal_Sup_Orb_R  Frontal_Inf_Oper_R \n",
            "Frontal_Sup_Orb_R  Supp_Motor_Area_R \n",
            "Frontal_Sup_Orb_R  Olfactory_L \n",
            "Frontal_Sup_Orb_R  Frontal_Sup_Medial_R \n",
            "Frontal_Sup_Orb_R  Frontal_Mid_Orb_L \n",
            "Frontal_Sup_Orb_R  Amygdala_R \n",
            "Frontal_Sup_Orb_R  Calcarine_L \n",
            "Frontal_Sup_Orb_R  Precuneus_R \n",
            "Frontal_Sup_Orb_R  Paracentral_Lobule_L \n",
            "Frontal_Sup_Orb_R  Caudate_R \n",
            "Frontal_Sup_Orb_R  Putamen_R \n",
            "Frontal_Sup_Orb_R  Temporal_Pole_Mid_L \n",
            "Frontal_Sup_Orb_R  Temporal_Pole_Mid_R \n",
            "Frontal_Mid_L  Precentral_R\n",
            "Frontal_Mid_L  Frontal_Sup_R \n",
            "Frontal_Mid_L  Olfactory_L \n",
            "Frontal_Mid_L  Olfactory_R \n",
            "Frontal_Mid_L  Hippocampus_R \n",
            "Frontal_Mid_L  ParaHippocampal_R \n",
            "Frontal_Mid_L  Calcarine_L \n",
            "Frontal_Mid_L  Lingual_L \n",
            "Frontal_Mid_L  Occipital_Sup_R \n",
            "Frontal_Mid_L  Parietal_Sup_R \n",
            "Frontal_Mid_L  SupraMarginal_R \n",
            "Frontal_Mid_L  Pallidum_R \n",
            "Frontal_Mid_L  Thalamus_L \n",
            "Frontal_Mid_L  Heschl_R \n",
            "Frontal_Mid_L  Temporal_Sup_R \n",
            "Frontal_Mid_L  Temporal_Pole_Sup_L \n",
            "Frontal_Mid_L  Temporal_Mid_L \n",
            "Frontal_Mid_L  Temporal_Pole_Mid_R \n",
            "Frontal_Mid_R  Precentral_R\n",
            "Frontal_Mid_R  Frontal_Inf_Orb_R \n",
            "Frontal_Mid_R  Cingulum_Post_R \n",
            "Frontal_Mid_R  Hippocampus_L \n",
            "Frontal_Mid_R  Paracentral_Lobule_R \n",
            "Frontal_Mid_R  Caudate_L \n",
            "Frontal_Mid_R  Pallidum_L \n",
            "Frontal_Mid_R  Heschl_R \n",
            "Frontal_Mid_Orb_L  Frontal_Mid_Orb_R \n",
            "Frontal_Mid_Orb_L  Frontal_Inf_Oper_R \n",
            "Frontal_Mid_Orb_L  Frontal_Inf_Orb_L \n",
            "Frontal_Mid_Orb_L  Supp_Motor_Area_L \n",
            "Frontal_Mid_Orb_L  Fusiform_L \n",
            "Frontal_Mid_Orb_L  Postcentral_L \n",
            "Frontal_Mid_Orb_L  Parietal_Inf_R \n",
            "Frontal_Mid_Orb_L  Precuneus_L \n",
            "Frontal_Mid_Orb_L  Putamen_L \n",
            "Frontal_Mid_Orb_L  Pallidum_L \n",
            "Frontal_Mid_Orb_L  Thalamus_R \n",
            "Frontal_Mid_Orb_L  Temporal_Pole_Sup_L \n",
            "Frontal_Mid_Orb_L  Temporal_Pole_Mid_L \n",
            "Frontal_Mid_Orb_L  Temporal_Inf_L \n",
            "Frontal_Mid_Orb_R  Precentral_L\n",
            "Frontal_Mid_Orb_R  Frontal_Sup_Orb_R \n",
            "Frontal_Mid_Orb_R  Frontal_Inf_Oper_L \n",
            "Frontal_Mid_Orb_R  Frontal_Inf_Tri_L \n",
            "Frontal_Mid_Orb_R  Rolandic_Oper_R \n",
            "Frontal_Mid_Orb_R  Rectus_L \n",
            "Frontal_Mid_Orb_R  Insula_L \n",
            "Frontal_Mid_Orb_R  ParaHippocampal_L \n",
            "Frontal_Mid_Orb_R  Cuneus_L \n",
            "Frontal_Mid_Orb_R  Occipital_Mid_L \n",
            "Frontal_Mid_Orb_R  Precuneus_R \n",
            "Frontal_Mid_Orb_R  Temporal_Inf_R \n",
            "Frontal_Inf_Oper_L  Hippocampus_L \n",
            "Frontal_Inf_Oper_L  Amygdala_R \n",
            "Frontal_Inf_Oper_L  Occipital_Inf_R \n",
            "Frontal_Inf_Oper_L  Thalamus_L \n",
            "Frontal_Inf_Oper_L  Heschl_L \n",
            "Frontal_Inf_Oper_R  Frontal_Mid_R \n",
            "Frontal_Inf_Oper_R  Cingulum_Ant_R \n",
            "Frontal_Inf_Oper_R  Cingulum_Mid_R \n",
            "Frontal_Inf_Oper_R  Occipital_Mid_R \n",
            "Frontal_Inf_Oper_R  Angular_R \n",
            "Frontal_Inf_Oper_R  Precuneus_L \n",
            "Frontal_Inf_Oper_R  Caudate_R \n",
            "Frontal_Inf_Oper_R  Putamen_R \n",
            "Frontal_Inf_Oper_R  Thalamus_L \n",
            "Frontal_Inf_Oper_R  Temporal_Sup_L \n",
            "Frontal_Inf_Oper_R  Temporal_Sup_R \n",
            "Frontal_Inf_Oper_R  Temporal_Mid_R \n",
            "Frontal_Inf_Tri_L  Precentral_R\n",
            "Frontal_Inf_Tri_L  Frontal_Mid_Orb_L \n",
            "Frontal_Inf_Tri_L  Olfactory_R \n",
            "Frontal_Inf_Tri_L  Frontal_Sup_Medial_L \n",
            "Frontal_Inf_Tri_L  Insula_L \n",
            "Frontal_Inf_Tri_L  Cingulum_Post_L \n",
            "Frontal_Inf_Tri_L  Calcarine_L \n",
            "Frontal_Inf_Tri_L  Cuneus_R \n",
            "Frontal_Inf_Tri_L  Temporal_Sup_L \n",
            "Frontal_Inf_Tri_R  Frontal_Inf_Tri_R \n",
            "Frontal_Inf_Tri_R  ParaHippocampal_R \n",
            "Frontal_Inf_Tri_R  Occipital_Mid_L \n",
            "Frontal_Inf_Tri_R  Parietal_Inf_R \n",
            "Frontal_Inf_Tri_R  Pallidum_R \n",
            "Frontal_Inf_Tri_R  Thalamus_R \n",
            "Frontal_Inf_Tri_R  Heschl_L \n",
            "Frontal_Inf_Tri_R  Temporal_Mid_R \n",
            "Frontal_Inf_Tri_R  Temporal_Pole_Mid_R \n",
            "Frontal_Inf_Orb_L  Precentral_R\n",
            "Frontal_Inf_Orb_L  Frontal_Sup_R \n",
            "Frontal_Inf_Orb_L  Frontal_Sup_Orb_R \n",
            "Frontal_Inf_Orb_L  Frontal_Inf_Tri_R \n",
            "Frontal_Inf_Orb_L  Frontal_Sup_Medial_L \n",
            "Frontal_Inf_Orb_L  Lingual_L \n",
            "Frontal_Inf_Orb_L  Occipital_Sup_L \n",
            "Frontal_Inf_Orb_L  Postcentral_L \n",
            "Frontal_Inf_Orb_L  Postcentral_R \n",
            "Frontal_Inf_Orb_L  Parietal_Sup_R \n",
            "Frontal_Inf_Orb_L  SupraMarginal_L \n",
            "Frontal_Inf_Orb_L  Angular_L \n",
            "Frontal_Inf_Orb_L  Putamen_L \n",
            "Frontal_Inf_Orb_L  Temporal_Pole_Mid_L \n",
            "Frontal_Inf_Orb_L  Temporal_Inf_L \n",
            "Frontal_Inf_Orb_R  Frontal_Mid_L \n",
            "Frontal_Inf_Orb_R  Frontal_Mid_Orb_L \n",
            "Frontal_Inf_Orb_R  Frontal_Inf_Orb_L \n",
            "Frontal_Inf_Orb_R  Rolandic_Oper_L \n",
            "Frontal_Inf_Orb_R  Rolandic_Oper_R \n",
            "Frontal_Inf_Orb_R  Cingulum_Post_R \n",
            "Frontal_Inf_Orb_R  Occipital_Sup_R \n",
            "Frontal_Inf_Orb_R  Occipital_Inf_R \n",
            "Frontal_Inf_Orb_R  Fusiform_R \n",
            "Frontal_Inf_Orb_R  Parietal_Inf_R \n",
            "Frontal_Inf_Orb_R  Paracentral_Lobule_R \n",
            "Frontal_Inf_Orb_R  Putamen_L \n",
            "Frontal_Inf_Orb_R  Pallidum_R \n",
            "Frontal_Inf_Orb_R  Temporal_Pole_Sup_L \n",
            "Rolandic_Oper_L  Cingulum_Ant_R \n",
            "Rolandic_Oper_L  Calcarine_R \n",
            "Rolandic_Oper_L  Putamen_L \n",
            "Rolandic_Oper_L  Temporal_Pole_Sup_R \n",
            "Rolandic_Oper_L  Temporal_Mid_L \n",
            "Rolandic_Oper_R  Precentral_R\n",
            "Rolandic_Oper_R  Frontal_Inf_Oper_R \n",
            "Rolandic_Oper_R  Rolandic_Oper_L \n",
            "Rolandic_Oper_R  Olfactory_L \n",
            "Rolandic_Oper_R  Frontal_Sup_Medial_L \n",
            "Rolandic_Oper_R  Cingulum_Ant_R \n",
            "Rolandic_Oper_R  Cingulum_Mid_L \n",
            "Rolandic_Oper_R  ParaHippocampal_L \n",
            "Rolandic_Oper_R  ParaHippocampal_R \n",
            "Rolandic_Oper_R  Occipital_Mid_R \n",
            "Rolandic_Oper_R  Putamen_R \n",
            "Rolandic_Oper_R  Pallidum_R \n",
            "Rolandic_Oper_R  Thalamus_R \n",
            "Rolandic_Oper_R  Heschl_R \n",
            "Rolandic_Oper_R  Temporal_Sup_R \n",
            "Rolandic_Oper_R  Temporal_Inf_R \n",
            "Supp_Motor_Area_L  Precentral_R\n",
            "Supp_Motor_Area_L  Frontal_Sup_Orb_R \n",
            "Supp_Motor_Area_L  Frontal_Mid_R \n",
            "Supp_Motor_Area_L  Rolandic_Oper_L \n",
            "Supp_Motor_Area_L  Insula_R \n",
            "Supp_Motor_Area_L  ParaHippocampal_R \n",
            "Supp_Motor_Area_L  Occipital_Mid_R \n",
            "Supp_Motor_Area_L  Fusiform_R \n",
            "Supp_Motor_Area_L  Postcentral_L \n",
            "Supp_Motor_Area_L  Parietal_Inf_R \n",
            "Supp_Motor_Area_L  SupraMarginal_R \n",
            "Supp_Motor_Area_L  Angular_L \n",
            "Supp_Motor_Area_L  Thalamus_R \n",
            "Supp_Motor_Area_R  Rolandic_Oper_R \n",
            "Supp_Motor_Area_R  ParaHippocampal_L \n",
            "Supp_Motor_Area_R  Amygdala_L \n",
            "Supp_Motor_Area_R  Occipital_Sup_L \n",
            "Supp_Motor_Area_R  Parietal_Sup_L \n",
            "Supp_Motor_Area_R  Precuneus_L \n",
            "Supp_Motor_Area_R  Caudate_L \n",
            "Supp_Motor_Area_R  Putamen_L \n",
            "Supp_Motor_Area_R  Pallidum_L \n",
            "Supp_Motor_Area_R  Thalamus_L \n",
            "Supp_Motor_Area_R  Temporal_Pole_Sup_L \n",
            "Supp_Motor_Area_R  Temporal_Mid_L \n",
            "Supp_Motor_Area_R  Temporal_Inf_L \n",
            "Olfactory_L  Precentral_L\n",
            "Olfactory_L  Frontal_Inf_Oper_L \n",
            "Olfactory_L  Rolandic_Oper_L \n",
            "Olfactory_L  Insula_L \n",
            "Olfactory_L  Cingulum_Post_R \n",
            "Olfactory_L  Hippocampus_R \n",
            "Olfactory_L  ParaHippocampal_R \n",
            "Olfactory_L  Amygdala_R \n",
            "Olfactory_L  Calcarine_R \n",
            "Olfactory_L  Lingual_R \n",
            "Olfactory_L  Occipital_Inf_R \n",
            "Olfactory_L  Postcentral_R \n",
            "Olfactory_L  Parietal_Sup_R \n",
            "Olfactory_L  Parietal_Inf_R \n",
            "Olfactory_L  Caudate_R \n",
            "Olfactory_L  Temporal_Inf_R \n",
            "Olfactory_R  Frontal_Sup_L \n",
            "Olfactory_R  Frontal_Mid_R \n",
            "Olfactory_R  Frontal_Inf_Oper_R \n",
            "Olfactory_R  Frontal_Inf_Tri_R \n",
            "Olfactory_R  Rolandic_Oper_R \n",
            "Olfactory_R  Insula_R \n",
            "Olfactory_R  Cingulum_Post_R \n",
            "Olfactory_R  Occipital_Sup_L \n",
            "Olfactory_R  Parietal_Inf_R \n",
            "Olfactory_R  Caudate_L \n",
            "Olfactory_R  Pallidum_L \n",
            "Olfactory_R  Thalamus_L \n",
            "Olfactory_R  Heschl_L \n",
            "Olfactory_R  Temporal_Pole_Mid_L \n",
            "Frontal_Sup_Medial_L  Frontal_Sup_L \n",
            "Frontal_Sup_Medial_L  Frontal_Mid_Orb_L \n",
            "Frontal_Sup_Medial_L  Frontal_Mid_Orb_R \n",
            "Frontal_Sup_Medial_L  Cingulum_Mid_L \n",
            "Frontal_Sup_Medial_L  Cingulum_Post_L \n",
            "Frontal_Sup_Medial_L  Lingual_L \n",
            "Frontal_Sup_Medial_L  Occipital_Sup_L \n",
            "Frontal_Sup_Medial_L  Occipital_Mid_L \n",
            "Frontal_Sup_Medial_L  Occipital_Inf_L \n",
            "Frontal_Sup_Medial_L  Postcentral_L \n",
            "Frontal_Sup_Medial_L  Parietal_Sup_L \n",
            "Frontal_Sup_Medial_L  SupraMarginal_L \n",
            "Frontal_Sup_Medial_L  Angular_L \n",
            "Frontal_Sup_Medial_L  Precuneus_L \n",
            "Frontal_Sup_Medial_L  Pallidum_L \n",
            "Frontal_Sup_Medial_L  Thalamus_L \n",
            "Frontal_Sup_Medial_L  Temporal_Pole_Sup_L \n",
            "Frontal_Sup_Medial_R  Frontal_Sup_Orb_L \n",
            "Frontal_Sup_Medial_R  Frontal_Mid_L \n",
            "Frontal_Sup_Medial_R  Rolandic_Oper_R \n",
            "Frontal_Sup_Medial_R  Olfactory_R \n",
            "Frontal_Sup_Medial_R  Frontal_Sup_Medial_R \n",
            "Frontal_Sup_Medial_R  Rectus_R \n",
            "Frontal_Sup_Medial_R  Insula_R \n",
            "Frontal_Sup_Medial_R  Cingulum_Ant_R \n",
            "Frontal_Sup_Medial_R  Cingulum_Mid_L \n",
            "Frontal_Sup_Medial_R  Cingulum_Mid_R \n",
            "Frontal_Sup_Medial_R  Cingulum_Post_R \n",
            "Frontal_Sup_Medial_R  ParaHippocampal_R \n",
            "Frontal_Sup_Medial_R  Amygdala_R \n",
            "Frontal_Sup_Medial_R  Calcarine_R \n",
            "Frontal_Sup_Medial_R  Occipital_Mid_R \n",
            "Frontal_Sup_Medial_R  Occipital_Inf_R \n",
            "Frontal_Sup_Medial_R  SupraMarginal_R \n",
            "Frontal_Sup_Medial_R  Paracentral_Lobule_R \n",
            "Frontal_Sup_Medial_R  Caudate_R \n",
            "Frontal_Mid_Orb_L  Frontal_Mid_R \n",
            "Frontal_Mid_Orb_L  Rolandic_Oper_R \n",
            "Frontal_Mid_Orb_L  Calcarine_R \n",
            "Frontal_Mid_Orb_L  Lingual_R \n",
            "Frontal_Mid_Orb_L  Occipital_Mid_R \n",
            "Frontal_Mid_Orb_L  Parietal_Sup_L \n",
            "Frontal_Mid_Orb_L  Temporal_Mid_L \n",
            "Frontal_Mid_Orb_L  Temporal_Inf_L \n",
            "Frontal_Mid_Orb_R  Frontal_Sup_L \n",
            "Frontal_Mid_Orb_R  Frontal_Sup_Orb_L \n",
            "Frontal_Mid_Orb_R  Frontal_Mid_Orb_L \n",
            "Frontal_Mid_Orb_R  Frontal_Inf_Orb_L \n",
            "Frontal_Mid_Orb_R  Olfactory_L \n",
            "Frontal_Mid_Orb_R  Cuneus_L \n",
            "Frontal_Mid_Orb_R  Occipital_Sup_L \n",
            "Frontal_Mid_Orb_R  Occipital_Mid_L \n",
            "Frontal_Mid_Orb_R  Paracentral_Lobule_L \n",
            "Frontal_Mid_Orb_R  Temporal_Pole_Sup_R \n",
            "Frontal_Mid_Orb_R  Temporal_Pole_Mid_L \n",
            "Rectus_L  Precentral_L\n",
            "Rectus_L  Frontal_Mid_R \n",
            "Rectus_L  Frontal_Inf_Tri_R \n",
            "Rectus_L  Insula_R \n",
            "Rectus_L  Calcarine_R \n",
            "Rectus_L  Thalamus_L \n",
            "Rectus_L  Heschl_L \n",
            "Rectus_L  Temporal_Sup_R \n",
            "Rectus_L  Temporal_Inf_R \n",
            "Rectus_R  Frontal_Sup_L \n",
            "Rectus_R  Frontal_Sup_R \n",
            "Rectus_R  Frontal_Sup_Orb_L \n",
            "Rectus_R  Frontal_Mid_R \n",
            "Rectus_R  Frontal_Inf_Oper_R \n",
            "Rectus_R  Frontal_Inf_Orb_L \n",
            "Rectus_R  Frontal_Inf_Orb_R \n",
            "Rectus_R  Olfactory_L \n",
            "Rectus_R  Rectus_L \n",
            "Rectus_R  Cingulum_Post_R \n",
            "Rectus_R  Hippocampus_L \n",
            "Rectus_R  Calcarine_L \n",
            "Rectus_R  Calcarine_R \n",
            "Rectus_R  Cuneus_L \n",
            "Rectus_R  Occipital_Mid_R \n",
            "Rectus_R  Occipital_Inf_R \n",
            "Rectus_R  Fusiform_L \n",
            "Rectus_R  Fusiform_R \n",
            "Rectus_R  Postcentral_R \n",
            "Rectus_R  SupraMarginal_L \n",
            "Rectus_R  Angular_R \n",
            "Rectus_R  Caudate_L \n",
            "Rectus_R  Caudate_R \n",
            "Rectus_R  Putamen_R \n",
            "Rectus_R  Pallidum_L \n",
            "Rectus_R  Temporal_Pole_Sup_R \n",
            "Rectus_R  Temporal_Inf_R \n",
            "Insula_L  Precentral_L\n",
            "Insula_L  Frontal_Sup_Orb_R \n",
            "Insula_L  Frontal_Inf_Tri_R \n",
            "Insula_L  Supp_Motor_Area_R \n",
            "Insula_L  Olfactory_R \n",
            "Insula_L  Frontal_Sup_Medial_R \n",
            "Insula_L  Frontal_Mid_Orb_R \n",
            "Insula_L  Rectus_R \n",
            "Insula_L  Cingulum_Ant_R \n",
            "Insula_L  Cingulum_Mid_R \n",
            "Insula_L  Hippocampus_R \n",
            "Insula_L  Calcarine_L \n",
            "Insula_L  Occipital_Mid_L \n",
            "Insula_L  Occipital_Inf_R \n",
            "Insula_L  Fusiform_R \n",
            "Insula_L  Parietal_Sup_L \n",
            "Insula_L  SupraMarginal_L \n",
            "Insula_L  Angular_R \n",
            "Insula_L  Precuneus_L \n",
            "Insula_L  Caudate_R \n",
            "Insula_L  Pallidum_L \n",
            "Insula_L  Thalamus_L \n",
            "Insula_L  Thalamus_R \n",
            "Insula_L  Temporal_Pole_Sup_L \n",
            "Insula_L  Temporal_Pole_Mid_L \n",
            "Insula_L  Temporal_Pole_Mid_R \n",
            "Insula_L  Temporal_Inf_L \n",
            "Insula_R  Frontal_Sup_L \n",
            "Insula_R  Frontal_Sup_R \n",
            "Insula_R  Frontal_Sup_Orb_L \n",
            "Insula_R  Frontal_Mid_L \n",
            "Insula_R  Frontal_Inf_Oper_L \n",
            "Insula_R  Rolandic_Oper_R \n",
            "Insula_R  Supp_Motor_Area_L \n",
            "Insula_R  Frontal_Mid_Orb_R \n",
            "Insula_R  Cingulum_Post_L \n",
            "Insula_R  Cingulum_Post_R \n",
            "Insula_R  Hippocampus_L \n",
            "Insula_R  ParaHippocampal_R \n",
            "Insula_R  Calcarine_R \n",
            "Insula_R  Cuneus_R \n",
            "Insula_R  Lingual_L \n",
            "Insula_R  Postcentral_R \n",
            "Insula_R  Parietal_Sup_L \n",
            "Insula_R  Parietal_Sup_R \n",
            "Insula_R  SupraMarginal_L \n",
            "Insula_R  Angular_R \n",
            "Insula_R  Precuneus_L \n",
            "Insula_R  Caudate_R \n",
            "Insula_R  Putamen_L \n",
            "Insula_R  Pallidum_L \n",
            "Insula_R  Pallidum_R \n",
            "Insula_R  Heschl_R \n",
            "Insula_R  Temporal_Sup_L \n",
            "Insula_R  Temporal_Sup_R \n",
            "Insula_R  Temporal_Pole_Sup_R \n",
            "Insula_R  Temporal_Mid_R \n",
            "Insula_R  Temporal_Pole_Mid_L \n",
            "Insula_R  Temporal_Inf_L \n",
            "Cingulum_Ant_L  Precentral_L\n",
            "Cingulum_Ant_L  Frontal_Sup_L \n",
            "Cingulum_Ant_L  Frontal_Sup_Orb_L \n",
            "Cingulum_Ant_L  Frontal_Mid_R \n",
            "Cingulum_Ant_L  Frontal_Inf_Tri_R \n",
            "Cingulum_Ant_L  Frontal_Inf_Orb_R \n",
            "Cingulum_Ant_L  Supp_Motor_Area_L \n",
            "Cingulum_Ant_L  Olfactory_L \n",
            "Cingulum_Ant_L  Frontal_Sup_Medial_R \n",
            "Cingulum_Ant_L  Cingulum_Ant_L \n",
            "Cingulum_Ant_L  Cingulum_Ant_R \n",
            "Cingulum_Ant_L  Cingulum_Mid_L \n",
            "Cingulum_Ant_L  Hippocampus_L \n",
            "Cingulum_Ant_L  Hippocampus_R \n",
            "Cingulum_Ant_L  ParaHippocampal_R \n",
            "Cingulum_Ant_L  Calcarine_L \n",
            "Cingulum_Ant_L  Lingual_R \n",
            "Cingulum_Ant_L  Occipital_Mid_R \n",
            "Cingulum_Ant_L  Occipital_Inf_R \n",
            "Cingulum_Ant_L  Parietal_Sup_L \n",
            "Cingulum_Ant_L  Parietal_Inf_R \n",
            "Cingulum_Ant_L  Angular_L \n",
            "Cingulum_Ant_L  Angular_R \n",
            "Cingulum_Ant_L  Caudate_L \n",
            "Cingulum_Ant_L  Caudate_R \n",
            "Cingulum_Ant_L  Pallidum_L \n",
            "Cingulum_Ant_L  Pallidum_R \n",
            "Cingulum_Ant_L  Thalamus_R \n",
            "Cingulum_Ant_L  Temporal_Pole_Sup_L \n",
            "Cingulum_Ant_R  Precentral_R\n",
            "Cingulum_Ant_R  Frontal_Sup_L \n",
            "Cingulum_Ant_R  Frontal_Sup_R \n",
            "Cingulum_Ant_R  Frontal_Sup_Orb_L \n",
            "Cingulum_Ant_R  Frontal_Mid_L \n",
            "Cingulum_Ant_R  Frontal_Inf_Tri_R \n",
            "Cingulum_Ant_R  Frontal_Mid_Orb_L \n",
            "Cingulum_Ant_R  Frontal_Mid_Orb_R \n",
            "Cingulum_Ant_R  Rectus_R \n",
            "Cingulum_Ant_R  Insula_R \n",
            "Cingulum_Ant_R  Cingulum_Mid_L \n",
            "Cingulum_Ant_R  Cingulum_Mid_R \n",
            "Cingulum_Ant_R  Cingulum_Post_R \n",
            "Cingulum_Ant_R  Hippocampus_R \n",
            "Cingulum_Ant_R  ParaHippocampal_L \n",
            "Cingulum_Ant_R  ParaHippocampal_R \n",
            "Cingulum_Ant_R  Amygdala_R \n",
            "Cingulum_Ant_R  Calcarine_R \n",
            "Cingulum_Ant_R  Lingual_L \n",
            "Cingulum_Ant_R  Lingual_R \n",
            "Cingulum_Ant_R  Occipital_Mid_L \n",
            "Cingulum_Ant_R  Occipital_Mid_R \n",
            "Cingulum_Ant_R  Occipital_Inf_R \n",
            "Cingulum_Ant_R  Fusiform_R \n",
            "Cingulum_Ant_R  Postcentral_L \n",
            "Cingulum_Ant_R  Postcentral_R \n",
            "Cingulum_Ant_R  Parietal_Sup_R \n",
            "Cingulum_Ant_R  Parietal_Inf_R \n",
            "Cingulum_Ant_R  SupraMarginal_R \n",
            "Cingulum_Ant_R  Caudate_L \n",
            "Cingulum_Ant_R  Caudate_R \n",
            "Cingulum_Ant_R  Putamen_R \n",
            "Cingulum_Ant_R  Thalamus_R \n",
            "Cingulum_Ant_R  Heschl_R \n",
            "Cingulum_Ant_R  Temporal_Inf_L \n",
            "Cingulum_Ant_R  Temporal_Inf_R \n",
            "Cingulum_Mid_L  Frontal_Sup_R \n",
            "Cingulum_Mid_L  Frontal_Inf_Oper_R \n",
            "Cingulum_Mid_L  Supp_Motor_Area_R \n",
            "Cingulum_Mid_L  Olfactory_L \n",
            "Cingulum_Mid_L  Olfactory_R \n",
            "Cingulum_Mid_L  Frontal_Mid_Orb_R \n",
            "Cingulum_Mid_L  Rectus_R \n",
            "Cingulum_Mid_L  Insula_L \n",
            "Cingulum_Mid_L  Insula_R \n",
            "Cingulum_Mid_L  Cingulum_Ant_L \n",
            "Cingulum_Mid_L  Cingulum_Ant_R \n",
            "Cingulum_Mid_L  Cingulum_Mid_R \n",
            "Cingulum_Mid_L  Cingulum_Post_L \n",
            "Cingulum_Mid_L  Cingulum_Post_R \n",
            "Cingulum_Mid_L  Hippocampus_L \n",
            "Cingulum_Mid_L  Hippocampus_R \n",
            "Cingulum_Mid_L  ParaHippocampal_R \n",
            "Cingulum_Mid_L  Amygdala_L \n",
            "Cingulum_Mid_L  Calcarine_L \n",
            "Cingulum_Mid_L  Calcarine_R \n",
            "Cingulum_Mid_L  Cuneus_R \n",
            "Cingulum_Mid_L  Lingual_L \n",
            "Cingulum_Mid_L  Occipital_Sup_L \n",
            "Cingulum_Mid_L  Postcentral_L \n",
            "Cingulum_Mid_L  Postcentral_R \n",
            "Cingulum_Mid_L  Parietal_Sup_R \n",
            "Cingulum_Mid_L  SupraMarginal_L \n",
            "Cingulum_Mid_L  SupraMarginal_R \n",
            "Cingulum_Mid_L  Angular_L \n",
            "Cingulum_Mid_L  Angular_R \n",
            "Cingulum_Mid_L  Pallidum_L \n",
            "Cingulum_Mid_L  Pallidum_R \n",
            "Cingulum_Mid_L  Thalamus_L \n",
            "Cingulum_Mid_L  Heschl_L \n",
            "Cingulum_Mid_L  Heschl_R \n",
            "Cingulum_Mid_L  Temporal_Pole_Mid_L \n",
            "Cingulum_Mid_L  Temporal_Inf_L \n",
            "Cingulum_Mid_R  Frontal_Sup_Orb_L \n",
            "Cingulum_Mid_R  Frontal_Mid_L \n",
            "Cingulum_Mid_R  Frontal_Inf_Oper_L \n",
            "Cingulum_Mid_R  Frontal_Inf_Tri_L \n",
            "Cingulum_Mid_R  Rolandic_Oper_R \n",
            "Cingulum_Mid_R  Supp_Motor_Area_L \n",
            "Cingulum_Mid_R  Olfactory_R \n",
            "Cingulum_Mid_R  Frontal_Sup_Medial_L \n",
            "Cingulum_Mid_R  Frontal_Mid_Orb_L \n",
            "Cingulum_Mid_R  Rectus_R \n",
            "Cingulum_Mid_R  Insula_L \n",
            "Cingulum_Mid_R  Insula_R \n",
            "Cingulum_Mid_R  Cingulum_Post_L \n",
            "Cingulum_Mid_R  ParaHippocampal_R \n",
            "Cingulum_Mid_R  Fusiform_R \n",
            "Cingulum_Mid_R  SupraMarginal_R \n",
            "Cingulum_Mid_R  Precuneus_R \n",
            "Cingulum_Mid_R  Caudate_R \n",
            "Cingulum_Mid_R  Heschl_R \n",
            "Cingulum_Post_L  Frontal_Sup_R \n",
            "Cingulum_Post_L  Frontal_Mid_R \n",
            "Cingulum_Post_L  Frontal_Inf_Oper_L \n",
            "Cingulum_Post_L  Frontal_Inf_Tri_R \n",
            "Cingulum_Post_L  Olfactory_R \n",
            "Cingulum_Post_L  ParaHippocampal_R \n",
            "Cingulum_Post_L  Occipital_Mid_L \n",
            "Cingulum_Post_L  Postcentral_L \n",
            "Cingulum_Post_L  Postcentral_R \n",
            "Cingulum_Post_L  Thalamus_R \n",
            "Cingulum_Post_L  Temporal_Pole_Sup_L \n",
            "Cingulum_Post_L  Temporal_Pole_Sup_R \n",
            "Cingulum_Post_L  Temporal_Pole_Mid_L \n",
            "Cingulum_Post_R  Frontal_Sup_R \n",
            "Cingulum_Post_R  Frontal_Sup_Orb_R \n",
            "Cingulum_Post_R  Frontal_Mid_R \n",
            "Cingulum_Post_R  Frontal_Inf_Oper_R \n",
            "Cingulum_Post_R  Rolandic_Oper_L \n",
            "Cingulum_Post_R  Rectus_R \n",
            "Cingulum_Post_R  Insula_R \n",
            "Cingulum_Post_R  Cingulum_Ant_L \n",
            "Cingulum_Post_R  Cuneus_L \n",
            "Cingulum_Post_R  Occipital_Mid_L \n",
            "Cingulum_Post_R  Occipital_Mid_R \n",
            "Cingulum_Post_R  Postcentral_L \n",
            "Cingulum_Post_R  Parietal_Sup_L \n",
            "Cingulum_Post_R  Angular_L \n",
            "Cingulum_Post_R  Caudate_R \n",
            "Cingulum_Post_R  Thalamus_L \n",
            "Cingulum_Post_R  Heschl_L \n",
            "Cingulum_Post_R  Temporal_Sup_R \n",
            "Cingulum_Post_R  Temporal_Pole_Sup_R \n",
            "Cingulum_Post_R  Temporal_Mid_R \n",
            "Cingulum_Post_R  Temporal_Pole_Mid_R \n",
            "Hippocampus_L  Precentral_L\n",
            "Hippocampus_L  Frontal_Mid_R \n",
            "Hippocampus_L  Rolandic_Oper_L \n",
            "Hippocampus_L  Supp_Motor_Area_L \n",
            "Hippocampus_L  Olfactory_L \n",
            "Hippocampus_L  Cingulum_Post_R \n",
            "Hippocampus_L  Hippocampus_L \n",
            "Hippocampus_L  Amygdala_L \n",
            "Hippocampus_L  Postcentral_L \n",
            "Hippocampus_L  Parietal_Sup_R \n",
            "Hippocampus_L  Caudate_L \n",
            "Hippocampus_L  Putamen_L \n",
            "Hippocampus_L  Pallidum_L \n",
            "Hippocampus_L  Thalamus_L \n",
            "Hippocampus_L  Temporal_Sup_L \n",
            "Hippocampus_L  Temporal_Pole_Sup_L \n",
            "Hippocampus_L  Temporal_Mid_L \n",
            "Hippocampus_L  Temporal_Pole_Mid_R \n",
            "Hippocampus_R  Frontal_Inf_Oper_R \n",
            "Hippocampus_R  Rolandic_Oper_R \n",
            "Hippocampus_R  Supp_Motor_Area_R \n",
            "Hippocampus_R  Hippocampus_R \n",
            "Hippocampus_R  Calcarine_R \n",
            "Hippocampus_R  Cuneus_R \n",
            "Hippocampus_R  Fusiform_R \n",
            "Hippocampus_R  Parietal_Sup_R \n",
            "Hippocampus_R  SupraMarginal_L \n",
            "Hippocampus_R  Angular_L \n",
            "Hippocampus_R  Precuneus_L \n",
            "Hippocampus_R  Paracentral_Lobule_L \n",
            "Hippocampus_R  Putamen_R \n",
            "Hippocampus_R  Temporal_Inf_R \n",
            "ParaHippocampal_L  Precentral_L\n",
            "ParaHippocampal_L  Frontal_Inf_Tri_L \n",
            "ParaHippocampal_L  Cingulum_Ant_L \n",
            "ParaHippocampal_L  Hippocampus_L \n",
            "ParaHippocampal_L  ParaHippocampal_L \n",
            "ParaHippocampal_L  Cuneus_L \n",
            "ParaHippocampal_L  Occipital_Inf_R \n",
            "ParaHippocampal_L  Fusiform_R \n",
            "ParaHippocampal_L  Postcentral_L \n",
            "ParaHippocampal_L  Postcentral_R \n",
            "ParaHippocampal_L  Parietal_Sup_R \n",
            "ParaHippocampal_L  Precuneus_R \n",
            "ParaHippocampal_L  Putamen_L \n",
            "ParaHippocampal_L  Temporal_Mid_R \n",
            "ParaHippocampal_L  Temporal_Inf_L \n",
            "ParaHippocampal_R  Frontal_Inf_Oper_L \n",
            "ParaHippocampal_R  Rolandic_Oper_R \n",
            "ParaHippocampal_R  Supp_Motor_Area_L \n",
            "ParaHippocampal_R  Frontal_Sup_Medial_L \n",
            "ParaHippocampal_R  Calcarine_L \n",
            "ParaHippocampal_R  Cuneus_L \n",
            "ParaHippocampal_R  Lingual_R \n",
            "ParaHippocampal_R  Occipital_Sup_R \n",
            "ParaHippocampal_R  Occipital_Mid_R \n",
            "ParaHippocampal_R  Occipital_Inf_R \n",
            "ParaHippocampal_R  Postcentral_R \n",
            "ParaHippocampal_R  Parietal_Inf_L \n",
            "ParaHippocampal_R  Precuneus_R \n",
            "ParaHippocampal_R  Thalamus_L \n",
            "ParaHippocampal_R  Temporal_Inf_L \n",
            "Amygdala_L  Frontal_Sup_Orb_R \n",
            "Amygdala_L  Frontal_Inf_Oper_L \n",
            "Amygdala_L  Frontal_Inf_Oper_R \n",
            "Amygdala_L  Frontal_Inf_Orb_R \n",
            "Amygdala_L  Rolandic_Oper_R \n",
            "Amygdala_L  Supp_Motor_Area_R \n",
            "Amygdala_L  Olfactory_R \n",
            "Amygdala_L  Amygdala_L \n",
            "Amygdala_L  Calcarine_L \n",
            "Amygdala_L  Calcarine_R \n",
            "Amygdala_L  Cuneus_L \n",
            "Amygdala_L  Lingual_L \n",
            "Amygdala_L  Occipital_Mid_L \n",
            "Amygdala_L  Occipital_Mid_R \n",
            "Amygdala_L  Occipital_Inf_R \n",
            "Amygdala_L  Fusiform_L \n",
            "Amygdala_L  Fusiform_R \n",
            "Amygdala_L  Postcentral_L \n",
            "Amygdala_L  Caudate_R \n",
            "Amygdala_L  Pallidum_L \n",
            "Amygdala_L  Thalamus_L \n",
            "Amygdala_L  Temporal_Inf_L \n",
            "Amygdala_R  Frontal_Sup_L \n",
            "Amygdala_R  Frontal_Mid_L \n",
            "Amygdala_R  Frontal_Inf_Oper_R \n",
            "Amygdala_R  Frontal_Inf_Orb_R \n",
            "Amygdala_R  Rolandic_Oper_R \n",
            "Amygdala_R  Frontal_Sup_Medial_L \n",
            "Amygdala_R  Insula_R \n",
            "Amygdala_R  Cingulum_Mid_R \n",
            "Amygdala_R  Hippocampus_L \n",
            "Amygdala_R  ParaHippocampal_L \n",
            "Amygdala_R  Amygdala_L \n",
            "Amygdala_R  Calcarine_L \n",
            "Amygdala_R  Occipital_Mid_L \n",
            "Amygdala_R  Occipital_Mid_R \n",
            "Amygdala_R  Paracentral_Lobule_L \n",
            "Amygdala_R  Heschl_R \n",
            "Amygdala_R  Temporal_Sup_L \n",
            "Amygdala_R  Temporal_Sup_R \n",
            "Calcarine_L  Frontal_Sup_L \n",
            "Calcarine_L  Rolandic_Oper_L \n",
            "Calcarine_L  Frontal_Sup_Medial_R \n",
            "Calcarine_L  Insula_R \n",
            "Calcarine_L  Cingulum_Ant_R \n",
            "Calcarine_L  Cingulum_Mid_L \n",
            "Calcarine_L  Cingulum_Mid_R \n",
            "Calcarine_L  Cingulum_Post_R \n",
            "Calcarine_L  Hippocampus_R \n",
            "Calcarine_L  Amygdala_R \n",
            "Calcarine_L  Cuneus_R \n",
            "Calcarine_L  Lingual_L \n",
            "Calcarine_L  Precuneus_R \n",
            "Calcarine_L  Temporal_Inf_R \n",
            "Calcarine_R  Precentral_L\n",
            "Calcarine_R  Frontal_Inf_Tri_L \n",
            "Calcarine_R  Insula_R \n",
            "Calcarine_R  Cingulum_Ant_R \n",
            "Calcarine_R  Cingulum_Mid_R \n",
            "Calcarine_R  Cingulum_Post_R \n",
            "Calcarine_R  Amygdala_L \n",
            "Calcarine_R  Cuneus_L \n",
            "Calcarine_R  Lingual_L \n",
            "Calcarine_R  Pallidum_L \n",
            "Calcarine_R  Temporal_Pole_Mid_R \n",
            "Cuneus_L  Frontal_Sup_R \n",
            "Cuneus_L  Frontal_Inf_Oper_R \n",
            "Cuneus_L  Rectus_L \n",
            "Cuneus_L  Insula_L \n",
            "Cuneus_L  Cingulum_Ant_L \n",
            "Cuneus_L  Cingulum_Mid_L \n",
            "Cuneus_L  Hippocampus_L \n",
            "Cuneus_L  ParaHippocampal_R \n",
            "Cuneus_L  Calcarine_R \n"
          ]
        }
      ]
    },
    {
      "cell_type": "code",
      "source": [
        "kbest_lrc = model(**model_params)"
      ],
      "metadata": {
        "id": "7hstbLxzXF49"
      },
      "execution_count": 42,
      "outputs": []
    },
    {
      "cell_type": "code",
      "source": [
        "kbest_lrc.fit(X_train_selected_kbest_lrc, y_train)"
      ],
      "metadata": {
        "colab": {
          "base_uri": "https://localhost:8080/",
          "height": 74
        },
        "id": "ZRALPQYhOFQC",
        "outputId": "d95b2ce1-daed-4fcf-d532-293442c84107"
      },
      "execution_count": 43,
      "outputs": [
        {
          "output_type": "execute_result",
          "data": {
            "text/plain": [
              "LogisticRegression(C=0.001, class_weight='balanced', random_state=42)"
            ],
            "text/html": [
              "<style>#sk-container-id-3 {color: black;background-color: white;}#sk-container-id-3 pre{padding: 0;}#sk-container-id-3 div.sk-toggleable {background-color: white;}#sk-container-id-3 label.sk-toggleable__label {cursor: pointer;display: block;width: 100%;margin-bottom: 0;padding: 0.3em;box-sizing: border-box;text-align: center;}#sk-container-id-3 label.sk-toggleable__label-arrow:before {content: \"▸\";float: left;margin-right: 0.25em;color: #696969;}#sk-container-id-3 label.sk-toggleable__label-arrow:hover:before {color: black;}#sk-container-id-3 div.sk-estimator:hover label.sk-toggleable__label-arrow:before {color: black;}#sk-container-id-3 div.sk-toggleable__content {max-height: 0;max-width: 0;overflow: hidden;text-align: left;background-color: #f0f8ff;}#sk-container-id-3 div.sk-toggleable__content pre {margin: 0.2em;color: black;border-radius: 0.25em;background-color: #f0f8ff;}#sk-container-id-3 input.sk-toggleable__control:checked~div.sk-toggleable__content {max-height: 200px;max-width: 100%;overflow: auto;}#sk-container-id-3 input.sk-toggleable__control:checked~label.sk-toggleable__label-arrow:before {content: \"▾\";}#sk-container-id-3 div.sk-estimator input.sk-toggleable__control:checked~label.sk-toggleable__label {background-color: #d4ebff;}#sk-container-id-3 div.sk-label input.sk-toggleable__control:checked~label.sk-toggleable__label {background-color: #d4ebff;}#sk-container-id-3 input.sk-hidden--visually {border: 0;clip: rect(1px 1px 1px 1px);clip: rect(1px, 1px, 1px, 1px);height: 1px;margin: -1px;overflow: hidden;padding: 0;position: absolute;width: 1px;}#sk-container-id-3 div.sk-estimator {font-family: monospace;background-color: #f0f8ff;border: 1px dotted black;border-radius: 0.25em;box-sizing: border-box;margin-bottom: 0.5em;}#sk-container-id-3 div.sk-estimator:hover {background-color: #d4ebff;}#sk-container-id-3 div.sk-parallel-item::after {content: \"\";width: 100%;border-bottom: 1px solid gray;flex-grow: 1;}#sk-container-id-3 div.sk-label:hover label.sk-toggleable__label {background-color: #d4ebff;}#sk-container-id-3 div.sk-serial::before {content: \"\";position: absolute;border-left: 1px solid gray;box-sizing: border-box;top: 0;bottom: 0;left: 50%;z-index: 0;}#sk-container-id-3 div.sk-serial {display: flex;flex-direction: column;align-items: center;background-color: white;padding-right: 0.2em;padding-left: 0.2em;position: relative;}#sk-container-id-3 div.sk-item {position: relative;z-index: 1;}#sk-container-id-3 div.sk-parallel {display: flex;align-items: stretch;justify-content: center;background-color: white;position: relative;}#sk-container-id-3 div.sk-item::before, #sk-container-id-3 div.sk-parallel-item::before {content: \"\";position: absolute;border-left: 1px solid gray;box-sizing: border-box;top: 0;bottom: 0;left: 50%;z-index: -1;}#sk-container-id-3 div.sk-parallel-item {display: flex;flex-direction: column;z-index: 1;position: relative;background-color: white;}#sk-container-id-3 div.sk-parallel-item:first-child::after {align-self: flex-end;width: 50%;}#sk-container-id-3 div.sk-parallel-item:last-child::after {align-self: flex-start;width: 50%;}#sk-container-id-3 div.sk-parallel-item:only-child::after {width: 0;}#sk-container-id-3 div.sk-dashed-wrapped {border: 1px dashed gray;margin: 0 0.4em 0.5em 0.4em;box-sizing: border-box;padding-bottom: 0.4em;background-color: white;}#sk-container-id-3 div.sk-label label {font-family: monospace;font-weight: bold;display: inline-block;line-height: 1.2em;}#sk-container-id-3 div.sk-label-container {text-align: center;}#sk-container-id-3 div.sk-container {/* jupyter's `normalize.less` sets `[hidden] { display: none; }` but bootstrap.min.css set `[hidden] { display: none !important; }` so we also need the `!important` here to be able to override the default hidden behavior on the sphinx rendered scikit-learn.org. See: https://github.com/scikit-learn/scikit-learn/issues/21755 */display: inline-block !important;position: relative;}#sk-container-id-3 div.sk-text-repr-fallback {display: none;}</style><div id=\"sk-container-id-3\" class=\"sk-top-container\"><div class=\"sk-text-repr-fallback\"><pre>LogisticRegression(C=0.001, class_weight=&#x27;balanced&#x27;, random_state=42)</pre><b>In a Jupyter environment, please rerun this cell to show the HTML representation or trust the notebook. <br />On GitHub, the HTML representation is unable to render, please try loading this page with nbviewer.org.</b></div><div class=\"sk-container\" hidden><div class=\"sk-item\"><div class=\"sk-estimator sk-toggleable\"><input class=\"sk-toggleable__control sk-hidden--visually\" id=\"sk-estimator-id-3\" type=\"checkbox\" checked><label for=\"sk-estimator-id-3\" class=\"sk-toggleable__label sk-toggleable__label-arrow\">LogisticRegression</label><div class=\"sk-toggleable__content\"><pre>LogisticRegression(C=0.001, class_weight=&#x27;balanced&#x27;, random_state=42)</pre></div></div></div></div></div>"
            ]
          },
          "metadata": {},
          "execution_count": 43
        }
      ]
    },
    {
      "cell_type": "code",
      "source": [
        "print('Training performance:')\n",
        "evaluation(kbest_lrc,X_train_selected_kbest_lrc,y_train)"
      ],
      "metadata": {
        "colab": {
          "base_uri": "https://localhost:8080/"
        },
        "id": "RptKY-zzNuVI",
        "outputId": "ed59e386-ae20-4886-8546-92489a1c5153"
      },
      "execution_count": 44,
      "outputs": [
        {
          "output_type": "stream",
          "name": "stdout",
          "text": [
            "Training performance:\n",
            "accuracy:  0.97\n",
            "sensitivity:  0.99\n",
            "specificity:  0.96\n",
            "mean recall:  0.97\n"
          ]
        }
      ]
    },
    {
      "cell_type": "code",
      "source": [
        "print('Training performance CV:')\n",
        "evaluationCV(kbest_lrc,X_train_selected_kbest_lrc,y_train)"
      ],
      "metadata": {
        "colab": {
          "base_uri": "https://localhost:8080/"
        },
        "id": "ZnaMIbuOOWzE",
        "outputId": "ef4ab3c5-4808-4191-f360-2359129376f9"
      },
      "execution_count": 45,
      "outputs": [
        {
          "output_type": "stream",
          "name": "stdout",
          "text": [
            "Training performance CV:\n",
            "CV accuracy: 0.93\n",
            "CV sensitivity:  0.87\n",
            "CV specificity:  0.94\n",
            "CV mean recall:  0.91\n"
          ]
        }
      ]
    },
    {
      "cell_type": "markdown",
      "source": [
        "### **6.1.2 Training Random Forest Classifier with Selected Features**"
      ],
      "metadata": {
        "id": "9h25TAw0aG-u"
      }
    },
    {
      "cell_type": "code",
      "source": [
        "model_2 = RandomForestClassifier\n",
        "model_params_2 = {'random_state':42, 'class_weight' :'balanced', 'bootstrap' : False,\n",
        "                                     'max_depth' : 1, 'max_features' : 'sqrt',\n",
        "                                     'min_samples_split' : 3, 'n_estimators' : 300}\n",
        "\n",
        "\n",
        "grid_search_2, best_k_2, X_train_selected_kbest_rfc, X_test_selected_kbest_rfc  = select_k_best(model_2, model_params_2, X_train, y_train, X_test)"
      ],
      "metadata": {
        "colab": {
          "base_uri": "https://localhost:8080/"
        },
        "id": "_BmtRq_naSsB",
        "outputId": "59446073-9a49-4776-d438-37ff07445159"
      },
      "execution_count": 48,
      "outputs": [
        {
          "output_type": "stream",
          "name": "stdout",
          "text": [
            "Best k value: 405\n",
            "Precentral_L Rolandic_Oper_R \n",
            "Precentral_L Frontal_Mid_Orb_L \n",
            "Precentral_L Cingulum_Mid_L \n",
            "Precentral_L Occipital_Mid_R \n",
            "Precentral_L Heschl_R \n",
            "Precentral_R Hippocampus_L \n",
            "Precentral_R Angular_R \n",
            "Precentral_R Temporal_Sup_R \n",
            "Precentral_R Temporal_Mid_L \n",
            "Frontal_Sup_L  Frontal_Mid_R \n",
            "Frontal_Sup_L  Frontal_Inf_Oper_R \n",
            "Frontal_Sup_L  Rolandic_Oper_L \n",
            "Frontal_Sup_L  Cingulum_Ant_R \n",
            "Frontal_Sup_L  ParaHippocampal_L \n",
            "Frontal_Sup_L  Occipital_Inf_R \n",
            "Frontal_Sup_L  Paracentral_Lobule_R \n",
            "Frontal_Sup_L  Thalamus_L \n",
            "Frontal_Sup_R  Frontal_Sup_L \n",
            "Frontal_Sup_R  Parietal_Inf_R \n",
            "Frontal_Sup_R  Angular_R \n",
            "Frontal_Sup_R  Precuneus_R \n",
            "Frontal_Sup_Orb_L  Rolandic_Oper_L \n",
            "Frontal_Sup_Orb_L  Frontal_Mid_Orb_L \n",
            "Frontal_Sup_Orb_L  Occipital_Mid_R \n",
            "Frontal_Sup_Orb_L  Occipital_Inf_R \n",
            "Frontal_Sup_Orb_L  Fusiform_R \n",
            "Frontal_Sup_Orb_L  Parietal_Inf_R \n",
            "Frontal_Sup_Orb_L  Putamen_R \n",
            "Frontal_Sup_Orb_R  Frontal_Inf_Oper_R \n",
            "Frontal_Sup_Orb_R  Olfactory_L \n",
            "Frontal_Sup_Orb_R  Frontal_Mid_Orb_L \n",
            "Frontal_Sup_Orb_R  Amygdala_R \n",
            "Frontal_Sup_Orb_R  Calcarine_L \n",
            "Frontal_Sup_Orb_R  Precuneus_R \n",
            "Frontal_Sup_Orb_R  Paracentral_Lobule_L \n",
            "Frontal_Sup_Orb_R  Caudate_R \n",
            "Frontal_Sup_Orb_R  Temporal_Pole_Mid_R \n",
            "Frontal_Mid_L  Precentral_R\n",
            "Frontal_Mid_L  Frontal_Sup_R \n",
            "Frontal_Mid_L  Calcarine_L \n",
            "Frontal_Mid_L  Lingual_L \n",
            "Frontal_Mid_L  Pallidum_R \n",
            "Frontal_Mid_L  Thalamus_L \n",
            "Frontal_Mid_L  Heschl_R \n",
            "Frontal_Mid_L  Temporal_Sup_R \n",
            "Frontal_Mid_L  Temporal_Pole_Sup_L \n",
            "Frontal_Mid_L  Temporal_Pole_Mid_R \n",
            "Frontal_Mid_R  Cingulum_Post_R \n",
            "Frontal_Mid_R  Heschl_R \n",
            "Frontal_Mid_Orb_L  Frontal_Mid_Orb_R \n",
            "Frontal_Mid_Orb_L  Frontal_Inf_Oper_R \n",
            "Frontal_Mid_Orb_L  Supp_Motor_Area_L \n",
            "Frontal_Mid_Orb_L  Fusiform_L \n",
            "Frontal_Mid_Orb_L  Postcentral_L \n",
            "Frontal_Mid_Orb_L  Parietal_Inf_R \n",
            "Frontal_Mid_Orb_L  Precuneus_L \n",
            "Frontal_Mid_Orb_L  Thalamus_R \n",
            "Frontal_Mid_Orb_L  Temporal_Pole_Sup_L \n",
            "Frontal_Mid_Orb_L  Temporal_Inf_L \n",
            "Frontal_Mid_Orb_R  Frontal_Inf_Oper_L \n",
            "Frontal_Mid_Orb_R  Insula_L \n",
            "Frontal_Mid_Orb_R  ParaHippocampal_L \n",
            "Frontal_Mid_Orb_R  Occipital_Mid_L \n",
            "Frontal_Mid_Orb_R  Precuneus_R \n",
            "Frontal_Mid_Orb_R  Temporal_Inf_R \n",
            "Frontal_Inf_Oper_L  Hippocampus_L \n",
            "Frontal_Inf_Oper_L  Heschl_L \n",
            "Frontal_Inf_Oper_R  Cingulum_Ant_R \n",
            "Frontal_Inf_Oper_R  Cingulum_Mid_R \n",
            "Frontal_Inf_Oper_R  Occipital_Mid_R \n",
            "Frontal_Inf_Oper_R  Angular_R \n",
            "Frontal_Inf_Oper_R  Precuneus_L \n",
            "Frontal_Inf_Oper_R  Temporal_Sup_L \n",
            "Frontal_Inf_Oper_R  Temporal_Sup_R \n",
            "Frontal_Inf_Oper_R  Temporal_Mid_R \n",
            "Frontal_Inf_Tri_L  Precentral_R\n",
            "Frontal_Inf_Tri_L  Frontal_Mid_Orb_L \n",
            "Frontal_Inf_Tri_L  Frontal_Sup_Medial_L \n",
            "Frontal_Inf_Tri_L  Cingulum_Post_L \n",
            "Frontal_Inf_Tri_L  Calcarine_L \n",
            "Frontal_Inf_Tri_L  Temporal_Sup_L \n",
            "Frontal_Inf_Tri_R  ParaHippocampal_R \n",
            "Frontal_Inf_Tri_R  Occipital_Mid_L \n",
            "Frontal_Inf_Tri_R  Parietal_Inf_R \n",
            "Frontal_Inf_Tri_R  Thalamus_R \n",
            "Frontal_Inf_Tri_R  Temporal_Mid_R \n",
            "Frontal_Inf_Tri_R  Temporal_Pole_Mid_R \n",
            "Frontal_Inf_Orb_L  Frontal_Sup_R \n",
            "Frontal_Inf_Orb_L  Frontal_Sup_Orb_R \n",
            "Frontal_Inf_Orb_L  Frontal_Sup_Medial_L \n",
            "Frontal_Inf_Orb_L  Occipital_Sup_L \n",
            "Frontal_Inf_Orb_L  Angular_L \n",
            "Frontal_Inf_Orb_L  Putamen_L \n",
            "Frontal_Inf_Orb_L  Temporal_Inf_L \n",
            "Frontal_Inf_Orb_R  Frontal_Mid_L \n",
            "Frontal_Inf_Orb_R  Rolandic_Oper_L \n",
            "Frontal_Inf_Orb_R  Cingulum_Post_R \n",
            "Frontal_Inf_Orb_R  Parietal_Inf_R \n",
            "Frontal_Inf_Orb_R  Paracentral_Lobule_R \n",
            "Frontal_Inf_Orb_R  Pallidum_R \n",
            "Rolandic_Oper_L  Temporal_Pole_Sup_R \n",
            "Rolandic_Oper_R  Rolandic_Oper_L \n",
            "Rolandic_Oper_R  Olfactory_L \n",
            "Rolandic_Oper_R  Frontal_Sup_Medial_L \n",
            "Rolandic_Oper_R  Cingulum_Mid_L \n",
            "Rolandic_Oper_R  ParaHippocampal_L \n",
            "Rolandic_Oper_R  Occipital_Mid_R \n",
            "Rolandic_Oper_R  Putamen_R \n",
            "Rolandic_Oper_R  Pallidum_R \n",
            "Rolandic_Oper_R  Thalamus_R \n",
            "Rolandic_Oper_R  Heschl_R \n",
            "Rolandic_Oper_R  Temporal_Inf_R \n",
            "Supp_Motor_Area_L  Frontal_Sup_Orb_R \n",
            "Supp_Motor_Area_L  Rolandic_Oper_L \n",
            "Supp_Motor_Area_L  Occipital_Mid_R \n",
            "Supp_Motor_Area_L  Fusiform_R \n",
            "Supp_Motor_Area_L  SupraMarginal_R \n",
            "Supp_Motor_Area_R  Occipital_Sup_L \n",
            "Supp_Motor_Area_R  Parietal_Sup_L \n",
            "Supp_Motor_Area_R  Caudate_L \n",
            "Supp_Motor_Area_R  Putamen_L \n",
            "Supp_Motor_Area_R  Thalamus_L \n",
            "Supp_Motor_Area_R  Temporal_Pole_Sup_L \n",
            "Supp_Motor_Area_R  Temporal_Inf_L \n",
            "Olfactory_L  Precentral_L\n",
            "Olfactory_L  Rolandic_Oper_L \n",
            "Olfactory_L  Insula_L \n",
            "Olfactory_L  Cingulum_Post_R \n",
            "Olfactory_L  Amygdala_R \n",
            "Olfactory_L  Calcarine_R \n",
            "Olfactory_L  Lingual_R \n",
            "Olfactory_L  Postcentral_R \n",
            "Olfactory_L  Parietal_Sup_R \n",
            "Olfactory_L  Caudate_R \n",
            "Olfactory_L  Temporal_Inf_R \n",
            "Olfactory_R  Frontal_Mid_R \n",
            "Olfactory_R  Frontal_Inf_Oper_R \n",
            "Olfactory_R  Frontal_Inf_Tri_R \n",
            "Olfactory_R  Insula_R \n",
            "Olfactory_R  Parietal_Inf_R \n",
            "Olfactory_R  Caudate_L \n",
            "Olfactory_R  Pallidum_L \n",
            "Olfactory_R  Thalamus_L \n",
            "Frontal_Sup_Medial_L  Frontal_Sup_L \n",
            "Frontal_Sup_Medial_L  Cingulum_Mid_L \n",
            "Frontal_Sup_Medial_L  Cingulum_Post_L \n",
            "Frontal_Sup_Medial_L  Occipital_Inf_L \n",
            "Frontal_Sup_Medial_L  Postcentral_L \n",
            "Frontal_Sup_Medial_L  Parietal_Sup_L \n",
            "Frontal_Sup_Medial_L  SupraMarginal_L \n",
            "Frontal_Sup_Medial_L  Angular_L \n",
            "Frontal_Sup_Medial_L  Precuneus_L \n",
            "Frontal_Sup_Medial_L  Thalamus_L \n",
            "Frontal_Sup_Medial_L  Temporal_Pole_Sup_L \n",
            "Frontal_Sup_Medial_R  Frontal_Mid_L \n",
            "Frontal_Sup_Medial_R  Rolandic_Oper_R \n",
            "Frontal_Sup_Medial_R  Olfactory_R \n",
            "Frontal_Sup_Medial_R  Frontal_Sup_Medial_R \n",
            "Frontal_Sup_Medial_R  Rectus_R \n",
            "Frontal_Sup_Medial_R  Insula_R \n",
            "Frontal_Sup_Medial_R  Cingulum_Mid_R \n",
            "Frontal_Sup_Medial_R  ParaHippocampal_R \n",
            "Frontal_Sup_Medial_R  Amygdala_R \n",
            "Frontal_Sup_Medial_R  Calcarine_R \n",
            "Frontal_Sup_Medial_R  Occipital_Mid_R \n",
            "Frontal_Sup_Medial_R  Occipital_Inf_R \n",
            "Frontal_Sup_Medial_R  Paracentral_Lobule_R \n",
            "Frontal_Sup_Medial_R  Caudate_R \n",
            "Frontal_Mid_Orb_L  Rolandic_Oper_R \n",
            "Frontal_Mid_Orb_L  Parietal_Sup_L \n",
            "Frontal_Mid_Orb_R  Frontal_Sup_Orb_L \n",
            "Frontal_Mid_Orb_R  Frontal_Mid_Orb_L \n",
            "Frontal_Mid_Orb_R  Frontal_Inf_Orb_L \n",
            "Frontal_Mid_Orb_R  Olfactory_L \n",
            "Frontal_Mid_Orb_R  Cuneus_L \n",
            "Frontal_Mid_Orb_R  Occipital_Mid_L \n",
            "Rectus_L  Insula_R \n",
            "Rectus_R  Frontal_Sup_L \n",
            "Rectus_R  Frontal_Sup_R \n",
            "Rectus_R  Frontal_Sup_Orb_L \n",
            "Rectus_R  Frontal_Mid_R \n",
            "Rectus_R  Frontal_Inf_Orb_L \n",
            "Rectus_R  Olfactory_L \n",
            "Rectus_R  Rectus_L \n",
            "Rectus_R  Cingulum_Post_R \n",
            "Rectus_R  Calcarine_L \n",
            "Rectus_R  Calcarine_R \n",
            "Rectus_R  Occipital_Mid_R \n",
            "Rectus_R  Fusiform_R \n",
            "Rectus_R  Caudate_R \n",
            "Rectus_R  Putamen_R \n",
            "Rectus_R  Pallidum_L \n",
            "Rectus_R  Temporal_Pole_Sup_R \n",
            "Insula_L  Frontal_Sup_Orb_R \n",
            "Insula_L  Frontal_Inf_Tri_R \n",
            "Insula_L  Olfactory_R \n",
            "Insula_L  Rectus_R \n",
            "Insula_L  Hippocampus_R \n",
            "Insula_L  Calcarine_L \n",
            "Insula_L  Occipital_Mid_L \n",
            "Insula_L  Fusiform_R \n",
            "Insula_L  Parietal_Sup_L \n",
            "Insula_L  SupraMarginal_L \n",
            "Insula_L  Angular_R \n",
            "Insula_L  Precuneus_L \n",
            "Insula_L  Pallidum_L \n",
            "Insula_L  Thalamus_L \n",
            "Insula_L  Thalamus_R \n",
            "Insula_L  Temporal_Pole_Sup_L \n",
            "Insula_L  Temporal_Pole_Mid_L \n",
            "Insula_L  Temporal_Inf_L \n",
            "Insula_R  Frontal_Sup_L \n",
            "Insula_R  Frontal_Mid_L \n",
            "Insula_R  Frontal_Inf_Oper_L \n",
            "Insula_R  Supp_Motor_Area_L \n",
            "Insula_R  Frontal_Mid_Orb_R \n",
            "Insula_R  Cingulum_Post_L \n",
            "Insula_R  ParaHippocampal_R \n",
            "Insula_R  Calcarine_R \n",
            "Insula_R  Cuneus_R \n",
            "Insula_R  Lingual_L \n",
            "Insula_R  Postcentral_R \n",
            "Insula_R  Parietal_Sup_L \n",
            "Insula_R  Parietal_Sup_R \n",
            "Insula_R  Angular_R \n",
            "Insula_R  Precuneus_L \n",
            "Insula_R  Caudate_R \n",
            "Insula_R  Putamen_L \n",
            "Insula_R  Pallidum_L \n",
            "Insula_R  Pallidum_R \n",
            "Insula_R  Heschl_R \n",
            "Insula_R  Temporal_Sup_L \n",
            "Insula_R  Temporal_Sup_R \n",
            "Insula_R  Temporal_Pole_Sup_R \n",
            "Insula_R  Temporal_Pole_Mid_L \n",
            "Cingulum_Ant_L  Precentral_L\n",
            "Cingulum_Ant_L  Frontal_Sup_L \n",
            "Cingulum_Ant_L  Frontal_Sup_Orb_L \n",
            "Cingulum_Ant_L  Frontal_Mid_R \n",
            "Cingulum_Ant_L  Supp_Motor_Area_L \n",
            "Cingulum_Ant_L  Olfactory_L \n",
            "Cingulum_Ant_L  Frontal_Sup_Medial_R \n",
            "Cingulum_Ant_L  Cingulum_Ant_L \n",
            "Cingulum_Ant_L  Hippocampus_L \n",
            "Cingulum_Ant_L  Calcarine_L \n",
            "Cingulum_Ant_L  Lingual_R \n",
            "Cingulum_Ant_L  Occipital_Mid_R \n",
            "Cingulum_Ant_L  Parietal_Sup_L \n",
            "Cingulum_Ant_L  Parietal_Inf_R \n",
            "Cingulum_Ant_L  Angular_L \n",
            "Cingulum_Ant_L  Angular_R \n",
            "Cingulum_Ant_L  Caudate_R \n",
            "Cingulum_Ant_L  Pallidum_R \n",
            "Cingulum_Ant_L  Thalamus_R \n",
            "Cingulum_Ant_L  Temporal_Pole_Sup_L \n",
            "Cingulum_Ant_R  Precentral_R\n",
            "Cingulum_Ant_R  Frontal_Sup_L \n",
            "Cingulum_Ant_R  Frontal_Sup_R \n",
            "Cingulum_Ant_R  Frontal_Mid_L \n",
            "Cingulum_Ant_R  Frontal_Inf_Tri_R \n",
            "Cingulum_Ant_R  Frontal_Mid_Orb_L \n",
            "Cingulum_Ant_R  Frontal_Mid_Orb_R \n",
            "Cingulum_Ant_R  Cingulum_Mid_R \n",
            "Cingulum_Ant_R  Cingulum_Post_R \n",
            "Cingulum_Ant_R  ParaHippocampal_R \n",
            "Cingulum_Ant_R  Amygdala_R \n",
            "Cingulum_Ant_R  Lingual_L \n",
            "Cingulum_Ant_R  Lingual_R \n",
            "Cingulum_Ant_R  Occipital_Mid_R \n",
            "Cingulum_Ant_R  Occipital_Inf_R \n",
            "Cingulum_Ant_R  Postcentral_L \n",
            "Cingulum_Ant_R  Postcentral_R \n",
            "Cingulum_Ant_R  Parietal_Inf_R \n",
            "Cingulum_Ant_R  SupraMarginal_R \n",
            "Cingulum_Ant_R  Caudate_R \n",
            "Cingulum_Ant_R  Putamen_R \n",
            "Cingulum_Ant_R  Thalamus_R \n",
            "Cingulum_Ant_R  Heschl_R \n",
            "Cingulum_Ant_R  Temporal_Inf_R \n",
            "Cingulum_Mid_L  Frontal_Sup_R \n",
            "Cingulum_Mid_L  Frontal_Inf_Oper_R \n",
            "Cingulum_Mid_L  Supp_Motor_Area_R \n",
            "Cingulum_Mid_L  Olfactory_R \n",
            "Cingulum_Mid_L  Rectus_R \n",
            "Cingulum_Mid_L  Insula_L \n",
            "Cingulum_Mid_L  Insula_R \n",
            "Cingulum_Mid_L  Cingulum_Ant_L \n",
            "Cingulum_Mid_L  Cingulum_Ant_R \n",
            "Cingulum_Mid_L  Cingulum_Mid_R \n",
            "Cingulum_Mid_L  Cingulum_Post_L \n",
            "Cingulum_Mid_L  Cingulum_Post_R \n",
            "Cingulum_Mid_L  Hippocampus_R \n",
            "Cingulum_Mid_L  ParaHippocampal_R \n",
            "Cingulum_Mid_L  Amygdala_L \n",
            "Cingulum_Mid_L  Calcarine_R \n",
            "Cingulum_Mid_L  Lingual_L \n",
            "Cingulum_Mid_L  Occipital_Sup_L \n",
            "Cingulum_Mid_L  Postcentral_L \n",
            "Cingulum_Mid_L  Parietal_Sup_R \n",
            "Cingulum_Mid_L  SupraMarginal_L \n",
            "Cingulum_Mid_L  SupraMarginal_R \n",
            "Cingulum_Mid_L  Angular_L \n",
            "Cingulum_Mid_L  Angular_R \n",
            "Cingulum_Mid_L  Pallidum_L \n",
            "Cingulum_Mid_L  Temporal_Pole_Mid_L \n",
            "Cingulum_Mid_R  Frontal_Sup_Orb_L \n",
            "Cingulum_Mid_R  Frontal_Inf_Oper_L \n",
            "Cingulum_Mid_R  Frontal_Inf_Tri_L \n",
            "Cingulum_Mid_R  Rolandic_Oper_R \n",
            "Cingulum_Mid_R  Supp_Motor_Area_L \n",
            "Cingulum_Mid_R  Olfactory_R \n",
            "Cingulum_Mid_R  Frontal_Sup_Medial_L \n",
            "Cingulum_Mid_R  Frontal_Mid_Orb_L \n",
            "Cingulum_Mid_R  Rectus_R \n",
            "Cingulum_Mid_R  Insula_L \n",
            "Cingulum_Mid_R  Insula_R \n",
            "Cingulum_Mid_R  ParaHippocampal_R \n",
            "Cingulum_Post_L  Frontal_Sup_R \n",
            "Cingulum_Post_L  Frontal_Mid_R \n",
            "Cingulum_Post_L  Postcentral_L \n",
            "Cingulum_Post_L  Temporal_Pole_Sup_L \n",
            "Cingulum_Post_L  Temporal_Pole_Mid_L \n",
            "Cingulum_Post_R  Frontal_Sup_R \n",
            "Cingulum_Post_R  Frontal_Sup_Orb_R \n",
            "Cingulum_Post_R  Frontal_Mid_R \n",
            "Cingulum_Post_R  Rolandic_Oper_L \n",
            "Cingulum_Post_R  Occipital_Mid_L \n",
            "Cingulum_Post_R  Occipital_Mid_R \n",
            "Cingulum_Post_R  Postcentral_L \n",
            "Cingulum_Post_R  Angular_L \n",
            "Cingulum_Post_R  Heschl_L \n",
            "Cingulum_Post_R  Temporal_Sup_R \n",
            "Cingulum_Post_R  Temporal_Pole_Sup_R \n",
            "Cingulum_Post_R  Temporal_Mid_R \n",
            "Cingulum_Post_R  Temporal_Pole_Mid_R \n",
            "Hippocampus_L  Precentral_L\n",
            "Hippocampus_L  Frontal_Mid_R \n",
            "Hippocampus_L  Rolandic_Oper_L \n",
            "Hippocampus_L  Supp_Motor_Area_L \n",
            "Hippocampus_L  Cingulum_Post_R \n",
            "Hippocampus_L  Amygdala_L \n",
            "Hippocampus_L  Caudate_L \n",
            "Hippocampus_L  Putamen_L \n",
            "Hippocampus_L  Pallidum_L \n",
            "Hippocampus_L  Thalamus_L \n",
            "Hippocampus_L  Temporal_Pole_Sup_L \n",
            "Hippocampus_L  Temporal_Pole_Mid_R \n",
            "Hippocampus_R  Rolandic_Oper_R \n",
            "Hippocampus_R  Supp_Motor_Area_R \n",
            "Hippocampus_R  Hippocampus_R \n",
            "Hippocampus_R  Calcarine_R \n",
            "Hippocampus_R  SupraMarginal_L \n",
            "Hippocampus_R  Angular_L \n",
            "Hippocampus_R  Precuneus_L \n",
            "Hippocampus_R  Paracentral_Lobule_L \n",
            "Hippocampus_R  Putamen_R \n",
            "ParaHippocampal_L  Hippocampus_L \n",
            "ParaHippocampal_L  Occipital_Inf_R \n",
            "ParaHippocampal_L  Postcentral_R \n",
            "ParaHippocampal_L  Parietal_Sup_R \n",
            "ParaHippocampal_L  Precuneus_R \n",
            "ParaHippocampal_R  Lingual_R \n",
            "ParaHippocampal_R  Occipital_Sup_R \n",
            "ParaHippocampal_R  Occipital_Mid_R \n",
            "ParaHippocampal_R  Occipital_Inf_R \n",
            "ParaHippocampal_R  Precuneus_R \n",
            "ParaHippocampal_R  Thalamus_L \n",
            "Amygdala_L  Frontal_Sup_Orb_R \n",
            "Amygdala_L  Frontal_Inf_Oper_R \n",
            "Amygdala_L  Supp_Motor_Area_R \n",
            "Amygdala_L  Olfactory_R \n",
            "Amygdala_L  Amygdala_L \n",
            "Amygdala_L  Calcarine_L \n",
            "Amygdala_L  Calcarine_R \n",
            "Amygdala_L  Cuneus_L \n",
            "Amygdala_L  Lingual_L \n",
            "Amygdala_L  Occipital_Mid_R \n",
            "Amygdala_L  Occipital_Inf_R \n",
            "Amygdala_L  Postcentral_L \n",
            "Amygdala_L  Pallidum_L \n",
            "Amygdala_R  Frontal_Sup_Medial_L \n",
            "Amygdala_R  Hippocampus_L \n",
            "Amygdala_R  ParaHippocampal_L \n",
            "Amygdala_R  Amygdala_L \n",
            "Amygdala_R  Calcarine_L \n",
            "Amygdala_R  Occipital_Mid_R \n",
            "Amygdala_R  Paracentral_Lobule_L \n",
            "Amygdala_R  Temporal_Sup_L \n",
            "Calcarine_L  Cingulum_Ant_R \n",
            "Calcarine_L  Cingulum_Mid_R \n",
            "Calcarine_L  Cingulum_Post_R \n",
            "Calcarine_L  Hippocampus_R \n",
            "Calcarine_L  Amygdala_R \n",
            "Calcarine_L  Lingual_L \n",
            "Calcarine_R  Precentral_L\n",
            "Calcarine_R  Insula_R \n",
            "Calcarine_R  Cingulum_Ant_R \n",
            "Calcarine_R  Cingulum_Mid_R \n",
            "Calcarine_R  Amygdala_L \n",
            "Calcarine_R  Lingual_L \n",
            "Cuneus_L  Frontal_Inf_Oper_R \n",
            "Cuneus_L  Rectus_L \n",
            "Cuneus_L  Insula_L \n",
            "Cuneus_L  Cingulum_Mid_L \n",
            "Cuneus_L  Calcarine_R \n"
          ]
        }
      ]
    },
    {
      "cell_type": "code",
      "source": [
        "kbest_rfc = model_2(**model_params_2)"
      ],
      "metadata": {
        "id": "WxByHz8Ab0Tm"
      },
      "execution_count": 49,
      "outputs": []
    },
    {
      "cell_type": "code",
      "source": [
        "kbest_rfc.fit(X_train_selected_kbest_rfc, y_train)"
      ],
      "metadata": {
        "colab": {
          "base_uri": "https://localhost:8080/",
          "height": 91
        },
        "id": "S3RzdlSYb6lp",
        "outputId": "92488d8e-928f-4a06-e363-b4c45b6f3f38"
      },
      "execution_count": 50,
      "outputs": [
        {
          "output_type": "execute_result",
          "data": {
            "text/plain": [
              "RandomForestClassifier(bootstrap=False, class_weight='balanced', max_depth=1,\n",
              "                       min_samples_split=3, n_estimators=300, random_state=42)"
            ],
            "text/html": [
              "<style>#sk-container-id-4 {color: black;background-color: white;}#sk-container-id-4 pre{padding: 0;}#sk-container-id-4 div.sk-toggleable {background-color: white;}#sk-container-id-4 label.sk-toggleable__label {cursor: pointer;display: block;width: 100%;margin-bottom: 0;padding: 0.3em;box-sizing: border-box;text-align: center;}#sk-container-id-4 label.sk-toggleable__label-arrow:before {content: \"▸\";float: left;margin-right: 0.25em;color: #696969;}#sk-container-id-4 label.sk-toggleable__label-arrow:hover:before {color: black;}#sk-container-id-4 div.sk-estimator:hover label.sk-toggleable__label-arrow:before {color: black;}#sk-container-id-4 div.sk-toggleable__content {max-height: 0;max-width: 0;overflow: hidden;text-align: left;background-color: #f0f8ff;}#sk-container-id-4 div.sk-toggleable__content pre {margin: 0.2em;color: black;border-radius: 0.25em;background-color: #f0f8ff;}#sk-container-id-4 input.sk-toggleable__control:checked~div.sk-toggleable__content {max-height: 200px;max-width: 100%;overflow: auto;}#sk-container-id-4 input.sk-toggleable__control:checked~label.sk-toggleable__label-arrow:before {content: \"▾\";}#sk-container-id-4 div.sk-estimator input.sk-toggleable__control:checked~label.sk-toggleable__label {background-color: #d4ebff;}#sk-container-id-4 div.sk-label input.sk-toggleable__control:checked~label.sk-toggleable__label {background-color: #d4ebff;}#sk-container-id-4 input.sk-hidden--visually {border: 0;clip: rect(1px 1px 1px 1px);clip: rect(1px, 1px, 1px, 1px);height: 1px;margin: -1px;overflow: hidden;padding: 0;position: absolute;width: 1px;}#sk-container-id-4 div.sk-estimator {font-family: monospace;background-color: #f0f8ff;border: 1px dotted black;border-radius: 0.25em;box-sizing: border-box;margin-bottom: 0.5em;}#sk-container-id-4 div.sk-estimator:hover {background-color: #d4ebff;}#sk-container-id-4 div.sk-parallel-item::after {content: \"\";width: 100%;border-bottom: 1px solid gray;flex-grow: 1;}#sk-container-id-4 div.sk-label:hover label.sk-toggleable__label {background-color: #d4ebff;}#sk-container-id-4 div.sk-serial::before {content: \"\";position: absolute;border-left: 1px solid gray;box-sizing: border-box;top: 0;bottom: 0;left: 50%;z-index: 0;}#sk-container-id-4 div.sk-serial {display: flex;flex-direction: column;align-items: center;background-color: white;padding-right: 0.2em;padding-left: 0.2em;position: relative;}#sk-container-id-4 div.sk-item {position: relative;z-index: 1;}#sk-container-id-4 div.sk-parallel {display: flex;align-items: stretch;justify-content: center;background-color: white;position: relative;}#sk-container-id-4 div.sk-item::before, #sk-container-id-4 div.sk-parallel-item::before {content: \"\";position: absolute;border-left: 1px solid gray;box-sizing: border-box;top: 0;bottom: 0;left: 50%;z-index: -1;}#sk-container-id-4 div.sk-parallel-item {display: flex;flex-direction: column;z-index: 1;position: relative;background-color: white;}#sk-container-id-4 div.sk-parallel-item:first-child::after {align-self: flex-end;width: 50%;}#sk-container-id-4 div.sk-parallel-item:last-child::after {align-self: flex-start;width: 50%;}#sk-container-id-4 div.sk-parallel-item:only-child::after {width: 0;}#sk-container-id-4 div.sk-dashed-wrapped {border: 1px dashed gray;margin: 0 0.4em 0.5em 0.4em;box-sizing: border-box;padding-bottom: 0.4em;background-color: white;}#sk-container-id-4 div.sk-label label {font-family: monospace;font-weight: bold;display: inline-block;line-height: 1.2em;}#sk-container-id-4 div.sk-label-container {text-align: center;}#sk-container-id-4 div.sk-container {/* jupyter's `normalize.less` sets `[hidden] { display: none; }` but bootstrap.min.css set `[hidden] { display: none !important; }` so we also need the `!important` here to be able to override the default hidden behavior on the sphinx rendered scikit-learn.org. See: https://github.com/scikit-learn/scikit-learn/issues/21755 */display: inline-block !important;position: relative;}#sk-container-id-4 div.sk-text-repr-fallback {display: none;}</style><div id=\"sk-container-id-4\" class=\"sk-top-container\"><div class=\"sk-text-repr-fallback\"><pre>RandomForestClassifier(bootstrap=False, class_weight=&#x27;balanced&#x27;, max_depth=1,\n",
              "                       min_samples_split=3, n_estimators=300, random_state=42)</pre><b>In a Jupyter environment, please rerun this cell to show the HTML representation or trust the notebook. <br />On GitHub, the HTML representation is unable to render, please try loading this page with nbviewer.org.</b></div><div class=\"sk-container\" hidden><div class=\"sk-item\"><div class=\"sk-estimator sk-toggleable\"><input class=\"sk-toggleable__control sk-hidden--visually\" id=\"sk-estimator-id-4\" type=\"checkbox\" checked><label for=\"sk-estimator-id-4\" class=\"sk-toggleable__label sk-toggleable__label-arrow\">RandomForestClassifier</label><div class=\"sk-toggleable__content\"><pre>RandomForestClassifier(bootstrap=False, class_weight=&#x27;balanced&#x27;, max_depth=1,\n",
              "                       min_samples_split=3, n_estimators=300, random_state=42)</pre></div></div></div></div></div>"
            ]
          },
          "metadata": {},
          "execution_count": 50
        }
      ]
    },
    {
      "cell_type": "code",
      "source": [
        "print('Training performance:')\n",
        "evaluation(kbest_rfc,X_train_selected_kbest_rfc,y_train)"
      ],
      "metadata": {
        "colab": {
          "base_uri": "https://localhost:8080/"
        },
        "id": "tpk_L7PXcAb9",
        "outputId": "6fccddf4-166a-43af-9aeb-4392e9e0927b"
      },
      "execution_count": 51,
      "outputs": [
        {
          "output_type": "stream",
          "name": "stdout",
          "text": [
            "Training performance:\n",
            "accuracy:  0.93\n",
            "sensitivity:  0.89\n",
            "specificity:  0.94\n",
            "mean recall:  0.91\n"
          ]
        }
      ]
    },
    {
      "cell_type": "code",
      "source": [
        "print('Training performance CV:')\n",
        "evaluationCV(kbest_rfc,X_train_selected_kbest_rfc,y_train)"
      ],
      "metadata": {
        "colab": {
          "base_uri": "https://localhost:8080/"
        },
        "id": "nkXhay6QcFGJ",
        "outputId": "3a6c10f6-b124-422a-b8ad-93cd42095c52"
      },
      "execution_count": 52,
      "outputs": [
        {
          "output_type": "stream",
          "name": "stdout",
          "text": [
            "Training performance CV:\n",
            "CV accuracy: 0.87\n",
            "CV sensitivity:  0.76\n",
            "CV specificity:  0.9\n",
            "CV mean recall:  0.83\n"
          ]
        }
      ]
    },
    {
      "cell_type": "markdown",
      "source": [
        "## **6.2 Comparing Test Set Results**"
      ],
      "metadata": {
        "id": "b1fsWdnRJwOX"
      }
    },
    {
      "cell_type": "markdown",
      "source": [
        "### **6.2.1 Logistic Regression Classifier**"
      ],
      "metadata": {
        "id": "wDKkdINCKDTt"
      }
    },
    {
      "cell_type": "code",
      "source": [
        "print('Test performance:')\n",
        "evaluation(tuned_model,X_test,y_test)"
      ],
      "metadata": {
        "colab": {
          "base_uri": "https://localhost:8080/"
        },
        "id": "TcGuduSAJ1Qg",
        "outputId": "55be321e-87cc-4de0-9dd4-7db08117d370"
      },
      "execution_count": 36,
      "outputs": [
        {
          "output_type": "stream",
          "name": "stdout",
          "text": [
            "Test performance:\n",
            "accuracy:  0.94\n",
            "sensitivity:  0.76\n",
            "specificity:  0.99\n",
            "mean recall:  0.88\n"
          ]
        }
      ]
    },
    {
      "cell_type": "markdown",
      "source": [
        "### **6.2.2 Logistic Regression Classifier & SelectKBest**"
      ],
      "metadata": {
        "id": "ZrlaT0FKLS_K"
      }
    },
    {
      "cell_type": "code",
      "source": [
        "print('Test performance:')\n",
        "evaluation(kbest_lrc, X_test_selected_kbest_lrc,y_test)"
      ],
      "metadata": {
        "colab": {
          "base_uri": "https://localhost:8080/"
        },
        "id": "G7u6iv7YLZjP",
        "outputId": "e49fc8e1-6ea3-4a9f-c04e-84740232e6ea"
      },
      "execution_count": 46,
      "outputs": [
        {
          "output_type": "stream",
          "name": "stdout",
          "text": [
            "Test performance:\n",
            "accuracy:  0.93\n",
            "sensitivity:  0.76\n",
            "specificity:  0.97\n",
            "mean recall:  0.87\n"
          ]
        }
      ]
    },
    {
      "cell_type": "markdown",
      "source": [
        "### **6.2.3 Random Forest Classifier**"
      ],
      "metadata": {
        "id": "HMPpC9BKKQNv"
      }
    },
    {
      "cell_type": "code",
      "source": [
        "print('Test performance:')\n",
        "evaluation(tuned_model_2,X_test,y_test)"
      ],
      "metadata": {
        "colab": {
          "base_uri": "https://localhost:8080/"
        },
        "id": "pKwlYHLbKUh2",
        "outputId": "408c5dc1-e2ce-4894-a5b7-5d770204d62a"
      },
      "execution_count": 47,
      "outputs": [
        {
          "output_type": "stream",
          "name": "stdout",
          "text": [
            "Test performance:\n",
            "accuracy:  0.84\n",
            "sensitivity:  0.65\n",
            "specificity:  0.89\n",
            "mean recall:  0.77\n"
          ]
        }
      ]
    },
    {
      "cell_type": "markdown",
      "source": [
        "### **6.2.4 Random Forest Classifier & SelectKBest**"
      ],
      "metadata": {
        "id": "FnRXw5QccimL"
      }
    },
    {
      "cell_type": "code",
      "source": [
        "print('Test performance:')\n",
        "evaluation(kbest_rfc, X_test_selected_kbest_rfc,y_test)"
      ],
      "metadata": {
        "colab": {
          "base_uri": "https://localhost:8080/"
        },
        "id": "oujazjRKcn8z",
        "outputId": "f58b6e9a-64d7-4126-c93a-47ea7bec4595"
      },
      "execution_count": 53,
      "outputs": [
        {
          "output_type": "stream",
          "name": "stdout",
          "text": [
            "Test performance:\n",
            "accuracy:  0.86\n",
            "sensitivity:  0.71\n",
            "specificity:  0.9\n",
            "mean recall:  0.8\n"
          ]
        }
      ]
    }
  ]
}